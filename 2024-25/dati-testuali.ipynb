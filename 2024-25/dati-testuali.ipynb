{
 "cells": [
  {
   "cell_type": "markdown",
   "metadata": {
    "vscode": {
     "languageId": "plaintext"
    }
   },
   "source": [
    "#### Tecnologie dei dati e del linguaggio\n",
    "# Dati e informazione\n",
    "### Prof. Alfio Ferrara\n"
   ]
  },
  {
   "cell_type": "markdown",
   "metadata": {},
   "source": [
    "## Introduzione al trattamento del dato testuale"
   ]
  },
  {
   "cell_type": "code",
   "execution_count": 2,
   "metadata": {},
   "outputs": [],
   "source": [
    "import pandas as pd\n",
    "import numpy as np\n",
    "from data.recipedata import ItalianRecipes"
   ]
  },
  {
   "cell_type": "code",
   "execution_count": 3,
   "metadata": {},
   "outputs": [],
   "source": [
    "R = ItalianRecipes(file_path=\"/Users/Flint/Data/recipes/it_recipes.csv\")"
   ]
  },
  {
   "cell_type": "code",
   "execution_count": 16,
   "metadata": {},
   "outputs": [],
   "source": [
    "docs = [x for x in R.df['Steps'].values if not pd.isnull(x)]"
   ]
  },
  {
   "cell_type": "code",
   "execution_count": 17,
   "metadata": {},
   "outputs": [
    {
     "name": "stdout",
     "output_type": "stream",
     "text": [
      "Per preparare il tiramisù preparate il caffé con la moka per ottenerne 300 g, poi zuccherate a piacere (noi abbiamo messo un cucchiaino) e lasciatelo raffreddare in una ciotolina bassa e ampia. Separate le uova dividendo gli albumi dai tuorli ricordando che per montare bene gli albumi non dovranno presentare alcuna traccia di tuorlo. Montate i tuorli con le fruste elettriche, versando solo metà dose di zucchero Non appena il composto sarà diventato chiaro e spumoso, e con le fruste ancora in funzione, potrete aggiungere il mascarpone, poco alla volta Incorporato tutto il formaggio avrete ottenuto una crema densa e compatta Quando saranno schiumosi versate il restante zucchero un po’ alla volta Dovrete montarli a neve ben ferma così stempererete il composto. Dopodiché procedete ad aggiungere la restante parte di albumi, poco alla volta mescolando molto delicatamente dal basso verso l'alto La crema al mascarpone è ora pronta Distribuitene una generosa cucchiaiata sul fondo di una pirofila di vetro, grande 30x19,5cm e distribuite per bene su tutta la base. Inzuppate per pochi istanti i savoiardi nel caffè freddo prima da un lato e poi dall’altro Man mano distribuite i savoiardi imbevuti nella pirofila, cercando di sistemarli tutti in un verso, così da ottenere un primo strato di biscotti Aggiungete altra crema al mascarpone e livellatela in modo da coprirli completamente E continuate a distribuire i savoiardi imbevuti nel caffè poi realizzate un altro strato di crema Trasferite la crema rimasta in un sac-à-poche con beccuccio liscio di diametro 12 mm e realizzare dei ciuffetti per tutta la dimensione della teglia Spolverizzatela con del cacao amaro in polvere Il vostro tiramisù è pronto per essere gustato!\n",
      "\n",
      "Per preparare i cookies, assicuratevi che il burro sia morbido. Quindi versate in una ciotola lo zucchero di canna e quello semolato Unite un pizzico di sale Lavorate con le fruste elettriche fino ad amalgamare gli ingredienti aggiungete l'uovo Quando sarà ben assorbito unite la farina Lavorate con le fruste elettriche Aggiungete le gocce di cioccolato Adesso utilizzando uno spallinatore da 5 cm di diametro prelevate una porzione di impasto (circa 40-45 g) Quindi adagiate su una leccarda rivestita con carta forno le palline, ben distanziate tra loro in cottura infatti tenderanno ad allargarsi molto. Cuocete in forno statico preriscaldato a 190° per 13-15 minuti sino a che non saranno ben dorati. Sfornate lasciate raffreddare e servite i vostri cookies \n",
      "\n",
      "Iniziamo la preparazione dei pancake fondendo il burro a fuoco bassissimo, quindi lasciate intiepidire. Intanto dividete gli albumi dai tuorli. Versate i tuorli in una ciotola e sbatteteli con una frusta a mano poi unite il burro fuso a temperatura ambiente Montate il composto finchè non risulterà chiaro.Unite il lievito alla farina mescolate con la frusta per amalgamare Ora montate gli albumi che avete tenuto da parte, versando poco alla volta lo zucchero Mettete a scaldare sul fuoco medio (non alto altrimenti non darete il tempo all'impasto di lievitare bene durante la cottura e i pancake diventeranno troppo scuri) una padella ampia antiaderente (meglio se a fondo spesso) e, se necessario, ungete con poco burro da spandere sulla superficie con l'aiuto di carta da cucina. Versate al centro del pentolino un mestolino di preparato non ci sarà bisogno di spanderlo.Quando inizieranno a comparire delle bollicine in superficie e la base sarà dorata, giratelo sull’altro lato per mezzo di una spatolina come se fosse una crepe o una frittata, quindi fate dorare a sua volta anche l'altro lato, dopodichè il pancake sarà pronto Proseguite così con il resto dell'impasto e man a mano disponete i pancake su un piatto da portata, impilateli uno sopra l'altro. Con queste dosi dovrebbero formarsi all'incirca 12 pancake. Serviteli caldi e cosparsi di sciroppo d’acero Potete accompagnare i pancake con della frutta fresca o sciroppata di vostro gusto.\n",
      "\n",
      "Per preparare la crema al mascarpone versate in un pentolino l'acqua mescolate leggermente e portate il composto a 121°C misurando la temperatura con un termometro da cucina Poco prima di raggiungere i 121°C (quindi verso i 115°C), cominciate a montare i tuorli con le fruste elettriche Continuate a montare fino al completo raffreddamento Si ottiene così la pate à bombe, la base di tante preparazioni di pasticceria.In una ciotola ammorbidite il mascarpone con una spatola poi aggiungete poco alla volta il composto di tuorli oramai freddo. Incorporate con le fruste o con una marisa, mescolando man mano La vostra crema al mascarpone è pronta! Potete gustarla insieme a una fetta di panettone o pandoro oppure come dessert al cucchiaio guarnendo a piacere con del cacao amaro setacciato \n",
      "\n",
      "Per preparare le crepe dolci e salate iniziate rompendo le uova in una ciotola dai bordi alti Mescolate accuratamente per amalgamare questi due ingredienti Posizionate un colino sul recipiente e poi setacciate la farina nella ciotola (per comodità potete anche aggiungerla in due tempi e mescolare così da evitare la formazione di grumi). Poi con le fruste mescolate energicamente per assorbire la farina Continuate a mescolare fino ad ottenere un composto omogeneo, vellutato e privo di grumi A questo punto coprite la ciotola con della pellicola alimentare trasparente e lasciate riposare per almeno 30 minuti in frigorifero: questa operazione serve a far assorbire eventuali grumi Trascorso il tempo mescolate l’impasto per farlo rinvenire Trascorso circa 1 minuto a fuoco medio-basso, dovreste notare una leggera doratura, i bordi tenderanno a staccarsi perciò potrete girare la prima crepe aiutandovi con una paletta Cuocete anche l'altro lato per 1 minuto circa, aspettando che prenda colore Una volta cotta la prima, strasferitela su un piatto da portata o su di un tagliere. Ripetete questa operazione fino a finire l’impasto, dovreste ottenere così 15 crepe del diametro di 20 cm: impilate ogni crepe una sopra l’altra così resteranno morbide. Ecco pronte le vostre crepe dolci e salate, non vi resta che farcirle \n",
      "\n",
      "Per preparare le lasagne alla bolognese, iniziate dal ragù. Preparate il brodo vegetale che dovrete tenere in caldo. Poi prendete la pancetta, tagliatela prima a striscioline Con un coltello o una mezzaluna sminuzzatela per bene A parte preparate un trito fine con carote, cipolle, sedano e tenetelo da parte In una casseruola versate un filo d'olio e la pancetta. Sgranatela bene con un mestolo Aggiungete poi la carne macinata Mescolate e alzate la fiamma. Lasciate rosolare la carne senza fretta, dovrà essere ben rosolata per sigillare i succhi e risultare morbida non stopposa.Sfumate con il vino rosso poi aspettate che sia completamente evaporato e aggiungete la passata di pomodoro Mescolate, il ragù deve cuocere due ore. Quando ha ripreso il bollore potete aggiungete poco brodo caldo, uno o due mestoli Poi fate andare il ragù per un paio d'ore almeno.Dovrete cuocere con il coperchio, senza chiudere del tutto Controllate e mescolate di tanto in tanto, al bisogno aggiungete altro brodo e lasciate cuocere per il tempo indicato. Passate adesso alla pasta. Come prima cosa versate gli spinaci in un tegame aggiungete poca acqua, coprite con un coperchio e lasciate cuocere fino a che non saranno appassiti, in totale ci vorranno 5-6 minuti A questo punto scolateli, lasciateli intiepidire e strizzateli bene Trasferiteli in un mixer e frullateli fino ad ottenere una purea Dovrete ricavarne 100 g. Adesso su una spianatoia versate la semola e la farina 00 aggiungete gli spinaci e create una forma a fontana. Unite le uova leggermente sbattute e i tuorli, sempre sbattuti Iniziate ad impastare il tutto partendo dal centro in questo modo le uova non scivoleranno fuori dalla fontana. Impastate bene fino ad ottenere un panetto omogeneo Avvolgetelo nella pellicola senza farlo bollire. In un altro tegame versate il burro Aggiungete la farina in una volta sola Versate quindi il latte caldo in 3 volte mescolando bene. Aggiungete il sale e aromatizzate con la noce moscata Continuate a mescolare fino ad ottenere una besciamella cremosa Trasferite in una ciotolina, coprite con pellicola a contatto e tenete da parte. Non appena saranno trascorsi i 30 minuti riprendete il panetto di pasta e prelevatene un pezzo Coprite la pasta restante con la pellicola per non farla seccare.Aiutandovi con un po' di semola appiattitelo leggermente sulla spianatoia in modo da formare un rettangolo e stendete la pasta nella macchina. Iniziate da uno spessore più largo, poi ripiegate la passa su se stessa e ripassatela. Quando sentite che è troppo umida spolverizzate con un po' di semola. Riducete man mano lo spessore fino ad ottenere una sfoglia spessa poco più di mezzo mm. Trasferitela su una spianatoia e tagliate dei rettangoli grandi 30x20 cm Proseguite in questo modo fino a terminare l'impasto e nel frattempo mettete sul fuoco una pentola colma d'acqua e salatela. Quando inizierà a bollire mmergete una sfoglia alla volta aspettate 30-40 secondi e aiutandovi con una schiumarola scolatela Trasferitela su un vassoio con un canovaccio Prendete una teglia da lasagna grande 30x20 cm e imburrate il fondo Aggiungete uno strato sottile di besciamella e uno di ragù Posizionate quindi la prima sfoglia aggiungete uno strato di besciamella e uno di ragù Aggiungete il parmigiano grattugiato Aggiungete ancora uno strato di besciamella e uno di ragù unite il formaggio grattugiato in modo da coprire interamente la pasta Spolverizzate con il formaggio grattugiato, aggiungete dei ciuffetti di burro \n",
      "\n",
      "Per preparare la besciamella per prima cosa versate il latte in un pentolino aggiungete la noce moscata poi fatelo scaldare.Mettete il burro in un altro pentolino Mescolate vigorosamente con una frusta a mano per evitare la formazione di grumi Continuate a mescolare fino ad ottenere un composto dorato, il roux A questo punto stemperate il roux versando prima poco latte caldo e poi tutto il resto Continuate a mescolare a fuoco dolce fino a raggiungere la consistenza desiderata \n",
      "\n",
      "Per preparare la pasta per la pizza abbiamo scelto di impastare il tutto a mano, ma se preferite utilizzare l’impastatrice potrete seguire lo stesso procedimento, utilizzando il gancio a velocità medio bassa. Come prima cosa versate le due farine in una ciotola sbriciolate il lievito all'interno La temperatura ideale dell'acqua è di 25°. Mescolate con un mestolo di legno Continuate sempre a mescolare e quando avrete aggiunto circa metà dell'acqua potrete aggiungere anche il sale Unite poi l'acqua rimasta, sempre lentamente, sino ad ottenere un composto omogeneo; aiutatevi con le mani per lavorarlo meglio Infine trasferite l’impasto sul piano da lavoro e lavoratelo con le mani Ottenuto un bel panetto liscio, lasciatelo riposare sul piano di lavoro per una decina di minuti coprendolo con la ciotola Una volta riposato dategli una piccola piega: immaginate che la sfera sia divisa in 4 parti, prendete l’estremità di ognuna, tiratela delicatamente e ripiegatela verso il centro Date poi una piega all'impasto Rigiratelo su se stesso dategli la forma di una sfera Trasferite l'impasto così formato in una ciotola, coprite con pellicola trasparente Trascorso il tempo della lievitazione, l'impasto sarà bello gonfio quindi trasferitelo sul piano da lavoro e dividetelo con un tarocco in 3 pezzi da 265 g Se dovesse servirvi, potete infarinare leggermente il piano di lavoro. Ora prendete ciascuna porzione e come fatto prima sollevate un lembo di pasta Rifate poi la stessa cosa per gli altri 3 lembi di pasta Allungate quindi l'impasto piegandolo su se stesso Trasferite man mano i panetti in una cassetta per pizza precedentemente unta coprite con il coperchio prima di poter tirare l’impasto per la pizza e condirlo a vostro piacimento!\n",
      "\n",
      "Per realizzare i biscotti di Pan di zenzero iniziate dalla frolla speziata: versate nel mixer munito di lame la farina Aggiungete anche 1/4 di cucchiaino di bicarbonato lo zucchero semolato Quindi unite un pizzico di sale Per ultimo versate il burro freddo di frigo tagliato a dadini frullate il composto ad intermittenza per non scaldare eccessivamente l'impasto fino a ottenere una consistenza sabbiosa Versate il composto sul piano di lavoro e formate la classica fontana Versate l’uovo al centro e una volta che l’impasto avrà preso consistenza formate un panetto piatto e copritelo con pellicola trasparente Ponete l’impasto a rassodare in frigorifero per almeno 30 minuti. Trascorso il tempo di riposo, riprendete l’impasto, stendetelo con il mattarello su una spianatoia infarinata ad uno spessore tra i 7 mm e 1 cm Ritagliate la frolla con le formine natalizie che preferite, noi abbiamo scelto i classici omini di Pan di zenzero Se volete, in questa fase potete forare i biscotti all'altezza della testolina degli omini per far passare un nastrino e poterli appendere all’albero. Con le dosi indicate otterrete circa 15 biscotti (in base al tipo di forme usate e alle dimensioni il numero potrebbe variare). Trasferite i biscotti su una leccarda rivestita con carta da forno meglio se su una gratella.Intanto preparate la ghiaccia reale: versate gli albumi in una ciotola iniziate a montare con le fruste elettriche a media velocità e incorporate poco a poco lo zucchero a velo aiutandovi con un cucchiaio Trasferite la glassa in una sac-à-poche usa e getta \n",
      "\n",
      "Per preparare gli spaghetti alla carbonara cominciate mettendo sul fuoco una pentola con l’acqua salata per cuocere la pasta. Nel frattempo eliminate la cotenna dal guanciale La cotenna avanzata potrà essere riutilizzata per insaporire altre preparazioni. Versate i pezzetti in una padella antiaderente Nel frattempo tuffate gli spaghetti nell’acqua bollente aggiungete anche la maggior parte del Pecorino previsto dalla ricetta Insaporite con il pepe nero amalgamate tutto con una frusta a mano Aggiungete un cucchiaio di acqua di cottura per diluire il composto e mescolate Intanto il guanciale sarà giunto a cottura, spegnete il fuoco e tenetelo da parte Scolate la pasta al dente direttamente nel tegame con il guanciale Per renderla ben cremosa, al bisogno, potete aggiungere poca acqua di cottura della pasta Servite subito gli spaghetti alla carbonara insaporendoli con il Pecorino avanzato \n",
      "\n"
     ]
    }
   ],
   "source": [
    "for doc in docs[:10]:\n",
    "    print(f\"{doc}\\n\")"
   ]
  },
  {
   "cell_type": "markdown",
   "metadata": {},
   "source": [
    "**Che tipo di operazioni e applicazioni vogliamo realizzare coi dati testuali?**"
   ]
  },
  {
   "cell_type": "markdown",
   "metadata": {},
   "source": [
    "Per capire quanto una operazione può essere difficile per una macchina, proviamo a sforzarci di \"vedere\" il testo come lo vede la macchina"
   ]
  },
  {
   "cell_type": "code",
   "execution_count": 18,
   "metadata": {},
   "outputs": [],
   "source": [
    "from nlp.utils import messy_text"
   ]
  },
  {
   "cell_type": "code",
   "execution_count": 19,
   "metadata": {},
   "outputs": [
    {
     "name": "stdout",
     "output_type": "stream",
     "text": [
      "gS5’95S9c5c5S’MI’2M5cEM3!’95S9c5c2S’MI’acQQ(’aAD’Ic’EALc’9S5’A22SDS5DS’svv’Pà’9AM’-1aaNS5c2S’c’9McaS5S’éDAM’cbbMcEA’ES33A’1D’a1aaNMcMDAè’S’Ic3aMc2SIA’5cQQ5STTc5S’MD’1Dc’aMA2AIMDc’bc33c’S’cE9Mcx’eS9c5c2S’IS’1A0c’TM0MTSDTA’PIM’cIb1EM’TcM’21A5IM’5MaA5TcDTA’aNS’9S5’EAD2c5S’bSDS’PIM’cIb1EM’DAD’TA05cDDA’95S3SD2c5S’cIa1Dc’25caaMc’TM’21A5IAx’iAD2c2S’M’21A5IM’aAD’IS’Q5132S’SIS225MaNSà’0S53cDTA’3AIA’ES2,’TA3S’TM’-1aaNS5A’hAD’c99SDc’MI’aAE9A32A’3c5,’TM0SD2c2A’aNMc5A’S’391EA3Aà’S’aAD’IS’Q5132S’cDaA5c’MD’Q1D-MADSà’9A25S2S’cPPM1DPS5S’MI’Ec3ac59ADSà’9AaA’cIIc’0AI2c’lDaA59A5c2A’2122A’MI’QA5EcPPMA’c05S2S’A22SD12A’1Dc’a5SEc’TSD3c’S’aAE9c22c’f1cDTA’3c5cDDA’3aNM1EA3M’0S53c2S’MI’5S32cD2S’-1aaNS5A’1D’9A ’cIIc’0AI2c’nA05S2S’EAD2c5IM’c’DS0S’bSD’QS5Ec’aA3'’32SE9S5S5S2S’MI’aAE9A32Ax’nA9ATMaN(’95AaSTS2S’cT’cPPM1DPS5S’Ic’5S32cD2S’9c52S’TM’cIb1EMà’9AaA’cIIc’0AI2c’ES3aAIcDTA’EAI2A’TSIMac2cESD2S’TcI’bc33A’0S53A’IìcI2A’kc’a5SEc’cI’Ec3ac59ADS’)’A5c’95AD2c’nM325Mb1M2SDS’1Dc’PSDS5A3c’a1aaNMcMc2c’31I’QADTA’TM’1Dc’9M5AQMIc’TM’0S25Aà’P5cDTS’sv.upàraE’S’TM325Mb1M2S’9S5’bSDS’31’2122c’Ic’bc3Sx’lD-199c2S’9S5’9AaNM’M32cD2M’M’3c0AMc5TM’DSI’acQQ)’Q5STTA’95MEc’Tc’1D’Ic2A’S’9AM’TcII cI25A’icD’EcDA’TM325Mb1M2S’M’3c0AMc5TM’MEbS012M’DSIIc’9M5AQMIcà’aS5acDTA’TM’3M32SEc5IM’2122M’MD’1D’0S53Aà’aA3'’Tc’A22SDS5S’1D’95MEA’325c2A’TM’bM3aA22M’oPPM1DPS2S’cI25c’a5SEc’cI’Ec3ac59ADS’S’IM0SIIc2SIc’MD’EATA’Tc’aA95M5IM’aAE9IS2cESD2S’m’aAD2MD1c2S’c’TM325Mb1M5S’M’3c0AMc5TM’MEbS012M’DSI’acQQ)’9AM’5ScIM--c2S’1D’cI25A’325c2A’TM’a5SEc’d5c3QS5M2S’Ic’a5SEc’5MEc32c’MD’1D’3caz,z9AaNS’aAD’bSaa1aaMA’IM3aMA’TM’TMcES25A’ut’EE’S’5ScIM--c5S’TSM’aM1QQS22M’9S5’2122c’Ic’TMESD3MADS’TSIIc’2SPIMc’e9AI0S5M--c2SIc’aAD’TSI’acacA’cEc5A’MD’9AI0S5S’lI’0A325A’2M5cEM3!’)’95AD2A’9S5’S33S5S’P132c2Aù\n",
      "\n",
      "hU0à30U3d0d0UàLàb44CLU.uàd..Lb,0d-U)LàbPUàLAàc,004à.Ldà940cLa4sàg,L5aLà)U0.d-UàL5à,5dàbL4-4AdàA4à(,bbPU04àaLàbd55dàUà1,UAA4à.U94Ad-4àe5L-Uà,5à3L((Lb4àaLà.dAUàid)40d-Uàb45àAUàS0,.-UàUAU--0LbPUàSL54àdaàd9dAQd9d0UàQALàL5Q0UaLU5-LàdQQL,5QU-UàA°,4)4àg,d5a4à.d0 àcU5àd..40cL-4à,5L-UàAdàSd0L5dàid)40d-Uàb45àAUàS0,.-UàUAU--0LbPUàlQQL,5QU-UàAUàQ4bbUàaLàbL4bb4Ad-4àlaU..4à,-LAL((d5a4à,54à.3dAAL5d-40Uàadànàb9àaLàaLd9U-04à30UAU)d-Uà,5dà340(L45UàaLàL93d.-4àzbL0bdàortonàQvàg,L5aLàdadQLd-Uà.,à,5dàAUbbd0adà0L)U.-L-dàb45àbd0-dàS4054àAUà3dAAL5UuàcU5àaL.-d5(Ld-Uà-0dàA404àL5àb4--,0dàL5Sd--Là-U5aU0d554àdaàdAAd0Qd0.Là94A-4sàk,4bU-UàL5àS4054à.-d-Lb4à30U0L.bdAad-4àdàqmr'à3U0àqptqnà9L5,-Là.L54àdàbPUà545à.d0d554àcU5àa40d-LsàfS405d-UàAd.bLd-Uà0dSS0Uaad0UàUà.U0)L-UàLà)4.-0Làb44CLU.à\n",
      "\n",
      "rQa,aiSP’Ui’OIeOiIi,aPQe’fea’OiQgiVe’dPQfeQfP’aU’h1IIP’i’d1PgP’hiCCaCCaSPz’M1aQfa’UiCgai2e’aQ2aeOafaIev’rQ2iQ2P’fa.afe2e’cUa’iUh1Sa’fia’21PIUav’keICi2e’a’21PIUa’aQ’1Qi’gaP2PUi’e’Chi22e2eUa’gPQ’1Qi’dI1C2i’i’SiQP’OPa’1Qa2e’aU’h1IIP’d1CP’i’2eSOeIi21Ii’iShaeQ2e’qPQ2i2e’aU’gPSOPC2P’daQgb(’QPQ’IaC1U2eI)’gbaiIPvlQa2e’aU’Uae.a2P’iUUi’diIaQi’SeCgPUi2e’gPQ’Ui’dI1C2i’OeI’iSiUciSiIe’pIi’SPQ2i2e’cUa’iUh1Sa’gbe’i.e2e’2eQ12P’fi’OiI2ez’.eICiQfP’OPgP’iUUi’.PU2i’UP’,1ggbeIP’qe22e2e’i’CgiUfiIe’C1U’d1PgP’SefaP’èQPQ’iU2P’iU2IaSeQ2a’QPQ’fiIe2e’aU’2eSOP’iUUìaSOiC2P’fa’Uae.a2iIe’heQe’f1IiQ2e’Ui’gP221Ii’e’a’OiQgiVe’fa.eQ2eIiQQP’2IPOOP’Cg1Iaà’1Qi’OifeUUi’iSOai’iQ2aifeIeQ2e’èSecUaP’Ce’i’dPQfP’COeCCPà’ez’Ce’QegeCCiIaPz’1Qce2e’gPQ’OPgP’h1IIP’fi’COiQfeIe’C1UUi’C1OeIdagae’gPQ’Uìia12P’fa’giI2i’fi’g1gaQiv’keICi2e’iU’geQ2IP’feU’OeQ2PUaQP’1Q’SeC2PUaQP’fa’OIeOiIi2P’QPQ’ga’CiI)’haCPcQP’fa’COiQfeIUPvn1iQfP’aQa,aeIiQQP’i’gPSOiIaIe’feUUe’hPUUagaQe’aQ’C1OeIdagae’e’Ui’hiCe’CiI)’fPIi2iz’caIi2eUP’C1UU iU2IP’Ui2P’OeI’Se,,P’fa’1Qi’COi2PUaQi’gPSe’Ce’dPCCe’1Qi’gIeOe’P’1Qi’dIa22i2iz’M1aQfa’di2e’fPIiIe’i’C1i’.PU2i’iQgbe’UìiU2IP’Ui2Pz’fPOPfagb(’aU’OiQgiVe’CiI)’OIPQ2P’oIPCec1a2e’gPC'’gPQ’aU’IeC2P’feUUìaSOiC2P’e’SiQ’i’SiQP’faCOPQe2e’a’OiQgiVe’C1’1Q’Oai22P’fi’OPI2i2iz’aSOaUi2eUa’1QP’CPOIi’UìiU2IPv’sPQ’M1eC2e’fPCa’fP.IehheIP’dPISiICa’iUUìaQgaIgi’ut’OiQgiVev’meI.a2eUa’giUfa’e’gPCOiICa’fa’CgaIPOOP’f igeIP’oP2e2e’iggPSOicQiIe’a’OiQgiVe’gPQ’feUUi’dI122i’dIeCgi’P’CgaIPOOi2i’fa’.PC2IP’c1C2Pv\n",
      "\n",
      "nf5ìI5fIl5l5fìalìh5fSlìlaìSl2hl5ILPfì,f52l1fìbPì.PìIfP1LabPLìaàlhC.lìSf2hLal1fìafddf5SfP1fìfìIL51l1fìbaìhLSIL21Lìlìtst(qìSb2.5lPgLìalì1fSIf5l1.5lìhLPì.Pì1f5SLSf15Lìglìh.hbPlìnLhLìI5bSlìgbì5lddb.Pdf5fìbìtst(qì°C.bPgbì,f52Lìbìttr(qzvìhLSbPhbl1fìlìSLP1l5fìbì1.L5abìhLPìafìe5.21fìfaf115bhcfìqLP1bP.l1fìlìSLP1l5fìebPLìlaìhLSIaf1Lì5lee5fgglSfP1LìmbìL11bfPfìhL2 ìalìIl1fì'ìiLSifvìalìil2fìgbì1lP1fìI5fIl5l)bLPbìgbìIl21bhhf5blupPì.PlìhbL1LalìlSSL5ibgb1fìbaìSl2hl5ILPfìhLPì.Plì2Il1LalìILbìlddb.Pdf1fìILhLìlaalì,La1lìbaìhLSIL21Lìgbì1.L5abìL5lSlbìe5fggLuìpPhL5IL5l1fìhLPìafìe5.21fìLìhLPì.PlìSl5b2lvìSf2hLalPgLìSlPìSlPLìolì,L215lìh5fSlìlaìSl2hl5ILPfì!ìI5LP1lèìnL1f1fìd.21l5alìbP2bfSfìlì.Plìef11lìgbìIlPf11LPfìLìIlPgL5LìLII.5fìhLSfìgf22f51ìlaìh.hhcblbLìd.l5PfPgLìlìIblhf5fìhLPìgfaìhlhlLìlSl5Lì2f1lhhbl1Lì\n",
      "\n",
      "hU2’52U5d2d2U’EU’b2U5U’a:EbM’U’1dEd0U’MAM,Md0U’2:C5UAa:’EU’.:-d’MA’.Ad’bM:0:Ed’adM’c:2aM’dE0M’iU1b:Ed0U’dbb.2d0dCUA0U’5U2’dCdERdCd2U’3.U10M’a.U’MAR2UaMUA0M’h:1M,M:Ad0U’.A’b:EMA:’1.E’2UbM5MUA0U’U’5:M’1U0dbbMd0U’Ed’Td2MAd’AUEEd’bM:0:Ed’ì5U2’b:C:aM0)’5:0U0U’dAbPU’dRRM.ARU2Ed’MA’a.U’0UC5M’U’CU1b:Ed2U’b:1(’ad’U-M0d2U’Ed’T:2Cd,M:AU’aM’R2.CMàu’h:M’b:A’EU’T2.10U’CU1b:Ed0U’UAU2RMbdCUA0U’5U2’d11:2cM2U’Ed’Td2MAd’m:A0MA.d0U’d’CU1b:Ed2U’TMA:’da’:00UAU2U’.A’b:C5:10:’:C:RUAU:z’-UEE.0d0:’U’52M-:’aM’R2.CM’n’3.U10:’5.A0:’b:52M0U’Ed’bM:0:Ed’b:A’aUEEd’5UEEMb:Ed’dEMCUA0d2U’02d15d2UA0U’U’Ed1bMd0U’2M5:1d2U’5U2’dECUA:’qt’CMA.0M’MA’T2MR:2MTU2:o’3.U10d’:5U2d,M:AU’1U2-U’d’Td2’d11:2cM2U’U-UA0.dEM’R2.CM’f2d1b:21:’ME’0UC5:’CU1b:Ed0U’E MC5d10:’5U2’Td2E:’2MA-UAM2U’f2d1b:21:’bM2bd’s’CMA.0:’d’T.:b:’CUaM:vcd11:z’a:-2U10U’A:0d2U’.Ad’EURRU2d’a:2d0.2dz’M’c:2aM’0UAaU2dAA:’d’10dbbd21M’5U2bM'’5:02U0U’RM2d2U’Ed’52MCd’b2U5U’dM.0dAa:-M’b:A’.Ad’5dEU00d’m.:bU0U’dAbPU’EòdE02:’Ed0:’5U2’s’CMA.0:’bM2bdz’d15U00dAa:’bPU’52UAad’b:E:2U’eAd’-:E0d’b:00d’Ed’52MCdz’102d1TU2M0UEd’1.’.A’5Md00:’ad’5:20d0d’:’1.’aM’.A’0dREMU2Uu’gM5U0U0U’3.U10d’:5U2d,M:AU’TMA:’d’TMAM2U’E MC5d10:z’a:-2U10U’:00UAU2U’b:1(’sp’b2U5U’aUE’aMdCU02:’aM’rt’bCo’MC5MEd0U’:RAM’b2U5U’.Ad’1:52d’E dE02d’b:1(’2U10U2dAA:’C:2cMaUu’lbb:’52:A0U’EU’-:102U’b2U5U’a:EbM’U’1dEd0Uz’A:A’-M’2U10d’bPU’Td2bM2EU’\n",
      "\n",
      "fQ4ù64Q6U4U4QùIQùIU3UNCQùUIIUùTAIANCQ3QàùLCL-LU2QùRUIù4UN xùf4Q6U4U2QùLIùT4ARAù0QNQ2UIQùSMQùRA04Q2Qù2QCQ4QùLCùSUIRAxùfALù64QCRQ2QùIUù6UCSQ22Uàù2UNILU2QIUù64LDUùUù324L3SLAILCQùnACù1CùSAI2QIIAùAù1CUùDQ--UI1CUù3DLC1--U2QIUù6Q4ùTQCQùoù6U42Qù64Q6U4U2Qù1Cù24L2AùPLCQùSACùSU4A2QàùSL6AIIQàù3QRUCAùQù2QCQ2QIAùRUù6U42QùlCù1CUùSU33Q41AIUù0Q43U2Qù1CùPLIAùRèAILAùQùIUù6UCSQ22UxùcN4UCU2QIUùTQCQùSACù1CùDQ32AIAùoNNL1CNQ2Qù6ALùIUùSU4CQùDUSLCU2UùhQ3SAIU2QùQùUI-U2QùIUùPLUDDUxùiU3SLU2Qù4A3AIU4QùIUùSU4CQù3QC-UùP4Q22UàùRA04,ùQ33Q4QùTQCù4A3AIU2Uù6Q4ù3LNLIIU4QùLù31SSMLùQù4L31I2U4QùDA4TLRUùCACù32A66A3UxcP1DU2QùSACùLIù0LCAù4A33Aù6ALùU36Q22U2QùSMQù3LUùSAD6IQ2UDQC2QùQ0U6A4U2AùQùUNNL1CNQ2QùIUù6U33U2UùRLù6ADARA4AùhQ3SAIU2QàùLIù4UN ùRQ0QùS1ASQ4QùR1QùA4Qxùe1UCRAùMUù4L64Q3AùLIùTAIIA4Qù6A2Q2QùUNNL1CNQ2Qù6ASAùT4ARAùSUIRAàù1CAùAùR1QùDQ32AILùfALùPU2QùUCRU4QùLIù4UN ù6Q4ù1Cù6ULAùRèA4QùUIDQCAxmA04Q2QùS1ASQ4QùSACùLIùSA6Q4SMLAàù3QC-UùSML1RQ4QùRQIù2122AùnAC24AIIU2QùQùDQ3SAIU2QùRLù2UC2AùLCù2UC2AàùUIùTL3ANCAùUNNL1CNQ2QùUI24AùT4ARAùQùIU3SLU2QùS1ASQ4Qù6Q4ùLIù2QD6AùLCRLSU2AxùfU33U2QùURQ33AùUIIUù6U32UxùnADQù64LDUùSA3Uù0Q43U2QùNILù36LCUSLùLCù1Cù2QNUDQùUNNL1CNQ2Qù6ASUùUS51UàùSA64L2QùSACù1CùSA6Q4SMLAùQùIU3SLU2QùS1ASQ4QùPLCAùUùSMQùCACù3U4UCCAùU66U33L2LàùLCù2A2UIQùSLù0A44UCCAùqzpùDLC12Lùoù51Q32Aù61C2Aù3SAIU2QILàùIU3SLU2QILùLC2LQ6LRL4QùQù324L--U2QILùTQCQùb4U3PQ4L2QILùLCù1CùDL.Q4ùQùP41IIU2QILùPLCAùURùA22QCQ4Qù1CUù614QUùmA04Q2Qù4LSU0U4CQùuvvùNxùoRQ33Aù31ù1CUù36LUCU2ALUù0Q43U2QùIUù3QDAIUùQùIUùPU4LCUùvvùUNNL1CNQ2QùNILù36LCUSLùQùS4QU2Qù1CUùPA4DUùUùPAC2UCUxùaCL2QùIQù1A0UùIQNNQ4DQC2Qù3TU2212QùQùLù21A4ILàù3QD64Qù3TU2212LùlCL-LU2QùURùLD6U32U4QùLIù2122Aù6U42QCRAùRUIùSQC24AùLCù51Q32AùDARAùIQù1A0UùCACù3SL0AIQ4UCCAùP1A4LùRUIIUùPAC2UCUxùlD6U32U2QùTQCQùPLCAùURùA22QCQ4Qù1Cù6UCQ22AùADANQCQAùo00AINQ2QIAùCQIIUù6QIILSAIUù3QC-UùPU4IAùTAIIL4QxùlCù1CùUI24Aù2QNUDQù0Q43U2QùLIùT144AùoNNL1CNQ2QùIUùPU4LCUùLCù1CUù0AI2Uù3AIUùVQ43U2Qù51LCRLùLIùIU22QùSUIRAùLCùsù0AI2QùDQ3SAIUCRAùTQCQxùoNNL1CNQ2QùLIù3UIQùQùU4ADU2L--U2QùSACùIUùCASQùDA3SU2UùnAC2LC1U2QùUùDQ3SAIU4QùPLCAùURùA22QCQ4Qù1CUùTQ3SLUDQIIUùS4QDA3Uùb4U3PQ4L2QùLCù1CUùSLA2AILCUàùSA64L2QùSACù6QIILSAIUùUùSAC2U22AùQù2QCQ2QùRUù6U42QxùgACùU66QCUù3U4UCCAù24U3SA43LùLùsvùDLC12Lù4L64QCRQ2QùLIù6UCQ22AùRLù6U32UùQù64QIQ0U2QCQù1Cù6Q--AùnA64L2QùIUù6U32Uù4Q32UC2QùSACùIUù6QIILSAIUù6Q4ùCACùPU4IUù3QSSU4QxoL12UCRA0LùSACù1Cù6AèùRLù3QDAIUùU66LU22L2QIAùIQNNQ4DQC2Qù31IIUù36LUCU2ALUùLCùDARAùRUùPA4DU4Qù1Cù4Q22UCNAIAùQù32QCRQ2QùIUù6U32UùCQIIUùDUSSMLCUxùlCL-LU2QùRUù1CAù36Q33A4Qù6L ùIU4NAàù6ALù4L6LQNU2QùIUù6U33Uù31ù3Qù32Q33UùQù4L6U33U2QIUxùe1UCRAù3QC2L2QùSMQù'ù24A66Aù1DLRUù36AI0Q4L--U2QùSACù1Cù6AèùRLù3QDAIUxùdLR1SQ2QùDUCùDUCAùIAù36Q33A4QùPLCAùURùA22QCQ4Qù1CUù3PANILUù36Q33Uù6ASAù6L ùRLùDQ--AùDDxùb4U3PQ4L2QIUù31ù1CUù36LUCU2ALUùQù2UNILU2QùRQLù4Q22UCNAILùN4UCRLùsv.tvùSDùf4A3QN1L2QùLCù51Q32AùDARAùPLCAùUù2Q4DLCU4QùIèLD6U32AùQùCQIùP4U22QD6AùDQ22Q2Qù31IùP1ASAù1CUù6QC2AIUùSAIDUùRèUS51UùQù3UIU2QIUxùe1UCRAùLCL-LQ4,ùUùTAIIL4QùDDQ4NQ2Qù1CUù3PANILUùUIIUù0AI2UùU36Q22U2Qùsvzrvù3QSACRLùQùUL12UCRA0LùSACù1CUù3SML1DU4AIUù3SAIU2QIUùb4U3PQ4L2QIUù31ù1Cù0U33ALAùSACù1CùSUCA0USSLAùf4QCRQ2Qù1CUù2QNILUùRUùIU3UNCUùN4UCRQùsv.tvùSDùQùLDT144U2QùLIùPACRAùoNNL1CNQ2Qù1CAù324U2Aù3A22LIQùRLùTQ3SLUDQIIUùQù1CAùRLù4UN ùfA3L-LACU2Qù51LCRLùIUù64LDUù3PANILUùUNNL1CNQ2Qù1CAù324U2AùRLùTQ3SLUDQIIUùQù1CAùRLù4UN ùoNNL1CNQ2QùLIù6U4DLNLUCAùN4U221NLU2AùoNNL1CNQ2QùUCSA4Uù1CAù324U2AùRLùTQ3SLUDQIIUùQù1CAùRLù4UN ù1CL2QùLIùPA4DUNNLAùN4U221NLU2AùLCùDARAùRUùSA64L4QùLC2Q4UDQC2QùIUù6U32Uùc6AI0Q4L--U2QùSACùLIùPA4DUNNLAùN4U221NLU2AàùUNNL1CNQ2QùRQLùSL1PPQ22LùRLùT144Aù\n",
      "\n",
      "rmPzbPmbqPqPmzfqzpmMogqemffqzbmPzbPgeqzocMqz.mPMqCmzgfzfqCCmzgdzAdzbmdCcfgdczqiigAdimCmzfqzdcomzecMoqCqzbcgzlqCmfczMoqfnqPmvsmCCmCmzgfzpAPPczgdzAdzqfCPczbmdCcfgdczsmMocfqCmz.gicPcMqemdCmzocdzAdqzlPAMCqzqzeqdczbmPzm.gCqPmzfqzlcPeq gcdmzngziPAegztcdCgdAqCmzqzemMocfqPmzlgdczqnzcCCmdmPmzAdzocebcMCczncPqCcxzgfzPcA,zuzaAmMCczbAdCczMCmebmPqCmzgfzPcA,z.mPMqdnczbPgeqzbcoczfqCCmzoqfnczmzbcgzCACCczgfzPmMCcztcdCgdAqCmzqzemMocfqPmzqzlAcoczncfomzlgdczqzPqiigAdimPmzfqzocdMgMCmd qznmMgnmPqCqz\n",
      "\n",
      "gS:’A:SAb:b:S’Lb’Ab65b’AS:’Lb’AM22b’baaMbIC’6USL5C’TM’MIAb65b:S’ML’5455C’b’IbDCà’Ib’6S’A:SRS:M5S’45MLM22b:S’L MIAb65b5:MUS’AC5:S5S’6SP4M:S’LC’65S66C’A:CUSTMISD5Cà’45MLM22bDTC’ML’PbDUMC’b’3SLCUM5,’ISTMC’ab66b°’oCIS’A:MIb’UC6b’3S:6b5S’LS’T4S’Rb:MDS’MD’4Db’UMC5CLb’6a:MUMCLb5S’ML’LMS3M5C’bLLèMD5S:DC’lb’5SIAS:b54:b’MTSbLS’TSLLèbU;4b’'’TM’zt.°’iS6UCLb5S’UCD’4D’IS65CLC’TM’LSPDC’oCD5MD4b5S’6SIA:S’b’IS6UCLb:S’S’;4bDTC’b3:S5S’bPPM4D5C’UM:Ub’IS5,’TSLLèbU;4b’AC5:S5S’bPPM4DPS:S’bDUOS’ML’6bLS’cDM5S’ACM’LèbU;4b’:MIb65bà’6SIA:S’LSD5bISD5Sà’6MDC’bT’C55SDS:S’4D’UCIAC65C’CICPSDSCq’bM45b5S3M’UCD’LS’IbDM’AS:’Lb3C:b:LC’ISPLMC’mDRMDS’5:b6RS:M5S’L MIAb65C’64L’AMbDC’Tb’Lb3C:C’S’Lb3C:b5SLC’UCD’LS’IbDM’h55SD45C’4D’aSL’AbDS55C’LM6UMCà’Lb6UMb5SLC’:MAC6b:S’64L’AMbDC’TM’Lb3C:C’AS:’4Db’TSUMDb’TM’IMD45M’UCA:SDTCLC’UCD’Lb’UMC5CLb’cDb’3CL5b’:MAC6b5C’Tb5SPLM’4Db’AMUUCLb’AMSPbr’MIIbPMDb5S’UOS’Lb’6RS:b’6Mb’TM3M6b’MD’u’Ab:5Mà’A:SDTS5S’L S65:SIM5,’TM’CPD4Dbà’5M:b5SLb’TSLMUb5bISD5S’S’:MAMSPb5SLb’3S:6C’ML’USD5:C’nb5S’ACM’4Db’AMSPb’bLLèMIAb65C’fMPM:b5SLC’64’6S’65S66C’Tb5SPLM’Lb’RC:Ib’TM’4Db’6RS:b’d:b6RS:M5S’LèMIAb65C’UC6!’RC:Ib5C’MD’4Db’UMC5CLbà’UCA:M5S’UCD’ASLLMUCLb’5:b6Ab:SD5S’d:b6UC:6C’ML’5SIAC’TSLLb’LMS3M5b2MCDSà’LèMIAb65C’6b:,’aSLLC’PCDRMC’;4MDTM’5:b6RS:M5SLC’64L’AMbDC’Tb’Lb3C:C’S’TM3MTS5SLC’UCD’4D’5b:CUUC’MD’v’AS22M’Tb’zst’P’eS’TC3S66S’6S:3M:3Mà’AC5S5S’MDRb:MDb:S’LSPPS:ISD5S’ML’AMbDC’TM’Lb3C:C°’h:b’A:SDTS5S’UMb6U4Db’AC:2MCDS’S’UCIS’Rb55C’A:MIb’6CLLS3b5S’4D’LSIaC’TM’Ab65b’fMRb5S’ACM’Lb’65S66b’UC6b’AS:’PLM’bL5:M’v’LSIaM’TM’Ab65b’pLL4DPb5S’;4MDTM’LèMIAb65C’AMSPbDTCLC’64’6S’65S66C’d:b6RS:M5S’IbD’IbDC’M’AbDS55M’MD’4Db’Ub66S55b’AS:’AM22b’A:SUSTSD5SISD5S’4D5b’UCA:M5S’UCD’ML’UCAS:UOMC’A:MIb’TM’AC5S:’5M:b:S’L MIAb65C’AS:’Lb’AM22b’S’UCDTM:LC’b’3C65:C’AMbUMISD5Cì\n",
      "\n",
      "fQ0’0QV:A((V0Q’A’TA/S4..A’RA’fV5’RA’(Q5(Q04’A5A(AV.Q’RV::V’P04::V’/3Q(AV.Vl’,Q0/V.Q’5Q:’7A)Q0’7-5A.4’RA’:V7Q’:V’PV0A5V’iIIA-5IQ.Q’V5SCQ’qso’RA’S-SSCAVA54’RA’TASV0T45V.4’:4’(-SSCQ04’/Q74:V.4’e-A5RA’-5A.Q’-5’3A((AS4’RA’/V:Q’fQ0’-:.A74’,Q0/V.Q’A:’T-004’P0QRR4’RA’P0AI4’.VI:AV.4’V’RVRA5A’P0-::V.Q’A:’S4734/.4’VR’A5.Q07A..Q5(V’3Q0’545’/SV:RV0Q’QSSQ//A,V7Q5.Q’:àA73V/.4’PA54’V’4..Q5Q0Q’-5V’S45/A/.Q5(V’/VTTA4/V’aQ0/V.Q’A:’S4734/.4’/-:’3AV54’RA’:V,404’Q’P407V.Q’:V’S:V//ASV’P45.V5V’aQ0/V.Q’: -4,4’V:’SQ5.04’Q’-5V’,4:.V’SCQ’: A73V/.4’V,0'’30Q/4’S45/A/.Q5(V’P407V.Q’-5’3V5Q..4’3AV..4’Q’S430A.Q:4’S45’3Q::AS4:V’.0V/3V0Q5.Q’f45Q.Q’: A73V/.4’V’0V//4RV0Q’A5’P0AI40APQ04’3Q0’V:7Q54’pr’7A5-.At’b0V/S40/4’A:’.Q734’RA’0A34/4v’0A30Q5RQ.Q’: A73V/.4v’/.Q5RQ.Q:4’S45’A:’7V..V0Q::4’/-’-5V’/3AV5V.4AV’A5PV0A5V.V’VR’-54’/3Q//40Q’.0V’A’m’77’Q’q’S7’dA.VI:AV.Q’:V’P04::V’S45’:Q’P407A5Q’5V.V:A(AQ’SCQ’30QPQ0A.Qv’54A’VTTAV74’/SQ:.4’A’S:V//ASA’47A5A’RA’fV5’RA’(Q5(Q04’cQ’,4:Q.Qv’A5’1-Q/.V’PV/Q’34.Q.Q’P40V0Q’A’TA/S4..A’V::àV:.Q((V’RQ::V’.Q/.4:A5V’RQI:A’47A5A’3Q0’PV0’3V//V0Q’-5’5V/.0A54’Q’34.Q0:A’V33Q5RQ0Q’V:: V:TQ04t’h45’:Q’R4/A’A5RASV.Q’4..Q00Q.Q’SA0SV’qn’TA/S4..A’zA5’TV/Q’V:’.A34’RA’P407Q’-/V.Q’Q’V::Q’RA7Q5/A45A’A:’5-7Q04’34.0QTTQ’,V0AV0Qxt’b0V/PQ0A.Q’A’TA/S4..A’/-’-5V’:QSSV0RV’0A,Q/.A.V’S45’SV0.V’RV’P4054’7QI:A4’/Q’/-’-5V’I0V.Q::Vtg5.V5.4’30Q3V0V.Q’:V’ICAVSSAV’0QV:Ql’,Q0/V.Q’I:A’V:T-7A’A5’-5V’SA4.4:V’A5A(AV.Q’V’745.V0Q’S45’:Q’P0-/.Q’Q:Q..0ASCQ’V’7QRAV’,Q:4SA.'’Q’A5S40340V.Q’34S4’V’34S4’:4’(-SSCQ04’V’,Q:4’VA-.V5R4,A’S45’-5’S-SSCAVA4’b0V/PQ0A.Q’:V’I:V//V’A5’-5V’/VSu'u34SCQ’-/V’Q’IQ..V’\n",
      "\n",
      "riP’VPiVoPoPi’gde’NVogfiLLe’oddo’moPnaboPo’macebmeoLi’ciLLibla’NId’hIama’Ibo’VibLado’mab’d omSIo’NodoLo’ViP’mIamiPi’do’VoNLoz’sid’hPoLLicVa’ideceboLi’do’maLibbo’lod’gIobmeodi’to’maLibbo’oAob.oLo’VaLP,’iNNiPi’PeILede..oLo’ViP’ebNoVaPePi’odLPi’VPiVoPo.eabez’piPNoLi’e’Vi..iLLe’eb’Ibo’Voliddo’obLeoliPibLi’sid’hPoLLicVa’LIhhoLi’gde’NVogfiLLe’bidd omSIo’naddibLi’oggeIbgiLi’obmfi’do’coggeaP’VoPLi’lid’rimaPeba’VPiAeNLa’loddo’PemiLLo’ubNoVaPeLi’mab’ed’ViVi’biPa’ocodgocoLi’LILLa’mab’Ibo’hPINLo’o’coba’vggeIbgiLi’Ib’mImmfeoea’le’omSIo’le’maLLIPo’ViP’ledIePi’ed’macVaNLa’i’ciNmadoLi’ubLobLa’ed’gIobmeodi’NoP,’geIbLa’o’maLLIPoà’NVigbiLi’ed’hIama’i’LibiLida’lo’VoPLi’qmadoLi’do’VoNLo’od’libLi’lePiLLocibLi’bid’Ligoci’mab’ed’gIobmeodi’riP’PibliPdo’nib’mPicaNoà’od’neNagbaà’VaLiLi’oggeIbgiPi’Vamo’omSIo’le’maLLIPo’liddo’VoNLo’qiPAeLi’NIneLa’gde’NVogfiLLe’oddo’moPnaboPo’ebNoVaPiblade’mab’ed’rimaPeba’oAob.oLa’\n",
      "\n"
     ]
    }
   ],
   "source": [
    "for text in docs[:10]:\n",
    "    print(f\"{messy_text(text)}\\n\")"
   ]
  },
  {
   "cell_type": "markdown",
   "metadata": {},
   "source": [
    "## Vector Space Model\n",
    "Un modo di trasformare il testo in qualcosa che la macchina può computare possiamo individuare una forma vettoriale per il testo usando alcune sue caratteristiche."
   ]
  },
  {
   "cell_type": "code",
   "execution_count": 20,
   "metadata": {},
   "outputs": [],
   "source": [
    "def features(text):\n",
    "    return np.array([len(text), len([x for x in text if x.isupper()]) / len(text)])"
   ]
  },
  {
   "cell_type": "code",
   "execution_count": 21,
   "metadata": {},
   "outputs": [
    {
     "data": {
      "text/plain": [
       "array([[1.73200000e+03, 9.81524249e-03],\n",
       "       [7.62000000e+02, 1.44356955e-02],\n",
       "       [1.45500000e+03, 8.93470790e-03],\n",
       "       ...,\n",
       "       [1.07500000e+03, 1.39534884e-02],\n",
       "       [6.97000000e+02, 2.29555237e-02],\n",
       "       [1.15500000e+03, 1.29870130e-02]], shape=(5935, 2))"
      ]
     },
     "execution_count": 21,
     "metadata": {},
     "output_type": "execute_result"
    }
   ],
   "source": [
    "D = np.array([features(d) for d in docs])\n",
    "D "
   ]
  },
  {
   "cell_type": "code",
   "execution_count": 22,
   "metadata": {},
   "outputs": [],
   "source": [
    "import matplotlib.pyplot as plt"
   ]
  },
  {
   "cell_type": "markdown",
   "metadata": {},
   "source": [
    "**Scaliamo i dati**"
   ]
  },
  {
   "cell_type": "code",
   "execution_count": 23,
   "metadata": {},
   "outputs": [],
   "source": [
    "from sklearn.preprocessing import MinMaxScaler"
   ]
  },
  {
   "cell_type": "code",
   "execution_count": 24,
   "metadata": {},
   "outputs": [],
   "source": [
    "scaler = MinMaxScaler()\n",
    "S = scaler.fit_transform(D)\n",
    "row_norms = np.linalg.norm(S, axis=1, keepdims=True)\n",
    "row_norms[row_norms == 0] = 1\n",
    "U = S / row_norms"
   ]
  },
  {
   "cell_type": "code",
   "execution_count": 25,
   "metadata": {},
   "outputs": [
    {
     "data": {
      "image/png": "[encoded data removed]",
      "text/plain": [
       "<Figure size 1200x400 with 3 Axes>"
      ]
     },
     "metadata": {},
     "output_type": "display_data"
    }
   ],
   "source": [
    "fig, ax = plt.subplots(figsize=(12, 4), ncols=3)\n",
    "ax[0].scatter(D[:,0], D[:,1], s=4, alpha=.4)\n",
    "ax[0].set_title('Raw data')\n",
    "ax[1].scatter(S[:,0], S[:,1], s=4, alpha=.4)\n",
    "ax[1].set_title('Scaled data (MinMax)')\n",
    "ax[2].scatter(U[:,0], U[:,1], s=4, alpha=.4)\n",
    "ax[2].set_title('Unitary vectors')\n",
    "plt.tight_layout()\n",
    "plt.show()"
   ]
  },
  {
   "cell_type": "markdown",
   "metadata": {},
   "source": [
    "## Usare le parole come dimensioni\n",
    "\n",
    "### Tokenizzazione per espressioni regolari"
   ]
  },
  {
   "cell_type": "code",
   "execution_count": 26,
   "metadata": {},
   "outputs": [],
   "source": [
    "from nltk.tokenize import word_tokenize"
   ]
  },
  {
   "cell_type": "code",
   "execution_count": 27,
   "metadata": {},
   "outputs": [
    {
     "name": "stdout",
     "output_type": "stream",
     "text": [
      "['Per', 'preparare', 'il', 'tiramisù', 'preparate', 'il', 'caffé', 'con', 'la', 'moka', 'per', 'ottenerne', '300', 'g', ',', 'poi', 'zuccherate', 'a', 'piacere', '(', 'noi', 'abbiamo', 'messo', 'un', 'cucchiaino', ')', 'e', 'lasciatelo', 'raffreddare', 'in', 'una', 'ciotolina', 'bassa', 'e', 'ampia', '.', 'Separate', 'le', 'uova', 'dividendo', 'gli', 'albumi', 'dai', 'tuorli', 'ricordando', 'che', 'per', 'montare', 'bene', 'gli', 'albumi', 'non', 'dovranno', 'presentare', 'alcuna', 'traccia', 'di', 'tuorlo', '.', 'Montate', 'i', 'tuorli', 'con', 'le', 'fruste', 'elettriche', ',', 'versando', 'solo', 'metà', 'dose', 'di', 'zucchero', 'Non', 'appena', 'il', 'composto', 'sarà', 'diventato', 'chiaro', 'e', 'spumoso', ',', 'e', 'con', 'le', 'fruste', 'ancora', 'in', 'funzione', ',', 'potrete', 'aggiungere', 'il', 'mascarpone', ',', 'poco', 'alla', 'volta', 'Incorporato', 'tutto', 'il', 'formaggio', 'avrete', 'ottenuto', 'una', 'crema', 'densa', 'e', 'compatta', 'Quando', 'saranno', 'schiumosi', 'versate', 'il', 'restante', 'zucchero', 'un', 'po', '’', 'alla', 'volta', 'Dovrete', 'montarli', 'a', 'neve', 'ben', 'ferma', 'così', 'stempererete', 'il', 'composto', '.', 'Dopodiché', 'procedete', 'ad', 'aggiungere', 'la', 'restante', 'parte', 'di', 'albumi', ',', 'poco', 'alla', 'volta', 'mescolando', 'molto', 'delicatamente', 'dal', 'basso', 'verso', \"l'alto\", 'La', 'crema', 'al', 'mascarpone', 'è', 'ora', 'pronta', 'Distribuitene', 'una', 'generosa', 'cucchiaiata', 'sul', 'fondo', 'di', 'una', 'pirofila', 'di', 'vetro', ',', 'grande', '30x19,5cm', 'e', 'distribuite', 'per', 'bene', 'su', 'tutta', 'la', 'base', '.', 'Inzuppate', 'per', 'pochi', 'istanti', 'i', 'savoiardi', 'nel', 'caffè', 'freddo', 'prima', 'da', 'un', 'lato', 'e', 'poi', 'dall', '’', 'altro', 'Man', 'mano', 'distribuite', 'i', 'savoiardi', 'imbevuti', 'nella', 'pirofila', ',', 'cercando', 'di', 'sistemarli', 'tutti', 'in', 'un', 'verso', ',', 'così', 'da', 'ottenere', 'un', 'primo', 'strato', 'di', 'biscotti', 'Aggiungete', 'altra', 'crema', 'al', 'mascarpone', 'e', 'livellatela', 'in', 'modo', 'da', 'coprirli', 'completamente', 'E', 'continuate', 'a', 'distribuire', 'i', 'savoiardi', 'imbevuti', 'nel', 'caffè', 'poi', 'realizzate', 'un', 'altro', 'strato', 'di', 'crema', 'Trasferite', 'la', 'crema', 'rimasta', 'in', 'un', 'sac-à-poche', 'con', 'beccuccio', 'liscio', 'di', 'diametro', '12', 'mm', 'e', 'realizzare', 'dei', 'ciuffetti', 'per', 'tutta', 'la', 'dimensione', 'della', 'teglia', 'Spolverizzatela', 'con', 'del', 'cacao', 'amaro', 'in', 'polvere', 'Il', 'vostro', 'tiramisù', 'è', 'pronto', 'per', 'essere', 'gustato', '!']\n",
      "['Per', 'preparare', 'i', 'cookies', ',', 'assicuratevi', 'che', 'il', 'burro', 'sia', 'morbido', '.', 'Quindi', 'versate', 'in', 'una', 'ciotola', 'lo', 'zucchero', 'di', 'canna', 'e', 'quello', 'semolato', 'Unite', 'un', 'pizzico', 'di', 'sale', 'Lavorate', 'con', 'le', 'fruste', 'elettriche', 'fino', 'ad', 'amalgamare', 'gli', 'ingredienti', 'aggiungete', \"l'uovo\", 'Quando', 'sarà', 'ben', 'assorbito', 'unite', 'la', 'farina', 'Lavorate', 'con', 'le', 'fruste', 'elettriche', 'Aggiungete', 'le', 'gocce', 'di', 'cioccolato', 'Adesso', 'utilizzando', 'uno', 'spallinatore', 'da', '5', 'cm', 'di', 'diametro', 'prelevate', 'una', 'porzione', 'di', 'impasto', '(', 'circa', '40-45', 'g', ')', 'Quindi', 'adagiate', 'su', 'una', 'leccarda', 'rivestita', 'con', 'carta', 'forno', 'le', 'palline', ',', 'ben', 'distanziate', 'tra', 'loro', 'in', 'cottura', 'infatti', 'tenderanno', 'ad', 'allargarsi', 'molto', '.', 'Cuocete', 'in', 'forno', 'statico', 'preriscaldato', 'a', '190°', 'per', '13-15', 'minuti', 'sino', 'a', 'che', 'non', 'saranno', 'ben', 'dorati', '.', 'Sfornate', 'lasciate', 'raffreddare', 'e', 'servite', 'i', 'vostri', 'cookies']\n",
      "['Iniziamo', 'la', 'preparazione', 'dei', 'pancake', 'fondendo', 'il', 'burro', 'a', 'fuoco', 'bassissimo', ',', 'quindi', 'lasciate', 'intiepidire', '.', 'Intanto', 'dividete', 'gli', 'albumi', 'dai', 'tuorli', '.', 'Versate', 'i', 'tuorli', 'in', 'una', 'ciotola', 'e', 'sbatteteli', 'con', 'una', 'frusta', 'a', 'mano', 'poi', 'unite', 'il', 'burro', 'fuso', 'a', 'temperatura', 'ambiente', 'Montate', 'il', 'composto', 'finchè', 'non', 'risulterà', 'chiaro.Unite', 'il', 'lievito', 'alla', 'farina', 'mescolate', 'con', 'la', 'frusta', 'per', 'amalgamare', 'Ora', 'montate', 'gli', 'albumi', 'che', 'avete', 'tenuto', 'da', 'parte', ',', 'versando', 'poco', 'alla', 'volta', 'lo', 'zucchero', 'Mettete', 'a', 'scaldare', 'sul', 'fuoco', 'medio', '(', 'non', 'alto', 'altrimenti', 'non', 'darete', 'il', 'tempo', \"all'impasto\", 'di', 'lievitare', 'bene', 'durante', 'la', 'cottura', 'e', 'i', 'pancake', 'diventeranno', 'troppo', 'scuri', ')', 'una', 'padella', 'ampia', 'antiaderente', '(', 'meglio', 'se', 'a', 'fondo', 'spesso', ')', 'e', ',', 'se', 'necessario', ',', 'ungete', 'con', 'poco', 'burro', 'da', 'spandere', 'sulla', 'superficie', 'con', \"l'aiuto\", 'di', 'carta', 'da', 'cucina', '.', 'Versate', 'al', 'centro', 'del', 'pentolino', 'un', 'mestolino', 'di', 'preparato', 'non', 'ci', 'sarà', 'bisogno', 'di', 'spanderlo.Quando', 'inizieranno', 'a', 'comparire', 'delle', 'bollicine', 'in', 'superficie', 'e', 'la', 'base', 'sarà', 'dorata', ',', 'giratelo', 'sull', '’', 'altro', 'lato', 'per', 'mezzo', 'di', 'una', 'spatolina', 'come', 'se', 'fosse', 'una', 'crepe', 'o', 'una', 'frittata', ',', 'quindi', 'fate', 'dorare', 'a', 'sua', 'volta', 'anche', \"l'altro\", 'lato', ',', 'dopodichè', 'il', 'pancake', 'sarà', 'pronto', 'Proseguite', 'così', 'con', 'il', 'resto', \"dell'impasto\", 'e', 'man', 'a', 'mano', 'disponete', 'i', 'pancake', 'su', 'un', 'piatto', 'da', 'portata', ',', 'impilateli', 'uno', 'sopra', \"l'altro\", '.', 'Con', 'queste', 'dosi', 'dovrebbero', 'formarsi', \"all'incirca\", '12', 'pancake', '.', 'Serviteli', 'caldi', 'e', 'cosparsi', 'di', 'sciroppo', 'd', '’', 'acero', 'Potete', 'accompagnare', 'i', 'pancake', 'con', 'della', 'frutta', 'fresca', 'o', 'sciroppata', 'di', 'vostro', 'gusto', '.']\n",
      "['Per', 'preparare', 'la', 'crema', 'al', 'mascarpone', 'versate', 'in', 'un', 'pentolino', \"l'acqua\", 'mescolate', 'leggermente', 'e', 'portate', 'il', 'composto', 'a', '121°C', 'misurando', 'la', 'temperatura', 'con', 'un', 'termometro', 'da', 'cucina', 'Poco', 'prima', 'di', 'raggiungere', 'i', '121°C', '(', 'quindi', 'verso', 'i', '115°C', ')', ',', 'cominciate', 'a', 'montare', 'i', 'tuorli', 'con', 'le', 'fruste', 'elettriche', 'Continuate', 'a', 'montare', 'fino', 'al', 'completo', 'raffreddamento', 'Si', 'ottiene', 'così', 'la', 'pate', 'à', 'bombe', ',', 'la', 'base', 'di', 'tante', 'preparazioni', 'di', 'pasticceria.In', 'una', 'ciotola', 'ammorbidite', 'il', 'mascarpone', 'con', 'una', 'spatola', 'poi', 'aggiungete', 'poco', 'alla', 'volta', 'il', 'composto', 'di', 'tuorli', 'oramai', 'freddo', '.', 'Incorporate', 'con', 'le', 'fruste', 'o', 'con', 'una', 'marisa', ',', 'mescolando', 'man', 'mano', 'La', 'vostra', 'crema', 'al', 'mascarpone', 'è', 'pronta', '!', 'Potete', 'gustarla', 'insieme', 'a', 'una', 'fetta', 'di', 'panettone', 'o', 'pandoro', 'oppure', 'come', 'dessert', 'al', 'cucchiaio', 'guarnendo', 'a', 'piacere', 'con', 'del', 'cacao', 'amaro', 'setacciato']\n",
      "['Per', 'preparare', 'le', 'crepe', 'dolci', 'e', 'salate', 'iniziate', 'rompendo', 'le', 'uova', 'in', 'una', 'ciotola', 'dai', 'bordi', 'alti', 'Mescolate', 'accuratamente', 'per', 'amalgamare', 'questi', 'due', 'ingredienti', 'Posizionate', 'un', 'colino', 'sul', 'recipiente', 'e', 'poi', 'setacciate', 'la', 'farina', 'nella', 'ciotola', '(', 'per', 'comodità', 'potete', 'anche', 'aggiungerla', 'in', 'due', 'tempi', 'e', 'mescolare', 'così', 'da', 'evitare', 'la', 'formazione', 'di', 'grumi', ')', '.', 'Poi', 'con', 'le', 'fruste', 'mescolate', 'energicamente', 'per', 'assorbire', 'la', 'farina', 'Continuate', 'a', 'mescolare', 'fino', 'ad', 'ottenere', 'un', 'composto', 'omogeneo', ',', 'vellutato', 'e', 'privo', 'di', 'grumi', 'A', 'questo', 'punto', 'coprite', 'la', 'ciotola', 'con', 'della', 'pellicola', 'alimentare', 'trasparente', 'e', 'lasciate', 'riposare', 'per', 'almeno', '30', 'minuti', 'in', 'frigorifero', ':', 'questa', 'operazione', 'serve', 'a', 'far', 'assorbire', 'eventuali', 'grumi', 'Trascorso', 'il', 'tempo', 'mescolate', 'l', '’', 'impasto', 'per', 'farlo', 'rinvenire', 'Trascorso', 'circa', '1', 'minuto', 'a', 'fuoco', 'medio-basso', ',', 'dovreste', 'notare', 'una', 'leggera', 'doratura', ',', 'i', 'bordi', 'tenderanno', 'a', 'staccarsi', 'perciò', 'potrete', 'girare', 'la', 'prima', 'crepe', 'aiutandovi', 'con', 'una', 'paletta', 'Cuocete', 'anche', \"l'altro\", 'lato', 'per', '1', 'minuto', 'circa', ',', 'aspettando', 'che', 'prenda', 'colore', 'Una', 'volta', 'cotta', 'la', 'prima', ',', 'strasferitela', 'su', 'un', 'piatto', 'da', 'portata', 'o', 'su', 'di', 'un', 'tagliere', '.', 'Ripetete', 'questa', 'operazione', 'fino', 'a', 'finire', 'l', '’', 'impasto', ',', 'dovreste', 'ottenere', 'così', '15', 'crepe', 'del', 'diametro', 'di', '20', 'cm', ':', 'impilate', 'ogni', 'crepe', 'una', 'sopra', 'l', '’', 'altra', 'così', 'resteranno', 'morbide', '.', 'Ecco', 'pronte', 'le', 'vostre', 'crepe', 'dolci', 'e', 'salate', ',', 'non', 'vi', 'resta', 'che', 'farcirle']\n",
      "['Per', 'preparare', 'le', 'lasagne', 'alla', 'bolognese', ',', 'iniziate', 'dal', 'ragù', '.', 'Preparate', 'il', 'brodo', 'vegetale', 'che', 'dovrete', 'tenere', 'in', 'caldo', '.', 'Poi', 'prendete', 'la', 'pancetta', ',', 'tagliatela', 'prima', 'a', 'striscioline', 'Con', 'un', 'coltello', 'o', 'una', 'mezzaluna', 'sminuzzatela', 'per', 'bene', 'A', 'parte', 'preparate', 'un', 'trito', 'fine', 'con', 'carote', ',', 'cipolle', ',', 'sedano', 'e', 'tenetelo', 'da', 'parte', 'In', 'una', 'casseruola', 'versate', 'un', 'filo', \"d'olio\", 'e', 'la', 'pancetta', '.', 'Sgranatela', 'bene', 'con', 'un', 'mestolo', 'Aggiungete', 'poi', 'la', 'carne', 'macinata', 'Mescolate', 'e', 'alzate', 'la', 'fiamma', '.', 'Lasciate', 'rosolare', 'la', 'carne', 'senza', 'fretta', ',', 'dovrà', 'essere', 'ben', 'rosolata', 'per', 'sigillare', 'i', 'succhi', 'e', 'risultare', 'morbida', 'non', 'stopposa.Sfumate', 'con', 'il', 'vino', 'rosso', 'poi', 'aspettate', 'che', 'sia', 'completamente', 'evaporato', 'e', 'aggiungete', 'la', 'passata', 'di', 'pomodoro', 'Mescolate', ',', 'il', 'ragù', 'deve', 'cuocere', 'due', 'ore', '.', 'Quando', 'ha', 'ripreso', 'il', 'bollore', 'potete', 'aggiungete', 'poco', 'brodo', 'caldo', ',', 'uno', 'o', 'due', 'mestoli', 'Poi', 'fate', 'andare', 'il', 'ragù', 'per', 'un', 'paio', \"d'ore\", 'almeno.Dovrete', 'cuocere', 'con', 'il', 'coperchio', ',', 'senza', 'chiudere', 'del', 'tutto', 'Controllate', 'e', 'mescolate', 'di', 'tanto', 'in', 'tanto', ',', 'al', 'bisogno', 'aggiungete', 'altro', 'brodo', 'e', 'lasciate', 'cuocere', 'per', 'il', 'tempo', 'indicato', '.', 'Passate', 'adesso', 'alla', 'pasta', '.', 'Come', 'prima', 'cosa', 'versate', 'gli', 'spinaci', 'in', 'un', 'tegame', 'aggiungete', 'poca', 'acqua', ',', 'coprite', 'con', 'un', 'coperchio', 'e', 'lasciate', 'cuocere', 'fino', 'a', 'che', 'non', 'saranno', 'appassiti', ',', 'in', 'totale', 'ci', 'vorranno', '5-6', 'minuti', 'A', 'questo', 'punto', 'scolateli', ',', 'lasciateli', 'intiepidire', 'e', 'strizzateli', 'bene', 'Trasferiteli', 'in', 'un', 'mixer', 'e', 'frullateli', 'fino', 'ad', 'ottenere', 'una', 'purea', 'Dovrete', 'ricavarne', '100', 'g.', 'Adesso', 'su', 'una', 'spianatoia', 'versate', 'la', 'semola', 'e', 'la', 'farina', '00', 'aggiungete', 'gli', 'spinaci', 'e', 'create', 'una', 'forma', 'a', 'fontana', '.', 'Unite', 'le', 'uova', 'leggermente', 'sbattute', 'e', 'i', 'tuorli', ',', 'sempre', 'sbattuti', 'Iniziate', 'ad', 'impastare', 'il', 'tutto', 'partendo', 'dal', 'centro', 'in', 'questo', 'modo', 'le', 'uova', 'non', 'scivoleranno', 'fuori', 'dalla', 'fontana', '.', 'Impastate', 'bene', 'fino', 'ad', 'ottenere', 'un', 'panetto', 'omogeneo', 'Avvolgetelo', 'nella', 'pellicola', 'senza', 'farlo', 'bollire', '.', 'In', 'un', 'altro', 'tegame', 'versate', 'il', 'burro', 'Aggiungete', 'la', 'farina', 'in', 'una', 'volta', 'sola', 'Versate', 'quindi', 'il', 'latte', 'caldo', 'in', '3', 'volte', 'mescolando', 'bene', '.', 'Aggiungete', 'il', 'sale', 'e', 'aromatizzate', 'con', 'la', 'noce', 'moscata', 'Continuate', 'a', 'mescolare', 'fino', 'ad', 'ottenere', 'una', 'besciamella', 'cremosa', 'Trasferite', 'in', 'una', 'ciotolina', ',', 'coprite', 'con', 'pellicola', 'a', 'contatto', 'e', 'tenete', 'da', 'parte', '.', 'Non', 'appena', 'saranno', 'trascorsi', 'i', '30', 'minuti', 'riprendete', 'il', 'panetto', 'di', 'pasta', 'e', 'prelevatene', 'un', 'pezzo', 'Coprite', 'la', 'pasta', 'restante', 'con', 'la', 'pellicola', 'per', 'non', 'farla', 'seccare.Aiutandovi', 'con', 'un', 'po', \"'\", 'di', 'semola', 'appiattitelo', 'leggermente', 'sulla', 'spianatoia', 'in', 'modo', 'da', 'formare', 'un', 'rettangolo', 'e', 'stendete', 'la', 'pasta', 'nella', 'macchina', '.', 'Iniziate', 'da', 'uno', 'spessore', 'più', 'largo', ',', 'poi', 'ripiegate', 'la', 'passa', 'su', 'se', 'stessa', 'e', 'ripassatela', '.', 'Quando', 'sentite', 'che', 'è', 'troppo', 'umida', 'spolverizzate', 'con', 'un', 'po', \"'\", 'di', 'semola', '.', 'Riducete', 'man', 'mano', 'lo', 'spessore', 'fino', 'ad', 'ottenere', 'una', 'sfoglia', 'spessa', 'poco', 'più', 'di', 'mezzo', 'mm', '.', 'Trasferitela', 'su', 'una', 'spianatoia', 'e', 'tagliate', 'dei', 'rettangoli', 'grandi', '30x20', 'cm', 'Proseguite', 'in', 'questo', 'modo', 'fino', 'a', 'terminare', \"l'impasto\", 'e', 'nel', 'frattempo', 'mettete', 'sul', 'fuoco', 'una', 'pentola', 'colma', \"d'acqua\", 'e', 'salatela', '.', 'Quando', 'inizierà', 'a', 'bollire', 'mmergete', 'una', 'sfoglia', 'alla', 'volta', 'aspettate', '30-40', 'secondi', 'e', 'aiutandovi', 'con', 'una', 'schiumarola', 'scolatela', 'Trasferitela', 'su', 'un', 'vassoio', 'con', 'un', 'canovaccio', 'Prendete', 'una', 'teglia', 'da', 'lasagna', 'grande', '30x20', 'cm', 'e', 'imburrate', 'il', 'fondo', 'Aggiungete', 'uno', 'strato', 'sottile', 'di', 'besciamella', 'e', 'uno', 'di', 'ragù', 'Posizionate', 'quindi', 'la', 'prima', 'sfoglia', 'aggiungete', 'uno', 'strato', 'di', 'besciamella', 'e', 'uno', 'di', 'ragù', 'Aggiungete', 'il', 'parmigiano', 'grattugiato', 'Aggiungete', 'ancora', 'uno', 'strato', 'di', 'besciamella', 'e', 'uno', 'di', 'ragù', 'unite', 'il', 'formaggio', 'grattugiato', 'in', 'modo', 'da', 'coprire', 'interamente', 'la', 'pasta', 'Spolverizzate', 'con', 'il', 'formaggio', 'grattugiato', ',', 'aggiungete', 'dei', 'ciuffetti', 'di', 'burro']\n",
      "['Per', 'preparare', 'la', 'besciamella', 'per', 'prima', 'cosa', 'versate', 'il', 'latte', 'in', 'un', 'pentolino', 'aggiungete', 'la', 'noce', 'moscata', 'poi', 'fatelo', 'scaldare.Mettete', 'il', 'burro', 'in', 'un', 'altro', 'pentolino', 'Mescolate', 'vigorosamente', 'con', 'una', 'frusta', 'a', 'mano', 'per', 'evitare', 'la', 'formazione', 'di', 'grumi', 'Continuate', 'a', 'mescolare', 'fino', 'ad', 'ottenere', 'un', 'composto', 'dorato', ',', 'il', 'roux', 'A', 'questo', 'punto', 'stemperate', 'il', 'roux', 'versando', 'prima', 'poco', 'latte', 'caldo', 'e', 'poi', 'tutto', 'il', 'resto', 'Continuate', 'a', 'mescolare', 'a', 'fuoco', 'dolce', 'fino', 'a', 'raggiungere', 'la', 'consistenza', 'desiderata']\n",
      "['Per', 'preparare', 'la', 'pasta', 'per', 'la', 'pizza', 'abbiamo', 'scelto', 'di', 'impastare', 'il', 'tutto', 'a', 'mano', ',', 'ma', 'se', 'preferite', 'utilizzare', 'l', '’', 'impastatrice', 'potrete', 'seguire', 'lo', 'stesso', 'procedimento', ',', 'utilizzando', 'il', 'gancio', 'a', 'velocità', 'medio', 'bassa', '.', 'Come', 'prima', 'cosa', 'versate', 'le', 'due', 'farine', 'in', 'una', 'ciotola', 'sbriciolate', 'il', 'lievito', \"all'interno\", 'La', 'temperatura', 'ideale', \"dell'acqua\", 'è', 'di', '25°', '.', 'Mescolate', 'con', 'un', 'mestolo', 'di', 'legno', 'Continuate', 'sempre', 'a', 'mescolare', 'e', 'quando', 'avrete', 'aggiunto', 'circa', 'metà', \"dell'acqua\", 'potrete', 'aggiungere', 'anche', 'il', 'sale', 'Unite', 'poi', \"l'acqua\", 'rimasta', ',', 'sempre', 'lentamente', ',', 'sino', 'ad', 'ottenere', 'un', 'composto', 'omogeneo', ';', 'aiutatevi', 'con', 'le', 'mani', 'per', 'lavorarlo', 'meglio', 'Infine', 'trasferite', 'l', '’', 'impasto', 'sul', 'piano', 'da', 'lavoro', 'e', 'lavoratelo', 'con', 'le', 'mani', 'Ottenuto', 'un', 'bel', 'panetto', 'liscio', ',', 'lasciatelo', 'riposare', 'sul', 'piano', 'di', 'lavoro', 'per', 'una', 'decina', 'di', 'minuti', 'coprendolo', 'con', 'la', 'ciotola', 'Una', 'volta', 'riposato', 'dategli', 'una', 'piccola', 'piega', ':', 'immaginate', 'che', 'la', 'sfera', 'sia', 'divisa', 'in', '4', 'parti', ',', 'prendete', 'l', '’', 'estremità', 'di', 'ognuna', ',', 'tiratela', 'delicatamente', 'e', 'ripiegatela', 'verso', 'il', 'centro', 'Date', 'poi', 'una', 'piega', \"all'impasto\", 'Rigiratelo', 'su', 'se', 'stesso', 'dategli', 'la', 'forma', 'di', 'una', 'sfera', 'Trasferite', \"l'impasto\", 'così', 'formato', 'in', 'una', 'ciotola', ',', 'coprite', 'con', 'pellicola', 'trasparente', 'Trascorso', 'il', 'tempo', 'della', 'lievitazione', ',', \"l'impasto\", 'sarà', 'bello', 'gonfio', 'quindi', 'trasferitelo', 'sul', 'piano', 'da', 'lavoro', 'e', 'dividetelo', 'con', 'un', 'tarocco', 'in', '3', 'pezzi', 'da', '265', 'g', 'Se', 'dovesse', 'servirvi', ',', 'potete', 'infarinare', 'leggermente', 'il', 'piano', 'di', 'lavoro', '.', 'Ora', 'prendete', 'ciascuna', 'porzione', 'e', 'come', 'fatto', 'prima', 'sollevate', 'un', 'lembo', 'di', 'pasta', 'Rifate', 'poi', 'la', 'stessa', 'cosa', 'per', 'gli', 'altri', '3', 'lembi', 'di', 'pasta', 'Allungate', 'quindi', \"l'impasto\", 'piegandolo', 'su', 'se', 'stesso', 'Trasferite', 'man', 'mano', 'i', 'panetti', 'in', 'una', 'cassetta', 'per', 'pizza', 'precedentemente', 'unta', 'coprite', 'con', 'il', 'coperchio', 'prima', 'di', 'poter', 'tirare', 'l', '’', 'impasto', 'per', 'la', 'pizza', 'e', 'condirlo', 'a', 'vostro', 'piacimento', '!']\n",
      "['Per', 'realizzare', 'i', 'biscotti', 'di', 'Pan', 'di', 'zenzero', 'iniziate', 'dalla', 'frolla', 'speziata', ':', 'versate', 'nel', 'mixer', 'munito', 'di', 'lame', 'la', 'farina', 'Aggiungete', 'anche', '1/4', 'di', 'cucchiaino', 'di', 'bicarbonato', 'lo', 'zucchero', 'semolato', 'Quindi', 'unite', 'un', 'pizzico', 'di', 'sale', 'Per', 'ultimo', 'versate', 'il', 'burro', 'freddo', 'di', 'frigo', 'tagliato', 'a', 'dadini', 'frullate', 'il', 'composto', 'ad', 'intermittenza', 'per', 'non', 'scaldare', 'eccessivamente', \"l'impasto\", 'fino', 'a', 'ottenere', 'una', 'consistenza', 'sabbiosa', 'Versate', 'il', 'composto', 'sul', 'piano', 'di', 'lavoro', 'e', 'formate', 'la', 'classica', 'fontana', 'Versate', 'l', '’', 'uovo', 'al', 'centro', 'e', 'una', 'volta', 'che', 'l', '’', 'impasto', 'avrà', 'preso', 'consistenza', 'formate', 'un', 'panetto', 'piatto', 'e', 'copritelo', 'con', 'pellicola', 'trasparente', 'Ponete', 'l', '’', 'impasto', 'a', 'rassodare', 'in', 'frigorifero', 'per', 'almeno', '30', 'minuti', '.', 'Trascorso', 'il', 'tempo', 'di', 'riposo', ',', 'riprendete', 'l', '’', 'impasto', ',', 'stendetelo', 'con', 'il', 'mattarello', 'su', 'una', 'spianatoia', 'infarinata', 'ad', 'uno', 'spessore', 'tra', 'i', '7', 'mm', 'e', '1', 'cm', 'Ritagliate', 'la', 'frolla', 'con', 'le', 'formine', 'natalizie', 'che', 'preferite', ',', 'noi', 'abbiamo', 'scelto', 'i', 'classici', 'omini', 'di', 'Pan', 'di', 'zenzero', 'Se', 'volete', ',', 'in', 'questa', 'fase', 'potete', 'forare', 'i', 'biscotti', \"all'altezza\", 'della', 'testolina', 'degli', 'omini', 'per', 'far', 'passare', 'un', 'nastrino', 'e', 'poterli', 'appendere', 'all', '’', 'albero', '.', 'Con', 'le', 'dosi', 'indicate', 'otterrete', 'circa', '15', 'biscotti', '(', 'in', 'base', 'al', 'tipo', 'di', 'forme', 'usate', 'e', 'alle', 'dimensioni', 'il', 'numero', 'potrebbe', 'variare', ')', '.', 'Trasferite', 'i', 'biscotti', 'su', 'una', 'leccarda', 'rivestita', 'con', 'carta', 'da', 'forno', 'meglio', 'se', 'su', 'una', 'gratella.Intanto', 'preparate', 'la', 'ghiaccia', 'reale', ':', 'versate', 'gli', 'albumi', 'in', 'una', 'ciotola', 'iniziate', 'a', 'montare', 'con', 'le', 'fruste', 'elettriche', 'a', 'media', 'velocità', 'e', 'incorporate', 'poco', 'a', 'poco', 'lo', 'zucchero', 'a', 'velo', 'aiutandovi', 'con', 'un', 'cucchiaio', 'Trasferite', 'la', 'glassa', 'in', 'una', 'sac-à-poche', 'usa', 'e', 'getta']\n",
      "['Per', 'preparare', 'gli', 'spaghetti', 'alla', 'carbonara', 'cominciate', 'mettendo', 'sul', 'fuoco', 'una', 'pentola', 'con', 'l', '’', 'acqua', 'salata', 'per', 'cuocere', 'la', 'pasta', '.', 'Nel', 'frattempo', 'eliminate', 'la', 'cotenna', 'dal', 'guanciale', 'La', 'cotenna', 'avanzata', 'potrà', 'essere', 'riutilizzata', 'per', 'insaporire', 'altre', 'preparazioni', '.', 'Versate', 'i', 'pezzetti', 'in', 'una', 'padella', 'antiaderente', 'Nel', 'frattempo', 'tuffate', 'gli', 'spaghetti', 'nell', '’', 'acqua', 'bollente', 'aggiungete', 'anche', 'la', 'maggior', 'parte', 'del', 'Pecorino', 'previsto', 'dalla', 'ricetta', 'Insaporite', 'con', 'il', 'pepe', 'nero', 'amalgamate', 'tutto', 'con', 'una', 'frusta', 'a', 'mano', 'Aggiungete', 'un', 'cucchiaio', 'di', 'acqua', 'di', 'cottura', 'per', 'diluire', 'il', 'composto', 'e', 'mescolate', 'Intanto', 'il', 'guanciale', 'sarà', 'giunto', 'a', 'cottura', ',', 'spegnete', 'il', 'fuoco', 'e', 'tenetelo', 'da', 'parte', 'Scolate', 'la', 'pasta', 'al', 'dente', 'direttamente', 'nel', 'tegame', 'con', 'il', 'guanciale', 'Per', 'renderla', 'ben', 'cremosa', ',', 'al', 'bisogno', ',', 'potete', 'aggiungere', 'poca', 'acqua', 'di', 'cottura', 'della', 'pasta', 'Servite', 'subito', 'gli', 'spaghetti', 'alla', 'carbonara', 'insaporendoli', 'con', 'il', 'Pecorino', 'avanzato']\n"
     ]
    }
   ],
   "source": [
    "for doc in docs[:10]:\n",
    "    print(word_tokenize(doc, language='italian'))"
   ]
  },
  {
   "cell_type": "markdown",
   "metadata": {},
   "source": [
    "### Tokenizzatori basati su modelli linguistici"
   ]
  },
  {
   "cell_type": "code",
   "execution_count": 28,
   "metadata": {},
   "outputs": [],
   "source": [
    "import spacy\n",
    "from spacy.displacy import render"
   ]
  },
  {
   "cell_type": "code",
   "execution_count": 29,
   "metadata": {},
   "outputs": [],
   "source": [
    "nlp = spacy.load('it_core_news_lg')"
   ]
  },
  {
   "cell_type": "code",
   "execution_count": 30,
   "metadata": {},
   "outputs": [],
   "source": [
    "tokens = []\n",
    "for token in nlp(docs[0]):\n",
    "    tokens.append({'text': token.text, 'lemma': token.lemma_, 'pos': token.pos_, \n",
    "                   'tag': token.tag_, 'dep': token.dep_, 'shape': token.shape_, \n",
    "                   'alpha': token.is_alpha, 'stopword': token.is_stop})\n",
    "T = pd.DataFrame(tokens)"
   ]
  },
  {
   "cell_type": "code",
   "execution_count": 31,
   "metadata": {},
   "outputs": [
    {
     "data": {
      "text/html": [
       "<div>\n",
       "<style scoped>\n",
       "    .dataframe tbody tr th:only-of-type {\n",
       "        vertical-align: middle;\n",
       "    }\n",
       "\n",
       "    .dataframe tbody tr th {\n",
       "        vertical-align: top;\n",
       "    }\n",
       "\n",
       "    .dataframe thead th {\n",
       "        text-align: right;\n",
       "    }\n",
       "</style>\n",
       "<table border=\"1\" class=\"dataframe\">\n",
       "  <thead>\n",
       "    <tr style=\"text-align: right;\">\n",
       "      <th></th>\n",
       "      <th>text</th>\n",
       "      <th>lemma</th>\n",
       "      <th>pos</th>\n",
       "      <th>tag</th>\n",
       "      <th>dep</th>\n",
       "      <th>shape</th>\n",
       "      <th>alpha</th>\n",
       "      <th>stopword</th>\n",
       "    </tr>\n",
       "  </thead>\n",
       "  <tbody>\n",
       "    <tr>\n",
       "      <th>0</th>\n",
       "      <td>Per</td>\n",
       "      <td>per</td>\n",
       "      <td>ADP</td>\n",
       "      <td>E</td>\n",
       "      <td>mark</td>\n",
       "      <td>Xxx</td>\n",
       "      <td>True</td>\n",
       "      <td>True</td>\n",
       "    </tr>\n",
       "    <tr>\n",
       "      <th>1</th>\n",
       "      <td>preparare</td>\n",
       "      <td>preparare</td>\n",
       "      <td>VERB</td>\n",
       "      <td>V</td>\n",
       "      <td>advcl</td>\n",
       "      <td>xxxx</td>\n",
       "      <td>True</td>\n",
       "      <td>False</td>\n",
       "    </tr>\n",
       "    <tr>\n",
       "      <th>2</th>\n",
       "      <td>il</td>\n",
       "      <td>il</td>\n",
       "      <td>DET</td>\n",
       "      <td>RD</td>\n",
       "      <td>det</td>\n",
       "      <td>xx</td>\n",
       "      <td>True</td>\n",
       "      <td>True</td>\n",
       "    </tr>\n",
       "    <tr>\n",
       "      <th>3</th>\n",
       "      <td>tiramisù</td>\n",
       "      <td>tiramisù</td>\n",
       "      <td>NOUN</td>\n",
       "      <td>S</td>\n",
       "      <td>obj</td>\n",
       "      <td>xxxx</td>\n",
       "      <td>True</td>\n",
       "      <td>False</td>\n",
       "    </tr>\n",
       "    <tr>\n",
       "      <th>4</th>\n",
       "      <td>preparate</td>\n",
       "      <td>preparare</td>\n",
       "      <td>VERB</td>\n",
       "      <td>V</td>\n",
       "      <td>acl</td>\n",
       "      <td>xxxx</td>\n",
       "      <td>True</td>\n",
       "      <td>False</td>\n",
       "    </tr>\n",
       "    <tr>\n",
       "      <th>...</th>\n",
       "      <td>...</td>\n",
       "      <td>...</td>\n",
       "      <td>...</td>\n",
       "      <td>...</td>\n",
       "      <td>...</td>\n",
       "      <td>...</td>\n",
       "      <td>...</td>\n",
       "      <td>...</td>\n",
       "    </tr>\n",
       "    <tr>\n",
       "      <th>293</th>\n",
       "      <td>pronto</td>\n",
       "      <td>pronto</td>\n",
       "      <td>ADJ</td>\n",
       "      <td>A</td>\n",
       "      <td>conj</td>\n",
       "      <td>xxxx</td>\n",
       "      <td>True</td>\n",
       "      <td>False</td>\n",
       "    </tr>\n",
       "    <tr>\n",
       "      <th>294</th>\n",
       "      <td>per</td>\n",
       "      <td>per</td>\n",
       "      <td>ADP</td>\n",
       "      <td>E</td>\n",
       "      <td>mark</td>\n",
       "      <td>xxx</td>\n",
       "      <td>True</td>\n",
       "      <td>True</td>\n",
       "    </tr>\n",
       "    <tr>\n",
       "      <th>295</th>\n",
       "      <td>essere</td>\n",
       "      <td>essere</td>\n",
       "      <td>AUX</td>\n",
       "      <td>VA</td>\n",
       "      <td>aux</td>\n",
       "      <td>xxxx</td>\n",
       "      <td>True</td>\n",
       "      <td>True</td>\n",
       "    </tr>\n",
       "    <tr>\n",
       "      <th>296</th>\n",
       "      <td>gustato</td>\n",
       "      <td>gustare</td>\n",
       "      <td>VERB</td>\n",
       "      <td>V</td>\n",
       "      <td>advcl</td>\n",
       "      <td>xxxx</td>\n",
       "      <td>True</td>\n",
       "      <td>False</td>\n",
       "    </tr>\n",
       "    <tr>\n",
       "      <th>297</th>\n",
       "      <td>!</td>\n",
       "      <td>!</td>\n",
       "      <td>PUNCT</td>\n",
       "      <td>FS</td>\n",
       "      <td>punct</td>\n",
       "      <td>!</td>\n",
       "      <td>False</td>\n",
       "      <td>False</td>\n",
       "    </tr>\n",
       "  </tbody>\n",
       "</table>\n",
       "<p>298 rows × 8 columns</p>\n",
       "</div>"
      ],
      "text/plain": [
       "          text      lemma    pos tag    dep shape  alpha  stopword\n",
       "0          Per        per    ADP   E   mark   Xxx   True      True\n",
       "1    preparare  preparare   VERB   V  advcl  xxxx   True     False\n",
       "2           il         il    DET  RD    det    xx   True      True\n",
       "3     tiramisù   tiramisù   NOUN   S    obj  xxxx   True     False\n",
       "4    preparate  preparare   VERB   V    acl  xxxx   True     False\n",
       "..         ...        ...    ...  ..    ...   ...    ...       ...\n",
       "293     pronto     pronto    ADJ   A   conj  xxxx   True     False\n",
       "294        per        per    ADP   E   mark   xxx   True      True\n",
       "295     essere     essere    AUX  VA    aux  xxxx   True      True\n",
       "296    gustato    gustare   VERB   V  advcl  xxxx   True     False\n",
       "297          !          !  PUNCT  FS  punct     !  False     False\n",
       "\n",
       "[298 rows x 8 columns]"
      ]
     },
     "execution_count": 31,
     "metadata": {},
     "output_type": "execute_result"
    }
   ],
   "source": [
    "T"
   ]
  },
  {
   "cell_type": "code",
   "execution_count": 32,
   "metadata": {},
   "outputs": [
    {
     "data": {
      "text/html": [
       "<span class=\"tex2jax_ignore\"><svg xmlns=\"http://www.w3.org/2000/svg\" xmlns:xlink=\"http://www.w3.org/1999/xlink\" xml:lang=\"it\" id=\"128e52e66ebd48e9be1e502abebd7943-0\" class=\"displacy\" width=\"1800\" height=\"399.5\" direction=\"ltr\" style=\"max-width: none; height: 399.5px; color: #000000; background: #ffffff; font-family: Arial; direction: ltr\">\n",
       "<text class=\"displacy-token\" fill=\"currentColor\" text-anchor=\"middle\" y=\"309.5\">\n",
       "    <tspan class=\"displacy-word\" fill=\"currentColor\" x=\"50\">Per</tspan>\n",
       "    <tspan class=\"displacy-tag\" dy=\"2em\" fill=\"currentColor\" x=\"50\">ADP</tspan>\n",
       "</text>\n",
       "\n",
       "<text class=\"displacy-token\" fill=\"currentColor\" text-anchor=\"middle\" y=\"309.5\">\n",
       "    <tspan class=\"displacy-word\" fill=\"currentColor\" x=\"225\">preparare</tspan>\n",
       "    <tspan class=\"displacy-tag\" dy=\"2em\" fill=\"currentColor\" x=\"225\">VERB</tspan>\n",
       "</text>\n",
       "\n",
       "<text class=\"displacy-token\" fill=\"currentColor\" text-anchor=\"middle\" y=\"309.5\">\n",
       "    <tspan class=\"displacy-word\" fill=\"currentColor\" x=\"400\">il</tspan>\n",
       "    <tspan class=\"displacy-tag\" dy=\"2em\" fill=\"currentColor\" x=\"400\">DET</tspan>\n",
       "</text>\n",
       "\n",
       "<text class=\"displacy-token\" fill=\"currentColor\" text-anchor=\"middle\" y=\"309.5\">\n",
       "    <tspan class=\"displacy-word\" fill=\"currentColor\" x=\"575\">tiramisù</tspan>\n",
       "    <tspan class=\"displacy-tag\" dy=\"2em\" fill=\"currentColor\" x=\"575\">NOUN</tspan>\n",
       "</text>\n",
       "\n",
       "<text class=\"displacy-token\" fill=\"currentColor\" text-anchor=\"middle\" y=\"309.5\">\n",
       "    <tspan class=\"displacy-word\" fill=\"currentColor\" x=\"750\">preparate</tspan>\n",
       "    <tspan class=\"displacy-tag\" dy=\"2em\" fill=\"currentColor\" x=\"750\">VERB</tspan>\n",
       "</text>\n",
       "\n",
       "<text class=\"displacy-token\" fill=\"currentColor\" text-anchor=\"middle\" y=\"309.5\">\n",
       "    <tspan class=\"displacy-word\" fill=\"currentColor\" x=\"925\">il</tspan>\n",
       "    <tspan class=\"displacy-tag\" dy=\"2em\" fill=\"currentColor\" x=\"925\">DET</tspan>\n",
       "</text>\n",
       "\n",
       "<text class=\"displacy-token\" fill=\"currentColor\" text-anchor=\"middle\" y=\"309.5\">\n",
       "    <tspan class=\"displacy-word\" fill=\"currentColor\" x=\"1100\">caffé</tspan>\n",
       "    <tspan class=\"displacy-tag\" dy=\"2em\" fill=\"currentColor\" x=\"1100\">NOUN</tspan>\n",
       "</text>\n",
       "\n",
       "<text class=\"displacy-token\" fill=\"currentColor\" text-anchor=\"middle\" y=\"309.5\">\n",
       "    <tspan class=\"displacy-word\" fill=\"currentColor\" x=\"1275\">con</tspan>\n",
       "    <tspan class=\"displacy-tag\" dy=\"2em\" fill=\"currentColor\" x=\"1275\">ADP</tspan>\n",
       "</text>\n",
       "\n",
       "<text class=\"displacy-token\" fill=\"currentColor\" text-anchor=\"middle\" y=\"309.5\">\n",
       "    <tspan class=\"displacy-word\" fill=\"currentColor\" x=\"1450\">la</tspan>\n",
       "    <tspan class=\"displacy-tag\" dy=\"2em\" fill=\"currentColor\" x=\"1450\">DET</tspan>\n",
       "</text>\n",
       "\n",
       "<text class=\"displacy-token\" fill=\"currentColor\" text-anchor=\"middle\" y=\"309.5\">\n",
       "    <tspan class=\"displacy-word\" fill=\"currentColor\" x=\"1625\">moka</tspan>\n",
       "    <tspan class=\"displacy-tag\" dy=\"2em\" fill=\"currentColor\" x=\"1625\">NOUN</tspan>\n",
       "</text>\n",
       "\n",
       "<g class=\"displacy-arrow\">\n",
       "    <path class=\"displacy-arc\" id=\"arrow-128e52e66ebd48e9be1e502abebd7943-0-0\" stroke-width=\"2px\" d=\"M70,264.5 C70,177.0 215.0,177.0 215.0,264.5\" fill=\"none\" stroke=\"currentColor\"/>\n",
       "    <text dy=\"1.25em\" style=\"font-size: 0.8em; letter-spacing: 1px\">\n",
       "        <textPath xlink:href=\"#arrow-128e52e66ebd48e9be1e502abebd7943-0-0\" class=\"displacy-label\" startOffset=\"50%\" side=\"left\" fill=\"currentColor\" text-anchor=\"middle\">mark</textPath>\n",
       "    </text>\n",
       "    <path class=\"displacy-arrowhead\" d=\"M70,266.5 L62,254.5 78,254.5\" fill=\"currentColor\"/>\n",
       "</g>\n",
       "\n",
       "<g class=\"displacy-arrow\">\n",
       "    <path class=\"displacy-arc\" id=\"arrow-128e52e66ebd48e9be1e502abebd7943-0-1\" stroke-width=\"2px\" d=\"M420,264.5 C420,177.0 565.0,177.0 565.0,264.5\" fill=\"none\" stroke=\"currentColor\"/>\n",
       "    <text dy=\"1.25em\" style=\"font-size: 0.8em; letter-spacing: 1px\">\n",
       "        <textPath xlink:href=\"#arrow-128e52e66ebd48e9be1e502abebd7943-0-1\" class=\"displacy-label\" startOffset=\"50%\" side=\"left\" fill=\"currentColor\" text-anchor=\"middle\">det</textPath>\n",
       "    </text>\n",
       "    <path class=\"displacy-arrowhead\" d=\"M420,266.5 L412,254.5 428,254.5\" fill=\"currentColor\"/>\n",
       "</g>\n",
       "\n",
       "<g class=\"displacy-arrow\">\n",
       "    <path class=\"displacy-arc\" id=\"arrow-128e52e66ebd48e9be1e502abebd7943-0-2\" stroke-width=\"2px\" d=\"M245,264.5 C245,89.5 570.0,89.5 570.0,264.5\" fill=\"none\" stroke=\"currentColor\"/>\n",
       "    <text dy=\"1.25em\" style=\"font-size: 0.8em; letter-spacing: 1px\">\n",
       "        <textPath xlink:href=\"#arrow-128e52e66ebd48e9be1e502abebd7943-0-2\" class=\"displacy-label\" startOffset=\"50%\" side=\"left\" fill=\"currentColor\" text-anchor=\"middle\">obj</textPath>\n",
       "    </text>\n",
       "    <path class=\"displacy-arrowhead\" d=\"M570.0,266.5 L578.0,254.5 562.0,254.5\" fill=\"currentColor\"/>\n",
       "</g>\n",
       "\n",
       "<g class=\"displacy-arrow\">\n",
       "    <path class=\"displacy-arc\" id=\"arrow-128e52e66ebd48e9be1e502abebd7943-0-3\" stroke-width=\"2px\" d=\"M595,264.5 C595,177.0 740.0,177.0 740.0,264.5\" fill=\"none\" stroke=\"currentColor\"/>\n",
       "    <text dy=\"1.25em\" style=\"font-size: 0.8em; letter-spacing: 1px\">\n",
       "        <textPath xlink:href=\"#arrow-128e52e66ebd48e9be1e502abebd7943-0-3\" class=\"displacy-label\" startOffset=\"50%\" side=\"left\" fill=\"currentColor\" text-anchor=\"middle\">acl</textPath>\n",
       "    </text>\n",
       "    <path class=\"displacy-arrowhead\" d=\"M740.0,266.5 L748.0,254.5 732.0,254.5\" fill=\"currentColor\"/>\n",
       "</g>\n",
       "\n",
       "<g class=\"displacy-arrow\">\n",
       "    <path class=\"displacy-arc\" id=\"arrow-128e52e66ebd48e9be1e502abebd7943-0-4\" stroke-width=\"2px\" d=\"M945,264.5 C945,177.0 1090.0,177.0 1090.0,264.5\" fill=\"none\" stroke=\"currentColor\"/>\n",
       "    <text dy=\"1.25em\" style=\"font-size: 0.8em; letter-spacing: 1px\">\n",
       "        <textPath xlink:href=\"#arrow-128e52e66ebd48e9be1e502abebd7943-0-4\" class=\"displacy-label\" startOffset=\"50%\" side=\"left\" fill=\"currentColor\" text-anchor=\"middle\">det</textPath>\n",
       "    </text>\n",
       "    <path class=\"displacy-arrowhead\" d=\"M945,266.5 L937,254.5 953,254.5\" fill=\"currentColor\"/>\n",
       "</g>\n",
       "\n",
       "<g class=\"displacy-arrow\">\n",
       "    <path class=\"displacy-arc\" id=\"arrow-128e52e66ebd48e9be1e502abebd7943-0-5\" stroke-width=\"2px\" d=\"M770,264.5 C770,89.5 1095.0,89.5 1095.0,264.5\" fill=\"none\" stroke=\"currentColor\"/>\n",
       "    <text dy=\"1.25em\" style=\"font-size: 0.8em; letter-spacing: 1px\">\n",
       "        <textPath xlink:href=\"#arrow-128e52e66ebd48e9be1e502abebd7943-0-5\" class=\"displacy-label\" startOffset=\"50%\" side=\"left\" fill=\"currentColor\" text-anchor=\"middle\">obj</textPath>\n",
       "    </text>\n",
       "    <path class=\"displacy-arrowhead\" d=\"M1095.0,266.5 L1103.0,254.5 1087.0,254.5\" fill=\"currentColor\"/>\n",
       "</g>\n",
       "\n",
       "<g class=\"displacy-arrow\">\n",
       "    <path class=\"displacy-arc\" id=\"arrow-128e52e66ebd48e9be1e502abebd7943-0-6\" stroke-width=\"2px\" d=\"M1295,264.5 C1295,89.5 1620.0,89.5 1620.0,264.5\" fill=\"none\" stroke=\"currentColor\"/>\n",
       "    <text dy=\"1.25em\" style=\"font-size: 0.8em; letter-spacing: 1px\">\n",
       "        <textPath xlink:href=\"#arrow-128e52e66ebd48e9be1e502abebd7943-0-6\" class=\"displacy-label\" startOffset=\"50%\" side=\"left\" fill=\"currentColor\" text-anchor=\"middle\">case</textPath>\n",
       "    </text>\n",
       "    <path class=\"displacy-arrowhead\" d=\"M1295,266.5 L1287,254.5 1303,254.5\" fill=\"currentColor\"/>\n",
       "</g>\n",
       "\n",
       "<g class=\"displacy-arrow\">\n",
       "    <path class=\"displacy-arc\" id=\"arrow-128e52e66ebd48e9be1e502abebd7943-0-7\" stroke-width=\"2px\" d=\"M1470,264.5 C1470,177.0 1615.0,177.0 1615.0,264.5\" fill=\"none\" stroke=\"currentColor\"/>\n",
       "    <text dy=\"1.25em\" style=\"font-size: 0.8em; letter-spacing: 1px\">\n",
       "        <textPath xlink:href=\"#arrow-128e52e66ebd48e9be1e502abebd7943-0-7\" class=\"displacy-label\" startOffset=\"50%\" side=\"left\" fill=\"currentColor\" text-anchor=\"middle\">det</textPath>\n",
       "    </text>\n",
       "    <path class=\"displacy-arrowhead\" d=\"M1470,266.5 L1462,254.5 1478,254.5\" fill=\"currentColor\"/>\n",
       "</g>\n",
       "\n",
       "<g class=\"displacy-arrow\">\n",
       "    <path class=\"displacy-arc\" id=\"arrow-128e52e66ebd48e9be1e502abebd7943-0-8\" stroke-width=\"2px\" d=\"M770,264.5 C770,2.0 1625.0,2.0 1625.0,264.5\" fill=\"none\" stroke=\"currentColor\"/>\n",
       "    <text dy=\"1.25em\" style=\"font-size: 0.8em; letter-spacing: 1px\">\n",
       "        <textPath xlink:href=\"#arrow-128e52e66ebd48e9be1e502abebd7943-0-8\" class=\"displacy-label\" startOffset=\"50%\" side=\"left\" fill=\"currentColor\" text-anchor=\"middle\">obl</textPath>\n",
       "    </text>\n",
       "    <path class=\"displacy-arrowhead\" d=\"M1625.0,266.5 L1633.0,254.5 1617.0,254.5\" fill=\"currentColor\"/>\n",
       "</g>\n",
       "</svg></span>"
      ],
      "text/plain": [
       "<IPython.core.display.HTML object>"
      ]
     },
     "metadata": {},
     "output_type": "display_data"
    }
   ],
   "source": [
    "sentence = \"Per preparare il tiramisù preparate il caffé con la moka\"\n",
    "render(nlp(sentence))"
   ]
  },
  {
   "cell_type": "code",
   "execution_count": 33,
   "metadata": {},
   "outputs": [],
   "source": [
    "def spacy_tokenizer(text, lowercase=True, lemma=True, keep_pos=None):\n",
    "    def selector(token, lemma=lemma, keep_pos=keep_pos):\n",
    "        if keep_pos is None or token.pos_ in keep_pos:\n",
    "            if lemma:\n",
    "                return token.lemma_ \n",
    "            else:\n",
    "                return token.text \n",
    "    tokens = []\n",
    "    for token in nlp(text):\n",
    "        s = selector(token)\n",
    "        if s is not None:\n",
    "            if lowercase:\n",
    "                tokens.append(s.lower())\n",
    "            else:\n",
    "                tokens.append(s)\n",
    "    return tokens"
   ]
  },
  {
   "cell_type": "code",
   "execution_count": 34,
   "metadata": {},
   "outputs": [
    {
     "name": "stdout",
     "output_type": "stream",
     "text": [
      "['preparare', 'preparare', 'ottenere ne', 'poi', 'zuccherare', 'avere', 'mettere', 'lasciatelo', 'raffreddare', 'basso', 'ampio', 'separate', 'dividere', 'ricordare', 'montare', 'bene', 'non', 'dovere', 'presentare', 'montate', 'elettrico', 'versare', 'solo', 'non', 'essere', 'diventare', 'chiaro', 'spumoso', 'ancora', 'potrete', 'aggiungere', 'poco', 'incorporare', 'avere', 'ottenere', 'denso', 'compatto', 'essere', 'schiumosi', 'versare', 'restante', 'po’', 'dovrete', 'montare li', 'bene', 'fermare', 'così', 'stemperereto', 'dopodiché', 'procedete', 'aggiungere', 'restante', 'poco', 'mescolare', 'molto', 'delicatamente', 'alto', 'essere', 'ora', 'pronto', 'distribuitene', 'generoso', 'grande', 'distribuire', 'bene', 'inzuppate', 'freddo', 'prima', 'poi', 'altro', 'distribuire', 'imbevere', 'cercare', 'sistemare li', 'così', 'ottenere', 'primo', 'aggiungete', 'livellatelare', 'coprire li', 'completamente', 'continuare', 'distribuire', 'imbevere', 'poi', 'realizzare', 'altro', 'trasferite', 'rimanere', 'liscio', 'realizzare', 'spolverizzatela', 'amaro', 'essere', 'pronto', 'essere', 'gustare']\n",
      "['preparare', 'assicurateve', 'essere', 'morbido', 'versare', 'semolato', 'unite', 'lavorare', 'elettrico', 'fino', 'amalgamare', 'aggiungere', 'essere', 'bene', 'assorbire', 'unire', 'lavorare', 'elettrico', 'aggiungetere', 'adesso', 'utilizzare', 'prelevare', 'circa', 'adagiare', 'rivestire', 'bene', 'distanziare', 'infatti', 'tendare', 'allargare si', 'molto', 'cuocete', 'statico', 'preriscaldare', 'sino', 'non', 'essere', 'bene', 'dorato', 'sfornate', 'lasciare', 'raffreddare', 'servire']\n",
      "['inizare', 'fondere', 'basse', 'quindi', 'lasciare', 'intiepidire', 'intanto', 'dividere', 'versate', 'sbatteteli', 'poi', 'unire', 'fuso', 'montate', 'non', 'risultare', 'chiaro', 'unite', 'mescolare', 'amalgamare', 'ora', 'montare', 'avere', 'tenere', 'versare', 'poco', 'mettere', 'scaldare', 'medio', 'non', 'alto', 'altrimenti', 'non', 'darere', 'lievitare', 'bene', 'diventere', 'troppo', 'scuro', 'ampio', 'meglio', 'spesso', 'necessario', 'ungere', 'spandere', 'versate', 'preparare', 'non', 'essere', 'spandere lo', 'iniziare', 'comparire', 'essere', 'dorato', 'giratelo', 'altro', 'come', 'essere', 'quindi', 'fare', 'dorare', 'anche', 'altro', 'essere', 'pronto', 'proseguite', 'così', 'disponere', 'impilateli', 'dovere', 'formare si', 'incirca', 'serviteli', 'caldo', 'cospare si', 'potete', 'accompagnare', 'fresco', 'sciroppato']\n",
      "['preparare', 'versare', 'mescolare', 'leggermente', 'portare', 'c', 'misurare', 'poco', 'prima', 'raggiungere', 'c', 'quindi', 'c', 'cominciare', 'montare', 'elettrico', 'continuate', 'montare', 'fino', 'completo', 'ottenere', 'così', 'ammorbidire', 'poi', 'aggiungere', 'poco', 'oramai', 'freddo', 'incorporate', 'marisa', 'mescolare', 'essere', 'pronto', 'potete', 'gustare la', 'insieme', 'guarnere', 'amaro', 'setacciare']\n",
      "['preparare', 'dolce', 'salato', 'iniziare', 'rompere', 'alto', 'mescolate', 'accuratamente', 'amalgamare', 'posizionate', 'poi', 'setacciare', 'potere', 'anche', 'aggiungere la', 'mescolare', 'così', 'evitare', 'poi', 'mescolare', 'energicamente', 'assorbire', 'continuate', 'mescolare', 'fino', 'ottenere', 'omogeneo', 'vellutare', 'privo', 'coprite', 'alimentare', 'trasparente', 'lasciare', 'riposare', 'almeno', 'servire', 'fare', 'assorbire', 'eventuale', 'trascorso', 'mescolate', 'fare lo', 'rinvenire', 'trascorso', 'circa', 'medio', 'basso', 'dovreste', 'notare', 'leggero', 'tendere', 'staccare si', 'potrere', 'girare', 'primo', 'aiutare vi', 'cuocete', 'anche', 'altro', 'circa', 'aspettare', 'prendere', 'cotto', 'primo', 'strasferitela', 'ripetete', 'fino', 'finire', 'dovreste', 'ottenere', 'così', 'impilare', 'così', 'restare', 'morbido', 'ecco', 'pronto', 'dolce', 'salato', 'non', 'restare', 'farcire le']\n",
      "['preparare', 'iniziare', 'preparate', 'vegetale', 'dovere', 'tenere', 'poi', 'prendere', 'tagliatela', 'prima', 'sminuzzatelo', 'preparare', 'fine', 'sedano', 'tenetelo', 'versare', 'sgranatela', 'bene', 'aggiungete', 'poi', 'macinato', 'mescolate', 'alzare', 'lasciate', 'rosolare', 'dovere', 'essere', 'bene', 'rosolare', 'sigillare', 'risultare', 'morbido', 'non', 'stopposo', 'sfumate', 'rosso', 'poi', 'aspettare', 'essere', 'completamente', 'evaporare', 'aggiungere', 'mescolate', 'dovere', 'cuocere', 'avere', 'riprendere', 'poete', 'aggiungere', 'caldo', 'poi', 'fare', 'andare', 'almeno', 'dovrete', 'cuocere', 'chiudere', 'controllare', 'mescolare', 'tanto', 'aggiungete', 'altro', 'lasciare', 'cuocere', 'indicato', 'passate', 'adesso', 'primo', 'versare', 'aggiungere', 'coprire', 'lasciare', 'cuocere', 'fino', 'non', 'essere', 'appassiti', 'vorre', 'scolateli', 'lasciatere li', 'intiepidire', 'strizzateli', 'bene', 'trasferiteli', 'frullateli', 'fino', 'ottenere', 'dovrete', 'ricavare ne', 'g.', 'adesso', 'versare', 'aggiungere', 'creare', 'unite', 'leggermente', 'sbattere', 'sempre', 'sbattuti', 'iniziare', 'impastare', 'partire', 'non', 'scivolare', 'fuori', 'impastate', 'bene', 'fino', 'ottenere', 'omogeneo', 'avvolgetelo', 'fare lo', 'bollire', 'altro', 'versare', 'aggiungete', 'solo', 'quindi', 'caldo', 'mescolare', 'bene', 'aggiungete', 'aromatizzare', 'moscato', 'continuate', 'mescolare', 'fino', 'ottenere', 'cremoso', 'trasferite', 'coprire', 'tenere', 'non', 'appena', 'essere', 'trascorrere', 'riprendetire', 'prelevatene', 'coprire', 'restare', 'non', 'fare lo', 'seccare', 'aiutandovi', 'appiattitelo', 'leggermente', 'formare', 'stendere', 'iniziate', 'più', 'largo', 'poi', 'ripiegato', 'passare', 'stesso', 'ripassatela', 'sentire', 'essere', 'troppo', 'umido', 'spolverizzare', 'riducete', 'fino', 'ottenere', 'spesso', 'poco', 'mezzo', 'trasferitela', 'tagliare', 'grande', 'proseguite', 'fino', 'terminare', 'mettere', 'colmo', 'iniziare', 'bollire', 'mmergeto', 'aspettare', 'aiutare vi', 'scolatela', 'trasferitela', 'prendete', 'grande', 'imburrare', 'aggiungete', 'sottile', 'posizionate', 'quindi', 'primo', 'aggiungere', 'aggiungete', 'grattugiato', 'aggiungete', 'ancora', 'unite', 'grattugiato', 'coprire', 'interamente', 'spolverizzate', 'grattugiato', 'aggiungere']\n",
      "['preparare', 'primo', 'versare', 'aggiungere', 'moscare', 'poi', 'fatelo', 'scaldare', 'mettete', 'altro', 'mescolare', 'vigorosamente', 'evitare', 'continuare', 'mescolare', 'fino', 'ottenere', 'dorato', 'stemperare', 'versare', 'prima', 'caldo', 'poi', 'continuate', 'mescolare', 'dolce', 'fino', 'raggiungere', 'desiderato']\n",
      "['preparare', 'avere', 'scegliere', 'impastare', 'preferire', 'utilizzare', 'potrete', 'seguire', 'stesso', 'utilizzare', 'medio', 'basso', 'primo', 'versare', 'sbriciolare', 'ideale', 'essere', 'mescolate', 'continuate', 'sempre', 'mescolare', 'avere', 'aggiungere', 'circa', 'potrete', 'aggiungere', 'anche', 'unite', 'poi', 'rimasto', 'sempre', 'lentamente', 'sino', 'ottenere', 'omogeneo', 'aiutatevere', 'lavorare lo', 'meglio', 'infine', 'trasferire', 'lavoratelo', 'ottenuto', 'bello', 'liscio', 'lasciatelo', 'riposare', 'coprere lo', 'riposare', 'dategli', 'piccolo', 'immaginare', 'essere', 'dividere', 'prendere', 'tiratela', 'delicatamente', 'ripiegatela', 'date', 'poi', 'rigiratelo', 'stesso', 'dategli', 'trasferite', 'così', 'formare', 'coprire', 'trasparente', 'trascorso', 'essere', 'bello', 'gonfio', 'quindi', 'trasferitelo', 'dividetelo', 'dovere', 'servire vi', 'potere', 'infarinare', 'leggermente', 'ora', 'prendere', 'prima', 'sollevare', 'rifate', 'poi', 'stesso', 'altro', 'allungate', 'quindi', 'piegare lo', 'stesso', 'trasferite', 'precedentemente', 'unto', 'coprite', 'prima', 'potere', 'tirare', 'condire lo']\n",
      "['realizzare', 'pan', 'iniziare', 'speziato', 'versare', 'munire', 'aggiungete', 'anche', 'semolato', 'unite', 'ultimo', 'versato', 'freddo', 'tagliare', 'frullare', 'non', 'scaldare', 'eccessivamente', 'fino', 'ottenere', 'sabbioso', 'formare', 'classico', 'versate', 'avere', 'prendere', 'formare', 'piatto', 'copritelo', 'trasparente', 'ponete', 'rassodare', 'almeno', 'trascorso', 'riprendetire', 'stendetelo', 'infarinare', 'ritagliate', 'natalizio', 'preferire', 'avere', 'scegliere', 'classico', 'pan', 'volere', 'potere', 'forare', 'fare', 'passare', 'potere li', 'appendere', 'indicato', 'otterrete', 'circa', 'usato', 'potere', 'variare', 'trasferite', 'rivestire', 'meglio', 'intanto', 'preparare', 'reale', 'versare', 'iniziare', 'montare', 'elettrico', 'medio', 'incorporare', 'poco', 'poco', 'aiutare vi', 'trasferite', 'usa', 'gettare']\n",
      "['preparare', 'cominciare', 'mettere', 'salare', 'cuocere', 'eliminate', 'avanzato', 'potere', 'essere', 'riutilizzare', 'insaporire', 'altro', 'versate', 'antiaderente', 'tuffare', 'bollente', 'aggiungete', 'anche', 'maggiore', 'pecorino', 'prevedere', 'insaporite', 'nero', 'amalgamato', 'aggiungete', 'diluire', 'mescolare', 'intanto', 'essere', 'giungere', 'spegnere', 'tenetelo', 'scolate', 'direttamente', 'rendere la', 'bene', 'cremoso', 'potere', 'aggiungere', 'servite', 'subito', 'insaporendole', 'pecorino', 'avanzato']\n"
     ]
    }
   ],
   "source": [
    "for doc in docs[:10]:\n",
    "    print(spacy_tokenizer(doc, lowercase=True, lemma=True, keep_pos=['PROPN', 'VERB', 'ADJ', 'ADV', 'AUX']))"
   ]
  },
  {
   "cell_type": "markdown",
   "metadata": {},
   "source": [
    "### Size of the vocabulary with different types of tokenizers"
   ]
  },
  {
   "cell_type": "code",
   "execution_count": 35,
   "metadata": {},
   "outputs": [],
   "source": [
    "from collections import defaultdict\n",
    "from tqdm.notebook import tqdm"
   ]
  },
  {
   "cell_type": "code",
   "execution_count": 36,
   "metadata": {},
   "outputs": [
    {
     "data": {
      "application/vnd.jupyter.widget-view+json": {
       "model_id": "2ab81d0855ef43b28e783cb1e1bff543",
       "version_major": 2,
       "version_minor": 0
      },
      "text/plain": [
       "  0%|          | 0/5935 [00:00<?, ?it/s]"
      ]
     },
     "metadata": {},
     "output_type": "display_data"
    },
    {
     "data": {
      "application/vnd.jupyter.widget-view+json": {
       "model_id": "261ce09640054c388fa555c4ee0c51db",
       "version_major": 2,
       "version_minor": 0
      },
      "text/plain": [
       "  0%|          | 0/5935 [00:00<?, ?it/s]"
      ]
     },
     "metadata": {},
     "output_type": "display_data"
    }
   ],
   "source": [
    "nltk_vocabulary = defaultdict(lambda: 0)\n",
    "spacy_vocabulary = defaultdict(lambda: 0)\n",
    "step = 10\n",
    "\n",
    "def counter(docs: list, tokenizer: callable, vocabulary: dict, step: int = 10):\n",
    "    run = list(enumerate(docs))\n",
    "    stats = []\n",
    "    for i, doc in tqdm(run):\n",
    "        if i % step == 0:\n",
    "            stats.append(len(vocabulary))\n",
    "        for token in tokenizer(doc):\n",
    "            vocabulary[token] += 1\n",
    "    return stats \n",
    "\n",
    "nltk_stats = counter(docs, word_tokenize, nltk_vocabulary, step=step)\n",
    "spacy_stats = counter(docs, spacy_tokenizer, spacy_vocabulary, step=step)\n"
   ]
  },
  {
   "cell_type": "code",
   "execution_count": 37,
   "metadata": {},
   "outputs": [
    {
     "data": {
      "image/png": "[encoded data removed]",
      "text/plain": [
       "<Figure size 600x300 with 1 Axes>"
      ]
     },
     "metadata": {},
     "output_type": "display_data"
    }
   ],
   "source": [
    "fig, ax = plt.subplots(figsize=(6, 3))\n",
    "ax.set_title('Vocabulary Size')\n",
    "ax.plot(nltk_stats, label='NLTK')\n",
    "ax.plot(spacy_stats, label='spaCy')\n",
    "ax.legend()\n",
    "plt.tight_layout()\n",
    "plt.show()"
   ]
  },
  {
   "cell_type": "markdown",
   "metadata": {},
   "source": [
    "### Tokenizzazione per apprendimento\n",
    "\n",
    "Per un'introduzione sui metodi basati su WOrdPiece si veda [WordPiece Example](./wordpiece.ipynb)\n",
    "\n",
    "WordPiece è un algoritmo di tokenizzazione basato su sotto-parole, comunemente utilizzato nei modelli basati su trasformatori come BERT. Migliora l'efficienza bilanciando la dimensione del vocabolario e la capacità di rappresentazione. L'obiettivo dell'addestramento è costruire un vocabolario ottimale a partire da dati testuali grezzi, equilibrando la dimensione del vocabolario con l'efficienza delle sotto-parole.\n",
    "\n",
    "#### Passo 1: Iniziamo con un vocabolario base\n",
    "Il vocabolario iniziale contiene tutti i singoli caratteri Unicode (A-Z, a-z, 0-9, punteggiatura), oltre a token speciali come `[UNK]`.\n",
    "\n",
    "#### Passo 2: Calcolare la frequenza di sotto-sequenze di caratteri\n",
    "Scansioniamo il corpus di addestramento e contiamo la frequenza di ogni coppia di token (inizialmente ogni carattere è considerato un token), contrassegnando con un carattere speciale i token che non sono quelli iniziali."
   ]
  },
  {
   "cell_type": "code",
   "execution_count": 43,
   "metadata": {},
   "outputs": [],
   "source": [
    "import nltk"
   ]
  },
  {
   "cell_type": "code",
   "execution_count": 44,
   "metadata": {},
   "outputs": [
    {
     "data": {
      "text/plain": [
       "m    ##e    4\n",
       "##e  ##s    4\n",
       "##s  ##c    4\n",
       "##c  ##o    4\n",
       "##o  ##l    4\n",
       "##l  ##a    2\n",
       "     ##o    1\n",
       "##a  ##r    1\n",
       "##r  ##e    1\n",
       "##a  ##v    1\n",
       "##v  ##o    1\n",
       "##l  ##i    1\n",
       "dtype: int64"
      ]
     },
     "execution_count": 44,
     "metadata": {},
     "output_type": "execute_result"
    }
   ],
   "source": [
    "corpus = [\"mescolo\", \"mescolare\", \"mescolavo\", \"mescoli\"]\n",
    "vocabulary = defaultdict(lambda: 0)\n",
    "c_prefix = \"##\"\n",
    "\n",
    "def update_vocabulary(corpus, vocabulary, c_prefix):\n",
    "    for text in corpus:\n",
    "        for i, (a, b) in enumerate(nltk.ngrams(text, n=2)):\n",
    "            if i == 0:\n",
    "                vocabulary[(a, f\"{c_prefix}{b}\")] += 1\n",
    "            else:\n",
    "                vocabulary[(f\"{c_prefix}{a}\", f\"{c_prefix}{b}\")] += 1\n",
    "\n",
    "update_vocabulary(corpus=corpus, vocabulary=vocabulary, c_prefix=c_prefix)\n",
    "\n",
    "pd.Series(vocabulary).sort_values(ascending=False)"
   ]
  },
  {
   "cell_type": "markdown",
   "metadata": {},
   "source": [
    "#### Passo 3: Combinare le coppie più frequenti e creare nuovi token\n",
    "Uniamo la coppia di token più frequente e aggiorniamo il vocabolario e il corpus sostituendo questa sequenza con un singolo token."
   ]
  },
  {
   "cell_type": "code",
   "execution_count": 45,
   "metadata": {},
   "outputs": [
    {
     "name": "stdout",
     "output_type": "stream",
     "text": [
      "['me', 's', 'c', 'o']\n",
      "['c', 'i', 'a', 'o']\n"
     ]
    }
   ],
   "source": [
    "pair = list(pd.Series(vocabulary).sort_values(ascending=False).head(1).keys())[0]\n",
    "new_token = f\"{pair[0].replace(c_prefix, '')}{pair[1].replace(c_prefix, '')}\"\n",
    "\n",
    "vocabulary[new_token] = vocabulary[pair]\n",
    "\n",
    "def wordpiece_split(word, vocabulary):\n",
    "    tokens = []\n",
    "    i = 0\n",
    "    while i < len(word):\n",
    "        matched = None\n",
    "        for j in range(len(word), i, -1):\n",
    "            subword = word[i:j]\n",
    "            if subword in vocabulary:\n",
    "                matched = subword\n",
    "                break\n",
    "        if matched is None:\n",
    "            matched = word[i]\n",
    "        tokens.append(matched)\n",
    "        i += len(matched)\n",
    "    return tokens\n",
    "\n",
    "print(wordpiece_split(\"mesco\", vocabulary=vocabulary))\n",
    "print(wordpiece_split(\"ciao\", vocabulary=vocabulary))\n",
    "\n",
    "new_corpus = []\n",
    "for text in corpus:\n",
    "    tokens = wordpiece_split(text, vocabulary=vocabulary)\n",
    "    new_corpus.append(tokens)\n",
    "\n",
    "corpus = new_corpus"
   ]
  },
  {
   "cell_type": "code",
   "execution_count": 46,
   "metadata": {},
   "outputs": [
    {
     "data": {
      "text/plain": [
       "[['me', 's', 'c', 'o', 'l', 'o'],\n",
       " ['me', 's', 'c', 'o', 'l', 'a', 'r', 'e'],\n",
       " ['me', 's', 'c', 'o', 'l', 'a', 'v', 'o'],\n",
       " ['me', 's', 'c', 'o', 'l', 'i']]"
      ]
     },
     "execution_count": 46,
     "metadata": {},
     "output_type": "execute_result"
    }
   ],
   "source": [
    "corpus"
   ]
  },
  {
   "cell_type": "markdown",
   "metadata": {},
   "source": [
    "#### Passo 4: Ripetere fino a raggiungere la dimensione massima del vocabolario\n",
    "Da quel momento in poi, tutte le porzioni di stringa che non trovano corrispondenza resteranno inalterate.\n"
   ]
  },
  {
   "cell_type": "code",
   "execution_count": 47,
   "metadata": {},
   "outputs": [],
   "source": [
    "update_vocabulary(corpus=corpus, vocabulary=vocabulary, c_prefix=c_prefix)"
   ]
  },
  {
   "cell_type": "code",
   "execution_count": 48,
   "metadata": {},
   "outputs": [
    {
     "data": {
      "text/plain": [
       "(##s, ##c)    8\n",
       "(##c, ##o)    8\n",
       "(##o, ##l)    8\n",
       "(m, ##e)      4\n",
       "(##e, ##s)    4\n",
       "(##l, ##a)    4\n",
       "me            4\n",
       "(me, ##s)     4\n",
       "(##l, ##o)    2\n",
       "(##a, ##r)    2\n",
       "(##r, ##e)    2\n",
       "(##a, ##v)    2\n",
       "(##v, ##o)    2\n",
       "(##l, ##i)    2\n",
       "dtype: int64"
      ]
     },
     "execution_count": 48,
     "metadata": {},
     "output_type": "execute_result"
    }
   ],
   "source": [
    "pd.Series(vocabulary).sort_values(ascending=False)"
   ]
  },
  {
   "cell_type": "code",
   "execution_count": 49,
   "metadata": {},
   "outputs": [
    {
     "name": "stdout",
     "output_type": "stream",
     "text": [
      "sc\n",
      "[['me', 'sc', 'o', 'l', 'o'], ['me', 'sc', 'o', 'l', 'a', 'r', 'e'], ['me', 'sc', 'o', 'l', 'a', 'v', 'o'], ['me', 'sc', 'o', 'l', 'i']]\n"
     ]
    }
   ],
   "source": [
    "pair = list(pd.Series(vocabulary).sort_values(ascending=False).head(1).keys())[0]\n",
    "new_token = f\"{pair[0].replace(c_prefix, '')}{pair[1].replace(c_prefix, '')}\"\n",
    "\n",
    "print(new_token)\n",
    "\n",
    "vocabulary[new_token] = vocabulary[pair]\n",
    "\n",
    "new_corpus = []\n",
    "for text in corpus:\n",
    "    tokens = wordpiece_split(\"\".join(text), vocabulary=vocabulary)\n",
    "    new_corpus.append(tokens)\n",
    "\n",
    "corpus = new_corpus\n",
    "\n",
    "print(corpus)"
   ]
  },
  {
   "cell_type": "markdown",
   "metadata": {},
   "source": [
    "Nota: questa implementazione ingenua non funziona completamente; per un esempio utilizzabile, puoi controllare qui: [WordPieace](./wordpiece.ipynb)"
   ]
  },
  {
   "cell_type": "code",
   "execution_count": null,
   "metadata": {},
   "outputs": [],
   "source": []
  }
 ],
 "metadata": {
  "kernelspec": {
   "display_name": "nlp",
   "language": "python",
   "name": "python3"
  },
  "language_info": {
   "codemirror_mode": {
    "name": "ipython",
    "version": 3
   },
   "file_extension": ".py",
   "mimetype": "text/x-python",
   "name": "python",
   "nbconvert_exporter": "python",
   "pygments_lexer": "ipython3",
   "version": "3.10.4"
  }
 },
 "nbformat": 4,
 "nbformat_minor": 2
}
