{
 "cells": [
  {
   "cell_type": "code",
   "execution_count": 2,
   "metadata": {},
   "outputs": [],
   "source": [
    "import pandas as pd \n",
    "import numpy as np\n",
    "import nlp.wordbags as wb \n",
    "from nlp.word2vec import Word2WordPrediction\n",
    "from nlp.w2w_readers import WordEmbeddings\n",
    "import pickle\n"
   ]
  },
  {
   "cell_type": "markdown",
   "metadata": {},
   "source": [
    "## Esempio minimo di Word2Vec sia come predittore che come embedding "
   ]
  },
  {
   "cell_type": "code",
   "execution_count": 48,
   "metadata": {},
   "outputs": [],
   "source": [
    "corpus = [\n",
    "    ['montagna', 'neve', 'ghiaccio', 'vetta', 'bosco', 'freddo'],\n",
    "    ['spiaggia', 'sabbia', 'mare', 'onda', 'sole', 'caldo'],\n",
    "    ['deserto', 'duna', 'cactus', 'sabbia', 'sole', 'arido'],\n",
    "    ['foresta', 'tropicale', 'liana', 'sole', 'umido', 'caldo'],\n",
    "    ['lago', 'abete', 'vento', 'neve', 'bosco', 'freddo'],\n",
    "    ['ghiaccio', 'artico', 'tormenta', 'neve', 'iceberg', 'gelido'],\n",
    "    ['duna', 'oasi', 'deserto', 'cactus', 'arido']\n",
    "]"
   ]
  },
  {
   "cell_type": "code",
   "execution_count": 49,
   "metadata": {},
   "outputs": [],
   "source": [
    "bow = wb.Bow(corpus=corpus)\n",
    "data_loader, inputs, outputs = bow.one_hot_skip_gram_dataloader(window=4, batch=2)"
   ]
  },
  {
   "cell_type": "code",
   "execution_count": 50,
   "metadata": {},
   "outputs": [
    {
     "name": "stdout",
     "output_type": "stream",
     "text": [
      "montagna | neve | ghiaccio | vetta | bosco | freddo\n",
      "spiaggia | sabbia | mare | onda | sole | caldo\n",
      "deserto | duna | cactus | sabbia | sole | arido\n",
      "foresta | tropicale | liana | sole | umido | caldo\n",
      "lago | abete | vento | neve | bosco | freddo\n",
      "ghiaccio | artico | tormenta | neve | iceberg | gelido\n",
      "duna | oasi | deserto | cactus | arido\n"
     ]
    }
   ],
   "source": [
    "for doc in corpus:\n",
    "    print(\" | \".join(doc))"
   ]
  },
  {
   "cell_type": "markdown",
   "metadata": {},
   "source": [
    "## Predittore semplice"
   ]
  },
  {
   "cell_type": "markdown",
   "metadata": {},
   "source": [
    "### Initialize and training the model"
   ]
  },
  {
   "cell_type": "code",
   "execution_count": 51,
   "metadata": {},
   "outputs": [
    {
     "name": "stderr",
     "output_type": "stream",
     "text": [
      "100%|██████████| 150/150 [00:00<00:00, 315.95it/s]"
     ]
    },
    {
     "name": "stdout",
     "output_type": "stream",
     "text": [
      "15.233318692161923 14.620825404212589\n"
     ]
    },
    {
     "name": "stderr",
     "output_type": "stream",
     "text": [
      "\n"
     ]
    }
   ],
   "source": [
    "w2w = Word2WordPrediction(input_dim=bow.size, hidden_dim=4)\n",
    "epochs = 150\n",
    "learning_rate = 0.001\n",
    "history = w2w.train(data_loader=data_loader, epochs=epochs, \n",
    "                    learning_rate=learning_rate)\n",
    "print(history[0], history[-1])"
   ]
  },
  {
   "cell_type": "code",
   "execution_count": 52,
   "metadata": {},
   "outputs": [],
   "source": [
    "model = WordEmbeddings(words=bow, model=w2w)"
   ]
  },
  {
   "cell_type": "markdown",
   "metadata": {},
   "source": [
    "### Predict"
   ]
  },
  {
   "cell_type": "code",
   "execution_count": 53,
   "metadata": {},
   "outputs": [
    {
     "data": {
      "text/plain": [
       "neve        0.936070\n",
       "ghiaccio    0.016087\n",
       "bosco       0.010349\n",
       "freddo      0.005761\n",
       "tormenta    0.003302\n",
       "artico      0.003214\n",
       "montagna    0.003113\n",
       "iceberg     0.003099\n",
       "vetta       0.002938\n",
       "abete       0.002779\n",
       "dtype: float32"
      ]
     },
     "execution_count": 53,
     "metadata": {},
     "output_type": "execute_result"
    }
   ],
   "source": [
    "search = 'montagna'\n",
    "y_pred = model.predict(search, topk=10)\n",
    "y_pred"
   ]
  },
  {
   "cell_type": "markdown",
   "metadata": {},
   "source": [
    "### Pseudo generazione"
   ]
  },
  {
   "cell_type": "code",
   "execution_count": 54,
   "metadata": {},
   "outputs": [],
   "source": [
    "start = \"iceberg\"\n",
    "testo = [start]\n",
    "for i in range(6):\n",
    "    p = model.predict(start)\n",
    "    next_word = np.random.choice(p.index.values, p=p.values / p.values.sum())\n",
    "    testo.append(next_word)\n",
    "    start = next_word"
   ]
  },
  {
   "cell_type": "code",
   "execution_count": 55,
   "metadata": {},
   "outputs": [
    {
     "data": {
      "text/plain": [
       "['iceberg', 'neve', 'lago', 'neve', 'ghiaccio', 'neve', 'lago']"
      ]
     },
     "execution_count": 55,
     "metadata": {},
     "output_type": "execute_result"
    }
   ],
   "source": [
    "testo"
   ]
  },
  {
   "cell_type": "markdown",
   "metadata": {},
   "source": [
    "### Embeddings"
   ]
  },
  {
   "cell_type": "code",
   "execution_count": 56,
   "metadata": {},
   "outputs": [
    {
     "data": {
      "text/plain": [
       "array([ 0.82992315,  0.83166915, -0.947049  , -0.9722851 ], dtype=float32)"
      ]
     },
     "execution_count": 56,
     "metadata": {},
     "output_type": "execute_result"
    }
   ],
   "source": [
    "model[search]\n",
    "model['spiaggia']"
   ]
  },
  {
   "cell_type": "code",
   "execution_count": 57,
   "metadata": {},
   "outputs": [
    {
     "data": {
      "text/plain": [
       "ghiaccio    1.000000\n",
       "artico      0.998472\n",
       "vetta       0.998028\n",
       "gelido      0.996586\n",
       "abete       0.996195\n",
       "tormenta    0.992974\n",
       "vento       0.988713\n",
       "iceberg     0.987923\n",
       "bosco       0.984885\n",
       "montagna    0.982684\n",
       "Name: ghiaccio, dtype: float32"
      ]
     },
     "execution_count": 57,
     "metadata": {},
     "output_type": "execute_result"
    }
   ],
   "source": [
    "search = \"ghiaccio\"\n",
    "y_sim = model.most_similar(search, topk=10)\n",
    "y_sim"
   ]
  },
  {
   "cell_type": "markdown",
   "metadata": {},
   "source": [
    "## Compositionality"
   ]
  },
  {
   "cell_type": "code",
   "execution_count": 63,
   "metadata": {},
   "outputs": [
    {
     "name": "stdout",
     "output_type": "stream",
     "text": [
      "sabbia\n"
     ]
    }
   ],
   "source": [
    "answer, a_vector = model.analogy('deserto', 'duna', 'mare')\n",
    "print(answer)"
   ]
  },
  {
   "cell_type": "code",
   "execution_count": 59,
   "metadata": {},
   "outputs": [
    {
     "data": {
      "text/plain": [
       "vetta       0.967534\n",
       "bosco       0.966688\n",
       "iceberg     0.966674\n",
       "artico      0.961259\n",
       "montagna    0.959348\n",
       "ghiaccio    0.958091\n",
       "abete       0.952729\n",
       "gelido      0.952454\n",
       "freddo      0.919057\n",
       "tormenta    0.918570\n",
       "dtype: float32"
      ]
     },
     "execution_count": 59,
     "metadata": {},
     "output_type": "execute_result"
    }
   ],
   "source": [
    "model.common_meanings(words=['bosco', 'foresta', 'montagna', 'freddo'])"
   ]
  },
  {
   "cell_type": "code",
   "execution_count": 60,
   "metadata": {},
   "outputs": [
    {
     "data": {
      "text/plain": [
       "sabbia     -0.698245\n",
       "montagna    0.942648\n",
       "vetta       0.968044\n",
       "ghiaccio    0.975802\n",
       "dtype: float32"
      ]
     },
     "execution_count": 60,
     "metadata": {},
     "output_type": "execute_result"
    }
   ],
   "source": [
    "model.spot_odd_one(words=['montagna', 'vetta', 'ghiaccio', 'sabbia'])"
   ]
  },
  {
   "cell_type": "code",
   "execution_count": 62,
   "metadata": {},
   "outputs": [
    {
     "data": {
      "text/plain": [
       "sabbia       0.967731\n",
       "caldo        0.961940\n",
       "onda         0.953320\n",
       "spiaggia     0.911282\n",
       "mare         0.884079\n",
       "deserto      0.519593\n",
       "arido        0.427811\n",
       "sole         0.411034\n",
       "liana        0.239419\n",
       "tropicale    0.217112\n",
       "dtype: float32"
      ]
     },
     "execution_count": 62,
     "metadata": {},
     "output_type": "execute_result"
    }
   ],
   "source": [
    "model.search(positive=['deserto', 'mare'], negative=['duna'])"
   ]
  },
  {
   "cell_type": "code",
   "execution_count": 46,
   "metadata": {},
   "outputs": [
    {
     "data": {
      "text/plain": [
       "abete      0.720306\n",
       "vento      0.690060\n",
       "lago       0.537278\n",
       "neve       0.484236\n",
       "cactus     0.417193\n",
       "duna       0.410956\n",
       "arido      0.394200\n",
       "sole       0.287713\n",
       "deserto    0.260793\n",
       "freddo     0.075906\n",
       "dtype: float32"
      ]
     },
     "execution_count": 46,
     "metadata": {},
     "output_type": "execute_result"
    }
   ],
   "source": [
    "model.search(positive=['mare'], negative=['caldo'])"
   ]
  },
  {
   "cell_type": "code",
   "execution_count": null,
   "metadata": {},
   "outputs": [],
   "source": []
  }
 ],
 "metadata": {
  "kernelspec": {
   "display_name": "nlp",
   "language": "python",
   "name": "python3"
  },
  "language_info": {
   "codemirror_mode": {
    "name": "ipython",
    "version": 3
   },
   "file_extension": ".py",
   "mimetype": "text/x-python",
   "name": "python",
   "nbconvert_exporter": "python",
   "pygments_lexer": "ipython3",
   "version": "3.10.4"
  }
 },
 "nbformat": 4,
 "nbformat_minor": 2
}
