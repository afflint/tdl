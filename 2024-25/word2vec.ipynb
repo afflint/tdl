{
 "cells": [
  {
   "cell_type": "code",
   "execution_count": 8,
   "metadata": {},
   "outputs": [],
   "source": [
    "import pandas as pd \n",
    "import numpy as np\n",
    "import nlp.wordbags as wb \n",
    "from nlp.word2vec import Word2WordPrediction\n",
    "from nlp.w2w_readers import WordEmbeddings\n",
    "import pickle\n"
   ]
  },
  {
   "cell_type": "markdown",
   "metadata": {},
   "source": [
    "## Esempio minimo di Word2Vec sia come predittore che come embedding "
   ]
  },
  {
   "cell_type": "code",
   "execution_count": 9,
   "metadata": {},
   "outputs": [],
   "source": [
    "corpus = [\n",
    "    ['montagna', 'neve', 'ghiaccio', 'vetta', 'bosco', 'freddo'],\n",
    "    ['spiaggia', 'sabbia', 'mare', 'onda', 'sole', 'caldo'],\n",
    "    ['deserto', 'duna', 'cactus', 'sabbia', 'sole', 'arido'],\n",
    "    ['foresta', 'tropicale', 'liana', 'sole', 'umido', 'caldo'],\n",
    "    ['lago', 'abete', 'vento', 'neve', 'bosco', 'freddo'],\n",
    "    ['ghiaccio', 'artico', 'tormenta', 'neve', 'iceberg', 'gelido'],\n",
    "    ['duna', 'oasi', 'deserto', 'cactus', 'arido']\n",
    "]"
   ]
  },
  {
   "cell_type": "code",
   "execution_count": 10,
   "metadata": {},
   "outputs": [],
   "source": [
    "bow = wb.Bow(corpus=corpus)\n",
    "data_loader, inputs, outputs = bow.one_hot_skip_gram_dataloader(window=4, batch=2)"
   ]
  },
  {
   "cell_type": "code",
   "execution_count": 11,
   "metadata": {},
   "outputs": [
    {
     "name": "stdout",
     "output_type": "stream",
     "text": [
      "montagna | neve | ghiaccio | vetta | bosco | freddo\n",
      "spiaggia | sabbia | mare | onda | sole | caldo\n",
      "deserto | duna | cactus | sabbia | sole | arido\n",
      "foresta | tropicale | liana | sole | umido | caldo\n",
      "lago | abete | vento | neve | bosco | freddo\n",
      "ghiaccio | artico | tormenta | neve | iceberg | gelido\n",
      "duna | oasi | deserto | cactus | arido\n"
     ]
    }
   ],
   "source": [
    "for doc in corpus:\n",
    "    print(\" | \".join(doc))"
   ]
  },
  {
   "cell_type": "markdown",
   "metadata": {},
   "source": [
    "## Predittore semplice"
   ]
  },
  {
   "cell_type": "markdown",
   "metadata": {},
   "source": [
    "### Initialize and training the model"
   ]
  },
  {
   "cell_type": "code",
   "execution_count": 12,
   "metadata": {},
   "outputs": [
    {
     "name": "stderr",
     "output_type": "stream",
     "text": [
      "100%|██████████| 150/150 [00:00<00:00, 326.43it/s]"
     ]
    },
    {
     "name": "stdout",
     "output_type": "stream",
     "text": [
      "15.232723735627674 14.748840059552874\n"
     ]
    },
    {
     "name": "stderr",
     "output_type": "stream",
     "text": [
      "\n"
     ]
    }
   ],
   "source": [
    "w2w = Word2WordPrediction(input_dim=bow.size, hidden_dim=2)\n",
    "epochs = 150\n",
    "learning_rate = 0.001\n",
    "history = w2w.train(data_loader=data_loader, epochs=epochs, \n",
    "                    learning_rate=learning_rate)\n",
    "print(history[0], history[-1])"
   ]
  },
  {
   "cell_type": "code",
   "execution_count": 13,
   "metadata": {},
   "outputs": [],
   "source": [
    "model = WordEmbeddings(words=bow, model=w2w)"
   ]
  },
  {
   "cell_type": "markdown",
   "metadata": {},
   "source": [
    "### Predizione"
   ]
  },
  {
   "cell_type": "code",
   "execution_count": 14,
   "metadata": {},
   "outputs": [
    {
     "data": {
      "text/plain": [
       "sole         0.326107\n",
       "cactus       0.163339\n",
       "duna         0.117937\n",
       "deserto      0.058807\n",
       "sabbia       0.052106\n",
       "oasi         0.048935\n",
       "arido        0.041441\n",
       "onda         0.016155\n",
       "tropicale    0.014415\n",
       "foresta      0.013401\n",
       "dtype: float32"
      ]
     },
     "execution_count": 14,
     "metadata": {},
     "output_type": "execute_result"
    }
   ],
   "source": [
    "search = 'deserto'\n",
    "y_pred = model.predict(search, topk=10)\n",
    "y_pred"
   ]
  },
  {
   "cell_type": "markdown",
   "metadata": {},
   "source": [
    "### Pseudo generazione"
   ]
  },
  {
   "cell_type": "code",
   "execution_count": 15,
   "metadata": {},
   "outputs": [],
   "source": [
    "start = \"iceberg\"\n",
    "testo = [start]\n",
    "for i in range(6):\n",
    "    p = model.predict(start)\n",
    "    next_word = np.random.choice(p.index.values, p=p.values / p.values.sum())\n",
    "    testo.append(next_word)\n",
    "    start = next_word"
   ]
  },
  {
   "cell_type": "code",
   "execution_count": 16,
   "metadata": {},
   "outputs": [
    {
     "data": {
      "text/plain": [
       "['iceberg', 'neve', 'bosco', 'neve', 'abete', 'neve', 'neve']"
      ]
     },
     "execution_count": 16,
     "metadata": {},
     "output_type": "execute_result"
    }
   ],
   "source": [
    "testo"
   ]
  },
  {
   "cell_type": "markdown",
   "metadata": {},
   "source": [
    "### Embeddings"
   ]
  },
  {
   "cell_type": "code",
   "execution_count": 17,
   "metadata": {},
   "outputs": [
    {
     "data": {
      "text/plain": [
       "array([-0.9631294,  1.0278589], dtype=float32)"
      ]
     },
     "execution_count": 17,
     "metadata": {},
     "output_type": "execute_result"
    }
   ],
   "source": [
    "model[search]\n",
    "model['montagna']"
   ]
  },
  {
   "cell_type": "code",
   "execution_count": 18,
   "metadata": {},
   "outputs": [
    {
     "data": {
      "text/plain": [
       "deserto     1.000000\n",
       "duna        0.893275\n",
       "arido       0.856251\n",
       "cactus      0.849513\n",
       "oasi        0.795002\n",
       "liana       0.689221\n",
       "umido       0.674399\n",
       "onda        0.658475\n",
       "caldo       0.643455\n",
       "spiaggia    0.639976\n",
       "Name: deserto, dtype: float32"
      ]
     },
     "execution_count": 18,
     "metadata": {},
     "output_type": "execute_result"
    }
   ],
   "source": [
    "search = \"deserto\"\n",
    "y_sim = model.most_similar(search, topk=10)\n",
    "y_sim"
   ]
  },
  {
   "cell_type": "markdown",
   "metadata": {},
   "source": [
    "## Compositionality"
   ]
  },
  {
   "cell_type": "code",
   "execution_count": 22,
   "metadata": {},
   "outputs": [
    {
     "data": {
      "text/plain": [
       "mare         0.990437\n",
       "tropicale    0.982752\n",
       "foresta      0.972770\n",
       "sabbia       0.971679\n",
       "spiaggia     0.964540\n",
       "caldo        0.963333\n",
       "onda         0.957835\n",
       "umido        0.951480\n",
       "liana        0.945050\n",
       "sole         0.854058\n",
       "dtype: float32"
      ]
     },
     "execution_count": 22,
     "metadata": {},
     "output_type": "execute_result"
    }
   ],
   "source": [
    "model.search(positive=['sole', 'spiaggia'])"
   ]
  },
  {
   "cell_type": "code",
   "execution_count": 23,
   "metadata": {},
   "outputs": [
    {
     "data": {
      "text/plain": [
       "neve        0.997008\n",
       "vento       0.895885\n",
       "freddo      0.858288\n",
       "lago        0.846486\n",
       "ghiaccio    0.842669\n",
       "vetta       0.833886\n",
       "montagna    0.833369\n",
       "iceberg     0.825694\n",
       "bosco       0.789342\n",
       "artico      0.765373\n",
       "dtype: float32"
      ]
     },
     "execution_count": 23,
     "metadata": {},
     "output_type": "execute_result"
    }
   ],
   "source": [
    "model.search(positive=['sole'], negative=['spiaggia'])"
   ]
  },
  {
   "cell_type": "code",
   "execution_count": 25,
   "metadata": {},
   "outputs": [
    {
     "data": {
      "text/plain": [
       "cactus       0.999451\n",
       "duna         0.992487\n",
       "liana        0.975567\n",
       "umido        0.970915\n",
       "onda         0.965580\n",
       "caldo        0.960244\n",
       "spiaggia     0.958968\n",
       "sabbia       0.950487\n",
       "foresta      0.949028\n",
       "tropicale    0.932848\n",
       "dtype: float32"
      ]
     },
     "execution_count": 25,
     "metadata": {},
     "output_type": "execute_result"
    }
   ],
   "source": [
    "model.search(positive=['deserto', 'mare'], negative=['duna'])"
   ]
  },
  {
   "cell_type": "code",
   "execution_count": 24,
   "metadata": {},
   "outputs": [
    {
     "name": "stdout",
     "output_type": "stream",
     "text": [
      "cactus\n"
     ]
    }
   ],
   "source": [
    "answer, a_vector = model.analogy('deserto', 'duna', 'mare')\n",
    "print(answer)"
   ]
  },
  {
   "cell_type": "code",
   "execution_count": 26,
   "metadata": {},
   "outputs": [
    {
     "data": {
      "text/plain": [
       "iceberg     0.999937\n",
       "montagna    0.999688\n",
       "vetta       0.999664\n",
       "ghiaccio    0.999116\n",
       "lago        0.998791\n",
       "bosco       0.998728\n",
       "freddo      0.997427\n",
       "artico      0.996081\n",
       "gelido      0.993726\n",
       "vento       0.988735\n",
       "dtype: float32"
      ]
     },
     "execution_count": 26,
     "metadata": {},
     "output_type": "execute_result"
    }
   ],
   "source": [
    "model.common_meanings(words=['bosco', 'foresta', 'montagna', 'freddo'])"
   ]
  },
  {
   "cell_type": "code",
   "execution_count": 27,
   "metadata": {},
   "outputs": [
    {
     "data": {
      "text/plain": [
       "sabbia     -0.998278\n",
       "ghiaccio    0.999428\n",
       "vetta       0.999843\n",
       "montagna    0.999859\n",
       "dtype: float32"
      ]
     },
     "execution_count": 27,
     "metadata": {},
     "output_type": "execute_result"
    }
   ],
   "source": [
    "model.spot_odd_one(words=['montagna', 'vetta', 'ghiaccio', 'sabbia'])"
   ]
  },
  {
   "cell_type": "code",
   "execution_count": null,
   "metadata": {},
   "outputs": [],
   "source": [
    "model.search(positive=['deserto', 'mare'], negative=['duna'])"
   ]
  },
  {
   "cell_type": "code",
   "execution_count": null,
   "metadata": {},
   "outputs": [],
   "source": [
    "model.search(positive=['mare'], negative=['caldo'])"
   ]
  },
  {
   "cell_type": "code",
   "execution_count": 1,
   "metadata": {},
   "outputs": [],
   "source": [
    "import matplotlib.pyplot as plt"
   ]
  },
  {
   "cell_type": "code",
   "execution_count": 21,
   "metadata": {},
   "outputs": [
    {
     "data": {
      "image/png": "[encoded data removed]",
      "text/plain": [
       "<Figure size 500x500 with 1 Axes>"
      ]
     },
     "metadata": {},
     "output_type": "display_data"
    }
   ],
   "source": [
    "selected_words = bow.vocabulary\n",
    "indexes = [bow.word2idx[w] for w in selected_words]\n",
    "selected2d = model.vectors(selected_words)\n",
    "\n",
    "fig, ax = plt.subplots(figsize=(5, 5))\n",
    "ax.scatter(selected2d[:,0], selected2d[:, 1])\n",
    "for i, w in enumerate(selected_words):\n",
    "    ax.text(selected2d[i][0] + .02, selected2d[i][1] + .02, w)\n",
    "plt.tight_layout()\n",
    "plt.show()"
   ]
  },
  {
   "cell_type": "code",
   "execution_count": null,
   "metadata": {},
   "outputs": [],
   "source": []
  }
 ],
 "metadata": {
  "kernelspec": {
   "display_name": "nlp",
   "language": "python",
   "name": "python3"
  },
  "language_info": {
   "codemirror_mode": {
    "name": "ipython",
    "version": 3
   },
   "file_extension": ".py",
   "mimetype": "text/x-python",
   "name": "python",
   "nbconvert_exporter": "python",
   "pygments_lexer": "ipython3",
   "version": "3.10.4"
  }
 },
 "nbformat": 4,
 "nbformat_minor": 2
}
