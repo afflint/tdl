{
 "cells": [
  {
   "cell_type": "code",
   "execution_count": 1,
   "metadata": {},
   "outputs": [],
   "source": [
    "import pandas as pd \n",
    "import numpy as np\n",
    "import nlp.wordbags as wb \n",
    "from nlp.word2vec import Word2WordPrediction\n",
    "from nlp.w2w_readers import WordEmbeddings\n",
    "import pickle\n"
   ]
  },
  {
   "cell_type": "markdown",
   "metadata": {},
   "source": [
    "## Esempio minimo di Word2Vec sia come predittore che come embedding "
   ]
  },
  {
   "cell_type": "code",
   "execution_count": 2,
   "metadata": {},
   "outputs": [],
   "source": [
    "corpus = [\n",
    "    ['montagna', 'neve', 'ghiaccio', 'vetta', 'bosco', 'freddo'],\n",
    "    ['spiaggia', 'sabbia', 'mare', 'onda', 'sole', 'caldo'],\n",
    "    ['deserto', 'duna', 'cactus', 'sabbia', 'sole', 'arido'],\n",
    "    ['foresta', 'tropicale', 'liana', 'sole', 'umido', 'caldo'],\n",
    "    ['lago', 'abete', 'vento', 'neve', 'bosco', 'freddo'],\n",
    "    ['ghiaccio', 'artico', 'tormenta', 'neve', 'iceberg', 'gelido'],\n",
    "    ['duna', 'oasi', 'deserto', 'cactus', 'arido']\n",
    "]"
   ]
  },
  {
   "cell_type": "code",
   "execution_count": 3,
   "metadata": {},
   "outputs": [],
   "source": [
    "bow = wb.Bow(corpus=corpus)\n",
    "data_loader, inputs, outputs = bow.one_hot_skip_gram_dataloader(window=4, batch=2)"
   ]
  },
  {
   "cell_type": "code",
   "execution_count": 4,
   "metadata": {},
   "outputs": [
    {
     "name": "stdout",
     "output_type": "stream",
     "text": [
      "montagna | neve | ghiaccio | vetta | bosco | freddo\n",
      "spiaggia | sabbia | mare | onda | sole | caldo\n",
      "deserto | duna | cactus | sabbia | sole | arido\n",
      "foresta | tropicale | liana | sole | umido | caldo\n",
      "lago | abete | vento | neve | bosco | freddo\n",
      "ghiaccio | artico | tormenta | neve | iceberg | gelido\n",
      "duna | oasi | deserto | cactus | arido\n"
     ]
    }
   ],
   "source": [
    "for doc in corpus:\n",
    "    print(\" | \".join(doc))"
   ]
  },
  {
   "cell_type": "markdown",
   "metadata": {},
   "source": [
    "## Predittore semplice"
   ]
  },
  {
   "cell_type": "markdown",
   "metadata": {},
   "source": [
    "### Initialize and training the model"
   ]
  },
  {
   "cell_type": "code",
   "execution_count": 18,
   "metadata": {},
   "outputs": [
    {
     "name": "stderr",
     "output_type": "stream",
     "text": [
      "100%|██████████| 50/50 [00:00<00:00, 309.33it/s]"
     ]
    },
    {
     "name": "stdout",
     "output_type": "stream",
     "text": [
      "15.233291580563499 15.119768324352446\n"
     ]
    },
    {
     "name": "stderr",
     "output_type": "stream",
     "text": [
      "\n"
     ]
    }
   ],
   "source": [
    "w2w = Word2WordPrediction(input_dim=bow.size, hidden_dim=4)\n",
    "epochs = 50\n",
    "learning_rate = 0.001\n",
    "history = w2w.train(data_loader=data_loader, epochs=epochs, \n",
    "                    learning_rate=learning_rate)\n",
    "print(history[0], history[-1])"
   ]
  },
  {
   "cell_type": "code",
   "execution_count": 19,
   "metadata": {},
   "outputs": [],
   "source": [
    "model = WordEmbeddings(words=bow, model=w2w)"
   ]
  },
  {
   "cell_type": "markdown",
   "metadata": {},
   "source": [
    "### Predizione"
   ]
  },
  {
   "cell_type": "code",
   "execution_count": 20,
   "metadata": {},
   "outputs": [
    {
     "data": {
      "text/plain": [
       "cactus      0.152648\n",
       "duna        0.119723\n",
       "sabbia      0.089247\n",
       "oasi        0.084072\n",
       "sole        0.069445\n",
       "mare        0.054596\n",
       "deserto     0.047798\n",
       "arido       0.038609\n",
       "ghiaccio    0.031109\n",
       "neve        0.026679\n",
       "dtype: float32"
      ]
     },
     "execution_count": 20,
     "metadata": {},
     "output_type": "execute_result"
    }
   ],
   "source": [
    "search = 'deserto'\n",
    "y_pred = model.predict(search, topk=10)\n",
    "y_pred"
   ]
  },
  {
   "cell_type": "markdown",
   "metadata": {},
   "source": [
    "### Pseudo generazione"
   ]
  },
  {
   "cell_type": "code",
   "execution_count": 21,
   "metadata": {},
   "outputs": [],
   "source": [
    "start = \"iceberg\"\n",
    "testo = [start]\n",
    "for i in range(6):\n",
    "    p = model.predict(start)\n",
    "    next_word = np.random.choice(p.index.values, p=p.values / p.values.sum())\n",
    "    testo.append(next_word)\n",
    "    start = next_word"
   ]
  },
  {
   "cell_type": "code",
   "execution_count": 22,
   "metadata": {},
   "outputs": [
    {
     "data": {
      "text/plain": [
       "['iceberg', 'neve', 'freddo', 'duna', 'cactus', 'sole', 'tropicale']"
      ]
     },
     "execution_count": 22,
     "metadata": {},
     "output_type": "execute_result"
    }
   ],
   "source": [
    "testo"
   ]
  },
  {
   "cell_type": "markdown",
   "metadata": {},
   "source": [
    "### Embeddings"
   ]
  },
  {
   "cell_type": "code",
   "execution_count": 13,
   "metadata": {},
   "outputs": [
    {
     "data": {
      "text/plain": [
       "array([ 0.82403773,  0.81757665,  1.0569373 , -0.75357807], dtype=float32)"
      ]
     },
     "execution_count": 13,
     "metadata": {},
     "output_type": "execute_result"
    }
   ],
   "source": [
    "model[search]\n",
    "model['montagna']"
   ]
  },
  {
   "cell_type": "code",
   "execution_count": 16,
   "metadata": {},
   "outputs": [
    {
     "data": {
      "text/plain": [
       "deserto    1.000000\n",
       "arido      0.995039\n",
       "sabbia     0.751156\n",
       "cactus     0.661013\n",
       "sole       0.529758\n",
       "mare       0.418151\n",
       "oasi       0.366112\n",
       "caldo      0.328773\n",
       "onda       0.302740\n",
       "duna       0.267332\n",
       "Name: deserto, dtype: float32"
      ]
     },
     "execution_count": 16,
     "metadata": {},
     "output_type": "execute_result"
    }
   ],
   "source": [
    "search = \"deserto\"\n",
    "y_sim = model.most_similar(search, topk=10)\n",
    "y_sim"
   ]
  },
  {
   "cell_type": "markdown",
   "metadata": {},
   "source": [
    "## Compositionality"
   ]
  },
  {
   "cell_type": "code",
   "execution_count": null,
   "metadata": {},
   "outputs": [],
   "source": [
    "answer, a_vector = model.analogy('deserto', 'duna', 'mare')\n",
    "print(answer)"
   ]
  },
  {
   "cell_type": "code",
   "execution_count": 23,
   "metadata": {},
   "outputs": [
    {
     "data": {
      "text/plain": [
       "freddo      0.999315\n",
       "ghiaccio    0.955680\n",
       "bosco       0.863940\n",
       "lago        0.837324\n",
       "montagna    0.811669\n",
       "vetta       0.763923\n",
       "abete       0.673722\n",
       "vento       0.624856\n",
       "neve        0.621306\n",
       "tormenta    0.339243\n",
       "dtype: float32"
      ]
     },
     "execution_count": 23,
     "metadata": {},
     "output_type": "execute_result"
    }
   ],
   "source": [
    "model.common_meanings(words=['bosco', 'foresta', 'montagna', 'freddo'])"
   ]
  },
  {
   "cell_type": "code",
   "execution_count": 24,
   "metadata": {},
   "outputs": [
    {
     "data": {
      "text/plain": [
       "sabbia      0.063810\n",
       "ghiaccio    0.695018\n",
       "vetta       0.950431\n",
       "montagna    0.956933\n",
       "dtype: float32"
      ]
     },
     "execution_count": 24,
     "metadata": {},
     "output_type": "execute_result"
    }
   ],
   "source": [
    "model.spot_odd_one(words=['montagna', 'vetta', 'ghiaccio', 'sabbia'])"
   ]
  },
  {
   "cell_type": "code",
   "execution_count": null,
   "metadata": {},
   "outputs": [],
   "source": [
    "model.search(positive=['deserto', 'mare'], negative=['duna'])"
   ]
  },
  {
   "cell_type": "code",
   "execution_count": null,
   "metadata": {},
   "outputs": [],
   "source": [
    "model.search(positive=['mare'], negative=['caldo'])"
   ]
  },
  {
   "cell_type": "code",
   "execution_count": null,
   "metadata": {},
   "outputs": [],
   "source": []
  }
 ],
 "metadata": {
  "kernelspec": {
   "display_name": "nlp",
   "language": "python",
   "name": "python3"
  },
  "language_info": {
   "codemirror_mode": {
    "name": "ipython",
    "version": 3
   },
   "file_extension": ".py",
   "mimetype": "text/x-python",
   "name": "python",
   "nbconvert_exporter": "python",
   "pygments_lexer": "ipython3",
   "version": "3.10.4"
  }
 },
 "nbformat": 4,
 "nbformat_minor": 2
}
