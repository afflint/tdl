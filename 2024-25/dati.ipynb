{
 "cells": [
  {
   "cell_type": "markdown",
   "metadata": {},
   "source": [
    "### Tecnologie dei dati e del linguaggio\n",
    "# Dati e informazione\n",
    "## Prof. Alfio Ferrara\n",
    "\n",
    "## Informazione e incertezza\n",
    "L'informazione è qualcosa che cambia il nostro sapere sul mondo e un modo per misurare questo effetto è osservare quanto un **dato**, ovvero un elemento di potenziale conoscenza, un'osservazione sulla realtà, possa ridurre il nostro grado di incertezza circa un evento, un fenomeno e più in generale sulla realtà che osserviamo.\n",
    "\n",
    "### Esempio: indovina la città\n",
    "Le città possibili sono: \"New York\", \"Tokyo\", \"Parigi\", \"Londra\", \"Sydney\", \"Milano\", \"Città del Capo\", \"Mosca\", \"Roma\", \"Pechino\"\n",
    "\n",
    "Senza sapere nulla né fare domande, qual è la probabilità di indovinare?"
   ]
  },
  {
   "cell_type": "code",
   "execution_count": null,
   "metadata": {},
   "outputs": [],
   "source": [
    "import numpy as np\n",
    "import matplotlib.pyplot as plt\n",
    "import seaborn as sns\n",
    "import pandas as pd"
   ]
  },
  {
   "cell_type": "code",
   "execution_count": null,
   "metadata": {},
   "outputs": [],
   "source": [
    "citta = [\"New York\", \"Tokyo\", \"Parigi\", \"Londra\", \"Sydney\", \"Milano\", \"Città del Capo\", \"Mosca\", \"Roma\", \"Pechino\"]\n",
    "p = np.array([1 / len(citta) for x in citta])\n",
    "\n",
    "fig, ax = plt.subplots(figsize=(12, 2))\n",
    "sns.barplot(x=citta, y=p, ax=ax)\n",
    "ax.set_ylim((0, 1))\n",
    "plt.tight_layout()\n",
    "plt.show()"
   ]
  },
  {
   "cell_type": "markdown",
   "metadata": {},
   "source": [
    "Quanta incertezza abbiamo? Un modo per misurarlo è usare l'**entropia** come misura della quantità di informazione contenuta in un messaggio. Al momento non abbiamo alcun messaggio circa la città giusta, perciò ci troviamo in una situazione la cui incertezza può essere misurata osservando la distribuzione di probabilità circa gli esiti possibili, con questa formula (**entropia**):\n",
    "\n",
    "$$\n",
    "H = - \\sum\\limits_{i=0}^{n} p_i \\log_2 p_i\n",
    "$$"
   ]
  },
  {
   "cell_type": "code",
   "execution_count": null,
   "metadata": {},
   "outputs": [],
   "source": [
    "def entropia(probs):\n",
    "    return -sum(p * np.log2(p) for p in probs if p > 0)\n",
    "\n",
    "print(f\"Nessun messaggio: {np.round(entropia(p), 2)} bit\")"
   ]
  },
  {
   "cell_type": "markdown",
   "metadata": {},
   "source": [
    "### L'effetto dei dati\n",
    "Immaginiamo di fare ora una domanda e grazie a essa scoprire che la città da indovinare è in Europa. Come cambia ciò che sappiamo?"
   ]
  },
  {
   "cell_type": "code",
   "execution_count": null,
   "metadata": {},
   "outputs": [],
   "source": [
    "citta_eu = ['Parigi', 'Londra', 'Milano', 'Roma']\n",
    "p_eu = np.array([1 / len(citta_eu) if c in citta_eu else 0 for c in citta])\n",
    "\n",
    "fig, ax = plt.subplots(figsize=(12, 2))\n",
    "sns.barplot(x=citta, y=p_eu, ax=ax)\n",
    "ax.set_ylim((0, 1))\n",
    "plt.tight_layout()\n",
    "plt.show()"
   ]
  },
  {
   "cell_type": "code",
   "execution_count": null,
   "metadata": {},
   "outputs": [],
   "source": [
    "entropia_none = entropia(p)\n",
    "entropia_eu = entropia(p_eu)\n",
    "print(f\"Nessun messaggio: {np.round(entropia_none, 2)} bit\")\n",
    "print(f\"Città EU: {np.round(entropia_eu, 2)} bit\")\n",
    "print(f\"Riduzione di incertezza: {np.round(entropia_none - entropia_eu, 2)} bit\")"
   ]
  },
  {
   "cell_type": "markdown",
   "metadata": {},
   "source": [
    "Ora, immaginiamo invece di scoprire con una domanda che la città è in Italia"
   ]
  },
  {
   "cell_type": "code",
   "execution_count": null,
   "metadata": {},
   "outputs": [],
   "source": [
    "citta_it = ['Milano', 'Roma']\n",
    "p_it = np.array([1 / len(citta_it) if c in citta_it else 0 for c in citta])\n",
    "\n",
    "fig, ax = plt.subplots(figsize=(12, 2))\n",
    "sns.barplot(x=citta, y=p_it, ax=ax)\n",
    "ax.set_ylim((0, 1))\n",
    "plt.tight_layout()\n",
    "plt.show()"
   ]
  },
  {
   "cell_type": "code",
   "execution_count": null,
   "metadata": {},
   "outputs": [],
   "source": [
    "entropia_none = entropia(p)\n",
    "entropia_it = entropia(p_it)\n",
    "print(f\"Nessun messaggio: {np.round(entropia_none, 2)} bit\")\n",
    "print(f\"Città IT: {np.round(entropia_it, 2)} bit\")\n",
    "print(f\"Riduzione di incertezza: {np.round(entropia_none - entropia_it, 2)} bit\")"
   ]
  },
  {
   "cell_type": "markdown",
   "metadata": {},
   "source": [
    "#### Quale dei due dati è stato più informativo?\n",
    "\n",
    "Si noti che se dovessimo scegliere quale domanda fare la questione sarebbe diversa, perchè dobbiamo anche considerare il caso in cui la risposta sia \"no\" e pertanto non si riduca affatto la nostra incertezza, anzi, al contrario se la città non fosse italiana e l'incertezza sarebbe maggiore rispetto al caso in cui la città non è europea."
   ]
  },
  {
   "cell_type": "markdown",
   "metadata": {},
   "source": [
    "## Dati e contesto interpretativo\n",
    "Un'altro modo di rendere dei dati informativi è fornire loro un contesto interpretativo. Assumiamo di ricevere dei dati che ne siano privi, come ad esempio questi:"
   ]
  },
  {
   "cell_type": "code",
   "execution_count": null,
   "metadata": {},
   "outputs": [],
   "source": [
    "R = pd.read_csv('data/data-rec.csv', index_col=0, header=None, skiprows=1)\n",
    "data = [int(x) for x in R[2].values]\n",
    "print(data)"
   ]
  },
  {
   "cell_type": "markdown",
   "metadata": {},
   "source": [
    "Una prima forma di contesto consiste nell'aggiungere una relazione ai dati esistenti"
   ]
  },
  {
   "cell_type": "code",
   "execution_count": null,
   "metadata": {},
   "outputs": [],
   "source": [
    "tuple = list(zip(data, R[3].values))\n",
    "for record in tuple:\n",
    "    print(record)"
   ]
  },
  {
   "cell_type": "code",
   "execution_count": null,
   "metadata": {},
   "outputs": [],
   "source": []
  }
 ],
 "metadata": {
  "kernelspec": {
   "display_name": "nlp",
   "language": "python",
   "name": "python3"
  },
  "language_info": {
   "codemirror_mode": {
    "name": "ipython",
    "version": 3
   },
   "file_extension": ".py",
   "mimetype": "text/x-python",
   "name": "python",
   "nbconvert_exporter": "python",
   "pygments_lexer": "ipython3",
   "version": "3.10.4"
  }
 },
 "nbformat": 4,
 "nbformat_minor": 2
}
