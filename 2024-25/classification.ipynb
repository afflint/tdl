{
 "cells": [
  {
   "cell_type": "markdown",
   "id": "43e0fe86",
   "metadata": {},
   "source": [
    "#### Tecnologie dei dati e del linguaggio\n",
    "# Reti neurali e classificazione\n",
    "### Prof. Alfio Ferrara\n"
   ]
  },
  {
   "cell_type": "code",
   "execution_count": 1,
   "id": "e22a0ccc",
   "metadata": {},
   "outputs": [],
   "source": [
    "import pandas as pd\n",
    "import numpy as np\n",
    "from tqdm.notebook import tqdm"
   ]
  },
  {
   "cell_type": "code",
   "execution_count": 2,
   "id": "daab2606",
   "metadata": {},
   "outputs": [],
   "source": [
    "import matplotlib.pyplot as plt"
   ]
  },
  {
   "cell_type": "markdown",
   "id": "1aafcc4f",
   "metadata": {},
   "source": [
    "## Dataset\n",
    "Come esempio, useremo le ricette prese dal dataset [**Food.com Recipes with Search Terms and Tags**](https://www.kaggle.com/datasets/shuyangli94/foodcom-recipes-with-search-terms-and-tags).\n",
    "\n",
    "Ogni ricetta è un insieme di ingredienti e il compito è indovinare il tipo di cucina (classificazione multi-classe).\n",
    "\n",
    "Per prima cosa, calcoliamo alcune statistiche sul dataset per individuare gli ingredienti più specifici per ciascun tipo di cucina."
   ]
  },
  {
   "cell_type": "code",
   "execution_count": 3,
   "id": "444c4ad4",
   "metadata": {},
   "outputs": [],
   "source": [
    "from collections import defaultdict\n",
    "import pymongo\n",
    "import pandas as pd\n",
    "import numpy as np \n",
    "import matplotlib.pyplot as plt\n",
    "import seaborn as sns"
   ]
  },
  {
   "cell_type": "code",
   "execution_count": 4,
   "id": "5c8e8921",
   "metadata": {},
   "outputs": [],
   "source": [
    "db = pymongo.MongoClient()['cousine']\n",
    "recipes = db['foodcom']\n",
    "label_field = 'category'\n",
    "data = []\n",
    "labels = ['italian', 'indian', 'southern', 'mexican', 'chinese', 'greek', 'thai']\n",
    "\n",
    "q = {'search_terms': {'$in': labels}}\n",
    "for recipe in recipes.find(q):\n",
    "    data.append({\n",
    "        'ingredients': recipe['ingredients'],\n",
    "        label_field: [x for x in recipe['search_terms'] if x in labels][0]\n",
    "    })"
   ]
  },
  {
   "cell_type": "code",
   "execution_count": 5,
   "id": "c0d32948",
   "metadata": {},
   "outputs": [],
   "source": [
    "cuisine = defaultdict(list)\n",
    "document_frequency = defaultdict(lambda: 0)\n",
    "cuisine_frequency = defaultdict(lambda: defaultdict(lambda: 0))\n",
    "for recipe in data:\n",
    "    cuisine[recipe[label_field]].append(recipe)\n",
    "    for ingredient in recipe['ingredients']:\n",
    "        document_frequency[ingredient] += 1\n",
    "        cuisine_frequency[recipe[label_field]][ingredient] += 1"
   ]
  },
  {
   "cell_type": "markdown",
   "id": "e6e47925",
   "metadata": {},
   "source": [
    "### Specificità degli ingredienti"
   ]
  },
  {
   "cell_type": "code",
   "execution_count": 6,
   "id": "628f9cce",
   "metadata": {},
   "outputs": [],
   "source": [
    "kl_ingredients = defaultdict(lambda: defaultdict(lambda: 0))\n",
    "N = sum(document_frequency.values())\n",
    "for c, i in cuisine_frequency.items():\n",
    "    T = sum(i.values())\n",
    "    for x, f in i.items():\n",
    "        kl_ingredients[c][x] = f / T * np.log((f / T) / (document_frequency[x] / N))"
   ]
  },
  {
   "cell_type": "code",
   "execution_count": 7,
   "id": "c1846552",
   "metadata": {},
   "outputs": [],
   "source": [
    "KL = pd.DataFrame(kl_ingredients).fillna(-1).T"
   ]
  },
  {
   "cell_type": "code",
   "execution_count": 9,
   "id": "f9fc7633",
   "metadata": {},
   "outputs": [
    {
     "data": {
      "text/html": [
       "<div>\n",
       "<style scoped>\n",
       "    .dataframe tbody tr th:only-of-type {\n",
       "        vertical-align: middle;\n",
       "    }\n",
       "\n",
       "    .dataframe tbody tr th {\n",
       "        vertical-align: top;\n",
       "    }\n",
       "\n",
       "    .dataframe thead th {\n",
       "        text-align: right;\n",
       "    }\n",
       "</style>\n",
       "<table border=\"1\" class=\"dataframe\">\n",
       "  <thead>\n",
       "    <tr style=\"text-align: right;\">\n",
       "      <th></th>\n",
       "      <th>zucchini</th>\n",
       "      <th>yellow squash</th>\n",
       "      <th>diced tomatoes</th>\n",
       "      <th>onion</th>\n",
       "      <th>garlic</th>\n",
       "      <th>green bell pepper</th>\n",
       "      <th>italian seasoning</th>\n",
       "      <th>water</th>\n",
       "      <th>salt and pepper</th>\n",
       "      <th>button mushrooms</th>\n",
       "      <th>...</th>\n",
       "      <th>pandan extract</th>\n",
       "      <th>pollock fillets</th>\n",
       "      <th>laksa leaves</th>\n",
       "      <th>breading</th>\n",
       "      <th>dried rhizome</th>\n",
       "      <th>indonesian chili sauce</th>\n",
       "      <th>edible orchid</th>\n",
       "      <th>better %27n peanut butter spread</th>\n",
       "      <th>light vegetable stock</th>\n",
       "      <th>soy ginger broth</th>\n",
       "    </tr>\n",
       "  </thead>\n",
       "  <tbody>\n",
       "    <tr>\n",
       "      <th>italian</th>\n",
       "      <td>0.003630</td>\n",
       "      <td>0.000167</td>\n",
       "      <td>0.001878</td>\n",
       "      <td>-0.000005</td>\n",
       "      <td>0.001633</td>\n",
       "      <td>-0.000726</td>\n",
       "      <td>0.007560</td>\n",
       "      <td>-0.003828</td>\n",
       "      <td>0.004452</td>\n",
       "      <td>0.000394</td>\n",
       "      <td>...</td>\n",
       "      <td>-1.000000</td>\n",
       "      <td>-1.000000</td>\n",
       "      <td>-1.000000</td>\n",
       "      <td>-1.000000</td>\n",
       "      <td>-1.000000</td>\n",
       "      <td>-1.000000</td>\n",
       "      <td>-1.000000</td>\n",
       "      <td>-1.000000</td>\n",
       "      <td>-1.000000</td>\n",
       "      <td>-1.000000</td>\n",
       "    </tr>\n",
       "    <tr>\n",
       "      <th>mexican</th>\n",
       "      <td>-0.000422</td>\n",
       "      <td>-0.000057</td>\n",
       "      <td>0.001562</td>\n",
       "      <td>0.009312</td>\n",
       "      <td>-0.001392</td>\n",
       "      <td>0.001012</td>\n",
       "      <td>-0.000333</td>\n",
       "      <td>-0.001227</td>\n",
       "      <td>-0.000608</td>\n",
       "      <td>-0.000108</td>\n",
       "      <td>...</td>\n",
       "      <td>-1.000000</td>\n",
       "      <td>-1.000000</td>\n",
       "      <td>-1.000000</td>\n",
       "      <td>-1.000000</td>\n",
       "      <td>-1.000000</td>\n",
       "      <td>-1.000000</td>\n",
       "      <td>-1.000000</td>\n",
       "      <td>-1.000000</td>\n",
       "      <td>-1.000000</td>\n",
       "      <td>-1.000000</td>\n",
       "    </tr>\n",
       "    <tr>\n",
       "      <th>southern</th>\n",
       "      <td>-0.000879</td>\n",
       "      <td>0.000321</td>\n",
       "      <td>-0.000507</td>\n",
       "      <td>-0.001223</td>\n",
       "      <td>-0.002302</td>\n",
       "      <td>0.002835</td>\n",
       "      <td>-0.000605</td>\n",
       "      <td>-0.000248</td>\n",
       "      <td>-0.000254</td>\n",
       "      <td>-0.000108</td>\n",
       "      <td>...</td>\n",
       "      <td>-1.000000</td>\n",
       "      <td>-1.000000</td>\n",
       "      <td>-1.000000</td>\n",
       "      <td>-1.000000</td>\n",
       "      <td>-1.000000</td>\n",
       "      <td>-1.000000</td>\n",
       "      <td>-1.000000</td>\n",
       "      <td>-1.000000</td>\n",
       "      <td>-1.000000</td>\n",
       "      <td>-1.000000</td>\n",
       "    </tr>\n",
       "    <tr>\n",
       "      <th>indian</th>\n",
       "      <td>-0.000881</td>\n",
       "      <td>-0.000103</td>\n",
       "      <td>-0.000959</td>\n",
       "      <td>0.002821</td>\n",
       "      <td>-0.000841</td>\n",
       "      <td>-0.000900</td>\n",
       "      <td>-0.000109</td>\n",
       "      <td>0.008708</td>\n",
       "      <td>-0.002592</td>\n",
       "      <td>-0.000017</td>\n",
       "      <td>...</td>\n",
       "      <td>-1.000000</td>\n",
       "      <td>-1.000000</td>\n",
       "      <td>-1.000000</td>\n",
       "      <td>-1.000000</td>\n",
       "      <td>-1.000000</td>\n",
       "      <td>-1.000000</td>\n",
       "      <td>-1.000000</td>\n",
       "      <td>-1.000000</td>\n",
       "      <td>-1.000000</td>\n",
       "      <td>-1.000000</td>\n",
       "    </tr>\n",
       "    <tr>\n",
       "      <th>chinese</th>\n",
       "      <td>-0.000889</td>\n",
       "      <td>-0.000105</td>\n",
       "      <td>-0.000464</td>\n",
       "      <td>-0.007987</td>\n",
       "      <td>0.004925</td>\n",
       "      <td>-0.000721</td>\n",
       "      <td>-0.000136</td>\n",
       "      <td>0.013142</td>\n",
       "      <td>-0.002561</td>\n",
       "      <td>0.000026</td>\n",
       "      <td>...</td>\n",
       "      <td>-1.000000</td>\n",
       "      <td>-1.000000</td>\n",
       "      <td>-1.000000</td>\n",
       "      <td>-1.000000</td>\n",
       "      <td>-1.000000</td>\n",
       "      <td>-1.000000</td>\n",
       "      <td>-1.000000</td>\n",
       "      <td>-1.000000</td>\n",
       "      <td>-1.000000</td>\n",
       "      <td>-1.000000</td>\n",
       "    </tr>\n",
       "    <tr>\n",
       "      <th>greek</th>\n",
       "      <td>0.001558</td>\n",
       "      <td>-0.000114</td>\n",
       "      <td>-0.000612</td>\n",
       "      <td>-0.003835</td>\n",
       "      <td>0.000079</td>\n",
       "      <td>-0.000821</td>\n",
       "      <td>-0.000599</td>\n",
       "      <td>-0.001470</td>\n",
       "      <td>0.005192</td>\n",
       "      <td>-0.000081</td>\n",
       "      <td>...</td>\n",
       "      <td>-1.000000</td>\n",
       "      <td>-1.000000</td>\n",
       "      <td>-1.000000</td>\n",
       "      <td>-1.000000</td>\n",
       "      <td>-1.000000</td>\n",
       "      <td>-1.000000</td>\n",
       "      <td>-1.000000</td>\n",
       "      <td>-1.000000</td>\n",
       "      <td>-1.000000</td>\n",
       "      <td>-1.000000</td>\n",
       "    </tr>\n",
       "    <tr>\n",
       "      <th>thai</th>\n",
       "      <td>-0.000484</td>\n",
       "      <td>-0.000115</td>\n",
       "      <td>-0.000789</td>\n",
       "      <td>-0.007832</td>\n",
       "      <td>0.006298</td>\n",
       "      <td>-0.000940</td>\n",
       "      <td>-0.000109</td>\n",
       "      <td>-0.001286</td>\n",
       "      <td>-0.002511</td>\n",
       "      <td>0.000388</td>\n",
       "      <td>...</td>\n",
       "      <td>0.000077</td>\n",
       "      <td>0.000077</td>\n",
       "      <td>0.000077</td>\n",
       "      <td>0.000077</td>\n",
       "      <td>0.000077</td>\n",
       "      <td>0.000077</td>\n",
       "      <td>0.000077</td>\n",
       "      <td>0.000077</td>\n",
       "      <td>0.000077</td>\n",
       "      <td>0.000077</td>\n",
       "    </tr>\n",
       "  </tbody>\n",
       "</table>\n",
       "<p>7 rows × 10381 columns</p>\n",
       "</div>"
      ],
      "text/plain": [
       "          zucchini  yellow squash  diced tomatoes     onion    garlic  \\\n",
       "italian   0.003630       0.000167        0.001878 -0.000005  0.001633   \n",
       "mexican  -0.000422      -0.000057        0.001562  0.009312 -0.001392   \n",
       "southern -0.000879       0.000321       -0.000507 -0.001223 -0.002302   \n",
       "indian   -0.000881      -0.000103       -0.000959  0.002821 -0.000841   \n",
       "chinese  -0.000889      -0.000105       -0.000464 -0.007987  0.004925   \n",
       "greek     0.001558      -0.000114       -0.000612 -0.003835  0.000079   \n",
       "thai     -0.000484      -0.000115       -0.000789 -0.007832  0.006298   \n",
       "\n",
       "          green bell pepper  italian seasoning     water  salt and pepper  \\\n",
       "italian           -0.000726           0.007560 -0.003828         0.004452   \n",
       "mexican            0.001012          -0.000333 -0.001227        -0.000608   \n",
       "southern           0.002835          -0.000605 -0.000248        -0.000254   \n",
       "indian            -0.000900          -0.000109  0.008708        -0.002592   \n",
       "chinese           -0.000721          -0.000136  0.013142        -0.002561   \n",
       "greek             -0.000821          -0.000599 -0.001470         0.005192   \n",
       "thai              -0.000940          -0.000109 -0.001286        -0.002511   \n",
       "\n",
       "          button mushrooms  ...  pandan extract  pollock fillets  \\\n",
       "italian           0.000394  ...       -1.000000        -1.000000   \n",
       "mexican          -0.000108  ...       -1.000000        -1.000000   \n",
       "southern         -0.000108  ...       -1.000000        -1.000000   \n",
       "indian           -0.000017  ...       -1.000000        -1.000000   \n",
       "chinese           0.000026  ...       -1.000000        -1.000000   \n",
       "greek            -0.000081  ...       -1.000000        -1.000000   \n",
       "thai              0.000388  ...        0.000077         0.000077   \n",
       "\n",
       "          laksa leaves  breading  dried rhizome  indonesian chili sauce  \\\n",
       "italian      -1.000000 -1.000000      -1.000000               -1.000000   \n",
       "mexican      -1.000000 -1.000000      -1.000000               -1.000000   \n",
       "southern     -1.000000 -1.000000      -1.000000               -1.000000   \n",
       "indian       -1.000000 -1.000000      -1.000000               -1.000000   \n",
       "chinese      -1.000000 -1.000000      -1.000000               -1.000000   \n",
       "greek        -1.000000 -1.000000      -1.000000               -1.000000   \n",
       "thai          0.000077  0.000077       0.000077                0.000077   \n",
       "\n",
       "          edible orchid  better %27n peanut butter spread  \\\n",
       "italian       -1.000000                         -1.000000   \n",
       "mexican       -1.000000                         -1.000000   \n",
       "southern      -1.000000                         -1.000000   \n",
       "indian        -1.000000                         -1.000000   \n",
       "chinese       -1.000000                         -1.000000   \n",
       "greek         -1.000000                         -1.000000   \n",
       "thai           0.000077                          0.000077   \n",
       "\n",
       "          light vegetable stock  soy ginger broth  \n",
       "italian               -1.000000         -1.000000  \n",
       "mexican               -1.000000         -1.000000  \n",
       "southern              -1.000000         -1.000000  \n",
       "indian                -1.000000         -1.000000  \n",
       "chinese               -1.000000         -1.000000  \n",
       "greek                 -1.000000         -1.000000  \n",
       "thai                   0.000077          0.000077  \n",
       "\n",
       "[7 rows x 10381 columns]"
      ]
     },
     "execution_count": 9,
     "metadata": {},
     "output_type": "execute_result"
    }
   ],
   "source": [
    "KL.head(10)"
   ]
  },
  {
   "cell_type": "code",
   "execution_count": 12,
   "id": "5b396580",
   "metadata": {},
   "outputs": [
    {
     "data": {
      "text/plain": [
       "soy sauce       0.096288\n",
       "cornstarch      0.070006\n",
       "sesame oil      0.056826\n",
       "peanut oil      0.023527\n",
       "fresh ginger    0.021332\n",
       "Name: chinese, dtype: float64"
      ]
     },
     "execution_count": 12,
     "metadata": {},
     "output_type": "execute_result"
    }
   ],
   "source": [
    "KL.loc['chinese'].sort_values(ascending=False).head(5)"
   ]
  },
  {
   "cell_type": "code",
   "execution_count": null,
   "id": "db4f5c52",
   "metadata": {},
   "outputs": [],
   "source": [
    "KL.loc['chinese'].sort_values(ascending=False).head(5)"
   ]
  },
  {
   "cell_type": "code",
   "execution_count": 16,
   "id": "19d8067a",
   "metadata": {},
   "outputs": [
    {
     "data": {
      "text/plain": [
       "thai        0.006298\n",
       "chinese     0.004925\n",
       "italian     0.001633\n",
       "greek       0.000079\n",
       "indian     -0.000841\n",
       "mexican    -0.001392\n",
       "southern   -0.002302\n",
       "Name: garlic, dtype: float64"
      ]
     },
     "execution_count": 16,
     "metadata": {},
     "output_type": "execute_result"
    }
   ],
   "source": [
    "KL['garlic'].sort_values(ascending=False)"
   ]
  },
  {
   "cell_type": "code",
   "execution_count": 17,
   "id": "b174eec0",
   "metadata": {},
   "outputs": [],
   "source": [
    "import sklearn.metrics as mt"
   ]
  },
  {
   "cell_type": "markdown",
   "id": "ad6b0060",
   "metadata": {},
   "source": [
    "### A different vectorization process\n",
    "Vogliamo vettorizzare le ricette come vettori della stessa dimensione delle classi\n",
    "- Per ogni ricetta $x$ e ingrediente $i$ calcoliamo la probabilità di $i$ di essere parte di una classe.\n",
    "- Sommiamo le probabilità per classe\n",
    "- Creiamo un vettore"
   ]
  },
  {
   "cell_type": "code",
   "execution_count": 18,
   "id": "67a381f3",
   "metadata": {},
   "outputs": [],
   "source": [
    "sample_size = 200\n",
    "class_vocabulary = list(cuisine_frequency.keys())\n",
    "X, y = np.zeros((sample_size, len(class_vocabulary))), np.ones((sample_size, 1))\n",
    "for i, recipe in enumerate(data[:sample_size]):\n",
    "    ingredients = recipe['ingredients']\n",
    "    prob_index = defaultdict(lambda: 0)\n",
    "    for ingr in ingredients:\n",
    "        for class_label in class_vocabulary:\n",
    "            p_i = cuisine_frequency[class_label][ingredient] / sum(cuisine_frequency[class_label].values())\n",
    "            prob_index[class_label] += p_i\n",
    "    for class_label, score in prob_index.items():\n",
    "        X[i, class_vocabulary.index(class_label)] = score\n",
    "    if recipe[label_field] != cuisine:\n",
    "        y[i] = 0"
   ]
  },
  {
   "cell_type": "markdown",
   "id": "8748e1ae",
   "metadata": {},
   "source": [
    "## Perceptron\n",
    "Abbiamo visto come possiamo generalizzare l'idea di classificazione lineare attraverso la seguente equazione:\n",
    "\n",
    "$$\n",
    "\\hat{y} = g(\\theta^T \\cdot \\mathbf{X})\n",
    "$$\n",
    "\n",
    "in cui $g(\\cdot)$ è una funzione che mappa il valore predetto sulla variabile target. Questa idea può essere rappresentata graficamente nel modo seguente:\n",
    "\n",
    "![](./imgs/perceptron.jpg)"
   ]
  },
  {
   "cell_type": "markdown",
   "id": "d8b2b57f",
   "metadata": {},
   "source": [
    "![](../imgs/perceptron.jpg)"
   ]
  },
  {
   "cell_type": "markdown",
   "id": "415db324",
   "metadata": {},
   "source": [
    "![](../imgs/perceptron-example.jpg)"
   ]
  },
  {
   "cell_type": "markdown",
   "id": "3b31e742",
   "metadata": {},
   "source": [
    "## Neural networks\n",
    "Il Perceptron può essere facilmente generalizzato per gestire problemi multi-classe, come mostrato nella seguente immagine. Nota che l'unico cambiamento principale riguarda la dimensionalità di $\\theta$. Date $k$ classi, avremo $\\theta \\in \\mathbb{R}^{n \\times k}$. \n",
    "\n",
    "![](./imgs/ffn-example.jpg)"
   ]
  },
  {
   "cell_type": "code",
   "execution_count": 19,
   "id": "fa4adcd5",
   "metadata": {},
   "outputs": [
    {
     "data": {
      "text/plain": [
       "np.float64(1.7999999999999998)"
      ]
     },
     "execution_count": 19,
     "metadata": {},
     "output_type": "execute_result"
    }
   ],
   "source": [
    "a = np.array([1,0,0,1,0,1])\n",
    "th = np.array([.4, .2, 0, .6, .1, .8])\n",
    "a.dot(th)"
   ]
  },
  {
   "cell_type": "code",
   "execution_count": 20,
   "id": "2e3f6a52",
   "metadata": {},
   "outputs": [
    {
     "data": {
      "text/plain": [
       "array([1.8, 1. ])"
      ]
     },
     "execution_count": 20,
     "metadata": {},
     "output_type": "execute_result"
    }
   ],
   "source": [
    "a = np.array([1,0,0,1,0,1])\n",
    "th = np.array([[.4, .2, 0, .6, .1, .8], [.4, .2, 0, .6, .1, .0]])\n",
    "a.dot(th.T)"
   ]
  },
  {
   "cell_type": "markdown",
   "id": "d77bcbf8",
   "metadata": {},
   "source": [
    "![](../imgs/ffn.jpg)"
   ]
  },
  {
   "cell_type": "code",
   "execution_count": 21,
   "id": "fcc22cc1",
   "metadata": {},
   "outputs": [
    {
     "data": {
      "text/plain": [
       "array([0.85814894, 0.73105858])"
      ]
     },
     "execution_count": 21,
     "metadata": {},
     "output_type": "execute_result"
    }
   ],
   "source": [
    "1 / (1 + np.exp(-np.array([1.8, 1])))"
   ]
  },
  {
   "cell_type": "markdown",
   "id": "59f1ddac",
   "metadata": {},
   "source": [
    "![](../imgs/ffn-example.jpg)"
   ]
  },
  {
   "cell_type": "markdown",
   "id": "a8c502d0",
   "metadata": {},
   "source": [
    "### Principali funzioni di attivazione"
   ]
  },
  {
   "cell_type": "code",
   "execution_count": 22,
   "id": "824f6610",
   "metadata": {},
   "outputs": [],
   "source": [
    "import numpy as np\n",
    "import matplotlib.pyplot as plt"
   ]
  },
  {
   "cell_type": "code",
   "execution_count": 23,
   "id": "43c95fd9",
   "metadata": {},
   "outputs": [],
   "source": [
    "activation = {\n",
    "    'identity': lambda x: x,\n",
    "    'sign': lambda x: np.sign(x),\n",
    "    'sigmoid': lambda x: 1 / (1 + np.exp(-x)),\n",
    "    'ReLU': lambda x: np.array([max([k, 0]) for k in x]),\n",
    "    'tahn': lambda x: (np.exp(2*x) - 1) / (np.exp(2*x) + 1),\n",
    "    'hard tahn': lambda x: np.array([max([min([k, 1]), -1]) for k in x])\n",
    "}\n",
    "data = np.linspace(-5, 5)"
   ]
  },
  {
   "cell_type": "code",
   "execution_count": 24,
   "id": "ab948a6f",
   "metadata": {},
   "outputs": [
    {
     "data": {
      "image/png": "[encoded data removed]",
      "text/plain": [
       "<Figure size 1800x300 with 6 Axes>"
      ]
     },
     "metadata": {},
     "output_type": "display_data"
    }
   ],
   "source": [
    "fig, ax = plt.subplots(figsize=(3*len(activation), 3), ncols=len(activation))\n",
    "for i, (fun, f) in enumerate(activation.items()):\n",
    "    ax[i].plot(data, f(data), 'g--')\n",
    "    ax[i].set_title(fun)\n",
    "plt.tight_layout()\n",
    "plt.show()"
   ]
  },
  {
   "cell_type": "markdown",
   "id": "ea1ed03a",
   "metadata": {},
   "source": [
    "### Una semplice rete neurale\n",
    "\n",
    "Predire il tipo di cucina data la combinazione di ingredienti."
   ]
  },
  {
   "cell_type": "code",
   "execution_count": 25,
   "id": "d83e6f2f",
   "metadata": {},
   "outputs": [],
   "source": [
    "from sklearn.preprocessing import OneHotEncoder"
   ]
  },
  {
   "cell_type": "code",
   "execution_count": 60,
   "id": "e45f3d30",
   "metadata": {},
   "outputs": [],
   "source": [
    "db = pymongo.MongoClient()['cousine']\n",
    "recipes = db['foodcom']\n",
    "label_field = 'category'\n",
    "data = []\n",
    "labels = ['italian', 'indian', 'southern', 'mexican', 'chinese', 'greek', 'thai']\n",
    "\n",
    "q = {'search_terms': {'$in': labels}}\n",
    "for recipe in recipes.find(q):\n",
    "    data.append({\n",
    "        'ingredients': recipe['ingredients'],\n",
    "        label_field: [x for x in recipe['search_terms'] if x in labels][0]\n",
    "    })"
   ]
  },
  {
   "cell_type": "code",
   "execution_count": 61,
   "id": "0caafaeb",
   "metadata": {},
   "outputs": [],
   "source": [
    "train_data = data[:5000]\n",
    "test_data = data[5000:6000]"
   ]
  },
  {
   "cell_type": "code",
   "execution_count": 62,
   "id": "2baf2804",
   "metadata": {},
   "outputs": [],
   "source": [
    "vocabulary = list(pd.Series(document_frequency).sort_values(\n",
    "    ascending=False).head(1000).keys().values)"
   ]
  },
  {
   "cell_type": "code",
   "execution_count": 63,
   "id": "77bb68e7",
   "metadata": {},
   "outputs": [],
   "source": [
    "enc_labels = OneHotEncoder(handle_unknown='ignore')"
   ]
  },
  {
   "cell_type": "code",
   "execution_count": 64,
   "id": "9b5c544b",
   "metadata": {},
   "outputs": [],
   "source": [
    "def get_data(data, vocabulary):\n",
    "    features, labels = [], []\n",
    "    for recipe in data:\n",
    "        features.append([f for f in recipe['ingredients'] if f in vocabulary])\n",
    "        labels.append([recipe[label_field]])\n",
    "    return features, labels"
   ]
  },
  {
   "cell_type": "code",
   "execution_count": 65,
   "id": "f0e319dc",
   "metadata": {},
   "outputs": [],
   "source": [
    "train_docs, train_labels = get_data(train_data, vocabulary)\n",
    "test_docs, test_labels = get_data(test_data, vocabulary)"
   ]
  },
  {
   "cell_type": "code",
   "execution_count": 66,
   "id": "2e9a9bae",
   "metadata": {},
   "outputs": [
    {
     "data": {
      "text/plain": [
       "[['italian'], ['italian']]"
      ]
     },
     "execution_count": 66,
     "metadata": {},
     "output_type": "execute_result"
    }
   ],
   "source": [
    "train_labels[:2]"
   ]
  },
  {
   "cell_type": "code",
   "execution_count": 67,
   "id": "cf64791c",
   "metadata": {},
   "outputs": [],
   "source": [
    "X_train = np.zeros((len(train_docs), len(vocabulary)))\n",
    "for i, doc in enumerate(train_docs):\n",
    "    for ingredient in doc:\n",
    "        X_train[i, vocabulary.index(ingredient)] = 1\n",
    "y_train = enc_labels.fit_transform(np.array(train_labels)).toarray()"
   ]
  },
  {
   "cell_type": "code",
   "execution_count": 68,
   "id": "18997bd1",
   "metadata": {},
   "outputs": [],
   "source": [
    "X_test = np.zeros((len(test_docs), len(vocabulary)))\n",
    "for i, doc in enumerate(test_docs):\n",
    "    for ingredient in doc:\n",
    "        X_test[i, vocabulary.index(ingredient)] = 1\n",
    "y_test = enc_labels.transform(np.array(test_labels)).toarray()"
   ]
  },
  {
   "cell_type": "code",
   "execution_count": 69,
   "id": "9023e571",
   "metadata": {},
   "outputs": [
    {
     "data": {
      "text/plain": [
       "array([[0., 1., 0., ..., 0., 0., 0.],\n",
       "       [1., 0., 1., ..., 0., 0., 0.],\n",
       "       [0., 0., 0., ..., 0., 0., 0.],\n",
       "       ...,\n",
       "       [0., 0., 0., ..., 0., 0., 0.],\n",
       "       [0., 1., 0., ..., 0., 0., 0.],\n",
       "       [1., 0., 0., ..., 0., 0., 0.]], shape=(5000, 1000))"
      ]
     },
     "execution_count": 69,
     "metadata": {},
     "output_type": "execute_result"
    }
   ],
   "source": [
    "X_train"
   ]
  },
  {
   "cell_type": "code",
   "execution_count": 70,
   "id": "161d5fc6",
   "metadata": {},
   "outputs": [
    {
     "data": {
      "text/plain": [
       "array([[0., 0., 0., ..., 0., 0., 0.],\n",
       "       [0., 0., 0., ..., 0., 0., 0.],\n",
       "       [0., 0., 0., ..., 0., 0., 0.],\n",
       "       ...,\n",
       "       [0., 0., 0., ..., 1., 0., 0.],\n",
       "       [0., 0., 0., ..., 0., 1., 0.],\n",
       "       [0., 0., 1., ..., 0., 0., 0.]], shape=(5000, 7))"
      ]
     },
     "execution_count": 70,
     "metadata": {},
     "output_type": "execute_result"
    }
   ],
   "source": [
    "y_train"
   ]
  },
  {
   "cell_type": "markdown",
   "id": "0510d775",
   "metadata": {},
   "source": [
    "### Torch data loader"
   ]
  },
  {
   "cell_type": "code",
   "execution_count": 71,
   "id": "04a8ed08",
   "metadata": {},
   "outputs": [],
   "source": [
    "import torch\n",
    "from torch.utils.data import TensorDataset, DataLoader"
   ]
  },
  {
   "cell_type": "code",
   "execution_count": 72,
   "id": "3efd83f2",
   "metadata": {},
   "outputs": [],
   "source": [
    "train_dataset = TensorDataset(torch.Tensor(X_train), torch.Tensor(y_train))\n",
    "train_dataloader = DataLoader(train_dataset, batch_size=10)"
   ]
  },
  {
   "cell_type": "code",
   "execution_count": 73,
   "id": "0cfe48e0",
   "metadata": {},
   "outputs": [
    {
     "name": "stdout",
     "output_type": "stream",
     "text": [
      "torch.Size([10, 1000]) torch.Size([10, 7])\n"
     ]
    }
   ],
   "source": [
    "for (x, y) in train_dataloader:\n",
    "    print(x.shape, y.shape)\n",
    "    break"
   ]
  },
  {
   "cell_type": "code",
   "execution_count": 74,
   "id": "6c90ee01",
   "metadata": {},
   "outputs": [],
   "source": [
    "test_dataset = TensorDataset(torch.Tensor(X_test), torch.Tensor(y_test))\n",
    "test_dataloader = DataLoader(test_dataset, batch_size=10)"
   ]
  },
  {
   "cell_type": "markdown",
   "id": "12938068",
   "metadata": {},
   "source": [
    "### The simple Net"
   ]
  },
  {
   "cell_type": "code",
   "execution_count": 75,
   "id": "be56bb5c",
   "metadata": {},
   "outputs": [],
   "source": [
    "import torch.nn as nn\n",
    "import torch.nn.functional as F"
   ]
  },
  {
   "cell_type": "code",
   "execution_count": 76,
   "id": "75d292ed",
   "metadata": {},
   "outputs": [],
   "source": [
    "class SimpleNet(nn.Module):\n",
    "\n",
    "    def __init__(self, input_size, output_size):\n",
    "        super(SimpleNet, self).__init__()\n",
    "        self.fc = nn.Linear(input_size, output_size)\n",
    "\n",
    "    def forward(self, x):\n",
    "        x = F.softmax(self.fc(x), dim=0)\n",
    "        return x"
   ]
  },
  {
   "cell_type": "code",
   "execution_count": 77,
   "id": "bec659fb",
   "metadata": {},
   "outputs": [],
   "source": [
    "net = SimpleNet(X_train.shape[1], y_train.shape[1])"
   ]
  },
  {
   "cell_type": "code",
   "execution_count": 78,
   "id": "800e6ae7",
   "metadata": {},
   "outputs": [],
   "source": [
    "for (x, y) in train_dataloader:\n",
    "    p = net(x)\n",
    "    break"
   ]
  },
  {
   "cell_type": "code",
   "execution_count": 79,
   "id": "fed989fe",
   "metadata": {},
   "outputs": [
    {
     "data": {
      "text/plain": [
       "torch.Size([10, 7])"
      ]
     },
     "execution_count": 79,
     "metadata": {},
     "output_type": "execute_result"
    }
   ],
   "source": [
    "p.shape"
   ]
  },
  {
   "cell_type": "code",
   "execution_count": 80,
   "id": "9b53a7c5",
   "metadata": {},
   "outputs": [
    {
     "data": {
      "text/plain": [
       "tensor([0.0989, 0.0934, 0.1082, 0.0964, 0.0972, 0.1130, 0.1034],\n",
       "       grad_fn=<SelectBackward0>)"
      ]
     },
     "execution_count": 80,
     "metadata": {},
     "output_type": "execute_result"
    }
   ],
   "source": [
    "p[0]"
   ]
  },
  {
   "cell_type": "markdown",
   "id": "83da215b",
   "metadata": {},
   "source": [
    "### Train"
   ]
  },
  {
   "cell_type": "code",
   "execution_count": 81,
   "id": "ba6fbc62",
   "metadata": {},
   "outputs": [],
   "source": [
    "import time\n",
    "import math"
   ]
  },
  {
   "cell_type": "code",
   "execution_count": 82,
   "id": "b1457d3c",
   "metadata": {},
   "outputs": [],
   "source": [
    "batches = [(doc, lab) for doc, lab in train_dataloader]\n",
    "read_labels = [x.replace('x0_', '') for x in enc_labels.get_feature_names_out()]"
   ]
  },
  {
   "cell_type": "code",
   "execution_count": 83,
   "id": "fcb8de55",
   "metadata": {},
   "outputs": [],
   "source": [
    "def train(document_tensor, label_tensor, criterion, learning_rate):\n",
    "    net.zero_grad()\n",
    "    output = net(document_tensor)\n",
    "    loss = criterion(output, label_tensor)\n",
    "    loss.backward()\n",
    "\n",
    "    for p in net.parameters():\n",
    "        p.data.add_(p.grad.data, alpha=-learning_rate)\n",
    "    return output, loss.item()"
   ]
  },
  {
   "cell_type": "code",
   "execution_count": 84,
   "id": "949097d2",
   "metadata": {},
   "outputs": [
    {
     "data": {
      "application/vnd.jupyter.widget-view+json": {
       "model_id": "b0b6eea6c9fb41aeaa8ac0a59ca1e86e",
       "version_major": 2,
       "version_minor": 0
      },
      "text/plain": [
       "  0%|          | 0/60000 [00:00<?, ?it/s]"
      ]
     },
     "metadata": {},
     "output_type": "display_data"
    },
    {
     "name": "stdout",
     "output_type": "stream",
     "text": [
      "southern ==> southern\n",
      "italian ==> italian\n",
      "southern ==> indian\n",
      "southern ==> mexican\n",
      "southern ==> southern\n",
      "chinese ==> thai\n",
      "greek ==> greek\n",
      "indian ==> mexican\n",
      "mexican ==> italian\n",
      "chinese ==> thai\n",
      "indian ==> italian\n",
      "southern ==> greek\n",
      "indian ==> mexican\n",
      "italian ==> southern\n",
      "mexican ==> mexican\n",
      "southern ==> southern\n",
      "italian ==> italian\n",
      "italian ==> italian\n",
      "mexican ==> mexican\n",
      "italian ==> southern\n",
      "mexican ==> mexican\n",
      "thai ==> southern\n",
      "mexican ==> mexican\n",
      "indian ==> mexican\n",
      "thai ==> mexican\n",
      "indian ==> indian\n",
      "italian ==> mexican\n",
      "southern ==> mexican\n",
      "mexican ==> mexican\n",
      "thai ==> thai\n",
      "italian ==> italian\n",
      "mexican ==> mexican\n",
      "southern ==> mexican\n",
      "chinese ==> southern\n",
      "greek ==> italian\n",
      "greek ==> italian\n",
      "italian ==> italian\n",
      "greek ==> italian\n",
      "thai ==> italian\n",
      "indian ==> italian\n",
      "italian ==> italian\n",
      "italian ==> italian\n",
      "greek ==> mexican\n",
      "southern ==> southern\n",
      "indian ==> indian\n",
      "thai ==> italian\n",
      "southern ==> southern\n",
      "chinese ==> chinese\n",
      "mexican ==> mexican\n",
      "mexican ==> mexican\n",
      "italian ==> mexican\n",
      "indian ==> indian\n",
      "mexican ==> mexican\n",
      "southern ==> southern\n",
      "thai ==> chinese\n",
      "mexican ==> mexican\n",
      "indian ==> indian\n",
      "mexican ==> mexican\n",
      "italian ==> italian\n",
      "italian ==> italian\n",
      "indian ==> indian\n",
      "mexican ==> mexican\n",
      "greek ==> greek\n",
      "mexican ==> mexican\n",
      "chinese ==> mexican\n",
      "mexican ==> southern\n",
      "greek ==> greek\n",
      "indian ==> indian\n",
      "thai ==> southern\n",
      "southern ==> italian\n",
      "greek ==> greek\n",
      "italian ==> greek\n",
      "mexican ==> mexican\n",
      "italian ==> italian\n",
      "southern ==> mexican\n",
      "greek ==> greek\n",
      "indian ==> indian\n",
      "mexican ==> mexican\n",
      "thai ==> italian\n",
      "southern ==> southern\n",
      "chinese ==> chinese\n",
      "chinese ==> chinese\n",
      "greek ==> greek\n",
      "italian ==> southern\n",
      "italian ==> italian\n",
      "southern ==> indian\n",
      "mexican ==> mexican\n",
      "mexican ==> mexican\n",
      "thai ==> italian\n",
      "thai ==> southern\n"
     ]
    }
   ],
   "source": [
    "n_iters = 60_000\n",
    "print_every = 2000\n",
    "plot_every = 200\n",
    "criterion = nn.BCEWithLogitsLoss()\n",
    "learning_rate = 0.1\n",
    "\n",
    "current_loss = 0\n",
    "all_losses = []\n",
    "\n",
    "def timeSince(since):\n",
    "    now = time.time()\n",
    "    s = now - since\n",
    "    m = math.floor(s / 60)\n",
    "    s -= m * 60\n",
    "    return '%dm %ds' % (m, s)\n",
    "\n",
    "start = time.time()\n",
    "\n",
    "epochs = list(range(1, n_iters + 1))\n",
    "for it in tqdm(epochs):\n",
    "    document_tensor, label_tensor = batches[np.random.randint(0, len(batches) - 1)]\n",
    "    output, loss = train(document_tensor, label_tensor, criterion, learning_rate)\n",
    "    current_loss += loss\n",
    "\n",
    "    if it % print_every == 0:\n",
    "        preds = torch.argmax(output, dim=1)\n",
    "        ground = torch.argmax(label_tensor, dim=1)\n",
    "        for i, p in enumerate(preds[:3]):\n",
    "            g = ground[i]\n",
    "            print('{} ==> {}'.format(read_labels[p], read_labels[g]))\n",
    "\n",
    "    if it % plot_every == 0:\n",
    "        all_losses.append(current_loss / plot_every)\n",
    "        current_loss = 0"
   ]
  },
  {
   "cell_type": "code",
   "execution_count": 85,
   "id": "07d25dd9",
   "metadata": {},
   "outputs": [
    {
     "data": {
      "image/png": "[encoded data removed]",
      "text/plain": [
       "<Figure size 800x400 with 1 Axes>"
      ]
     },
     "metadata": {},
     "output_type": "display_data"
    }
   ],
   "source": [
    "fig, ax = plt.subplots(figsize=(8, 4))\n",
    "ax.plot(all_losses, 'g')\n",
    "plt.tight_layout()\n",
    "plt.show()"
   ]
  },
  {
   "cell_type": "markdown",
   "id": "7793ff36",
   "metadata": {},
   "source": [
    "### Prediction on train"
   ]
  },
  {
   "cell_type": "code",
   "execution_count": 86,
   "id": "4b2fbb86",
   "metadata": {},
   "outputs": [],
   "source": [
    "y_pred_train, y_true_train = [], []\n",
    "for doc, lab in train_dataloader:\n",
    "    output = net(doc)\n",
    "    preds = torch.argmax(output, dim=1)\n",
    "    ground = torch.argmax(lab, dim=1)\n",
    "    for i, p in enumerate(preds):\n",
    "        y_pred_train.append(p)\n",
    "        g = ground[i]\n",
    "        y_true_train.append(g)"
   ]
  },
  {
   "cell_type": "code",
   "execution_count": 87,
   "id": "16ba15a8",
   "metadata": {},
   "outputs": [
    {
     "name": "stdout",
     "output_type": "stream",
     "text": [
      "              precision    recall  f1-score   support\n",
      "\n",
      "           0       0.44      0.72      0.55       370\n",
      "           1       0.31      0.64      0.41       324\n",
      "           2       0.51      0.64      0.57       526\n",
      "           3       0.77      0.48      0.59      1261\n",
      "           4       0.77      0.52      0.62      1152\n",
      "           5       0.61      0.49      0.54      1146\n",
      "           6       0.27      0.71      0.39       221\n",
      "\n",
      "    accuracy                           0.55      5000\n",
      "   macro avg       0.53      0.60      0.53      5000\n",
      "weighted avg       0.63      0.55      0.56      5000\n",
      "\n"
     ]
    }
   ],
   "source": [
    "print(mt.classification_report(y_true_train, y_pred_train))"
   ]
  },
  {
   "cell_type": "markdown",
   "id": "1746fe20",
   "metadata": {},
   "source": [
    "### Prediction on test"
   ]
  },
  {
   "cell_type": "code",
   "execution_count": 88,
   "id": "1b3571f8",
   "metadata": {},
   "outputs": [],
   "source": [
    "y_pred, y_true = [], []\n",
    "for doc, lab in test_dataloader:\n",
    "    output = net(doc)\n",
    "    preds = torch.argmax(output, dim=1)\n",
    "    ground = torch.argmax(lab, dim=1)\n",
    "    for i, p in enumerate(preds):\n",
    "        y_pred.append(p)\n",
    "        g = ground[i]\n",
    "        y_true.append(g)"
   ]
  },
  {
   "cell_type": "code",
   "execution_count": 58,
   "id": "548e48c0",
   "metadata": {},
   "outputs": [
    {
     "name": "stdout",
     "output_type": "stream",
     "text": [
      "              precision    recall  f1-score   support\n",
      "\n",
      "           0       0.35      0.70      0.47        77\n",
      "           1       0.26      0.49      0.34        72\n",
      "           2       0.39      0.61      0.47        85\n",
      "           3       0.81      0.47      0.60       265\n",
      "           4       0.75      0.52      0.61       211\n",
      "           5       0.05      0.26      0.09        19\n",
      "           6       0.57      0.38      0.46       271\n",
      "\n",
      "    accuracy                           0.48      1000\n",
      "   macro avg       0.45      0.49      0.43      1000\n",
      "weighted avg       0.61      0.48      0.51      1000\n",
      "\n"
     ]
    }
   ],
   "source": [
    "print(mt.classification_report(y_true, y_pred, zero_division=0))"
   ]
  },
  {
   "cell_type": "code",
   "execution_count": 89,
   "id": "655e21f5",
   "metadata": {},
   "outputs": [
    {
     "data": {
      "image/png": "[encoded data removed]",
      "text/plain": [
       "<Figure size 800x600 with 2 Axes>"
      ]
     },
     "metadata": {},
     "output_type": "display_data"
    }
   ],
   "source": [
    "fig, ax = plt.subplots(figsize=(8, 6), ncols=2)\n",
    "cmd_train = mt.ConfusionMatrixDisplay(confusion_matrix=mt.confusion_matrix(y_true_train, y_pred_train), \n",
    "                                      display_labels=read_labels)\n",
    "cmd_test = mt.ConfusionMatrixDisplay(confusion_matrix=mt.confusion_matrix(y_true, y_pred), \n",
    "                                     display_labels=read_labels)\n",
    "cmd_train.plot(ax=ax[0], cmap='Greys', colorbar=False, xticks_rotation='vertical')\n",
    "cmd_test.plot(ax=ax[1], cmap='Greys', colorbar=False, xticks_rotation='vertical')\n",
    "ax[0].set_title('Trainset')\n",
    "ax[1].set_title('Testset')\n",
    "plt.tight_layout()\n",
    "plt.show()"
   ]
  },
  {
   "cell_type": "markdown",
   "id": "03052352",
   "metadata": {},
   "source": [
    "## Alcune considerazioni sui parametri della rete."
   ]
  },
  {
   "cell_type": "code",
   "execution_count": 90,
   "id": "9a203f90",
   "metadata": {},
   "outputs": [
    {
     "name": "stdout",
     "output_type": "stream",
     "text": [
      "[('fc.weight', Parameter containing:\n",
      "tensor([[-1.0964e-01, -2.6931e-01, -4.4275e-01,  ..., -2.1630e-02,\n",
      "         -2.6244e-03,  2.5610e-03],\n",
      "        [-3.8753e-02, -2.3788e-01,  1.1332e+00,  ..., -8.5916e-05,\n",
      "          5.5504e-03,  2.4858e-03],\n",
      "        [ 1.1869e+00,  2.1029e-01, -4.4976e-01,  ..., -3.0088e-02,\n",
      "         -6.5541e-03,  1.0172e-01],\n",
      "        ...,\n",
      "        [-3.5826e-01,  6.3850e-01, -3.2413e-01,  ..., -1.7901e-02,\n",
      "          4.9231e-02, -2.7361e-02],\n",
      "        [ 2.8774e-01,  1.4889e-01, -1.0919e+00,  ..., -6.3463e-03,\n",
      "          2.5505e-03, -3.0546e-03],\n",
      "        [-5.2923e-01, -2.1862e-01, -4.7149e-01,  ...,  1.5523e-02,\n",
      "          3.6156e-03,  3.2467e-03]], requires_grad=True)), ('fc.bias', Parameter containing:\n",
      "tensor([-0.0086, -0.0262,  0.0172,  0.0018,  0.0125,  0.0244, -0.0110],\n",
      "       requires_grad=True))]\n"
     ]
    }
   ],
   "source": [
    "print([x for x in net.named_parameters()])"
   ]
  },
  {
   "cell_type": "code",
   "execution_count": 91,
   "id": "584b5f1f",
   "metadata": {},
   "outputs": [],
   "source": [
    "params = {name: param.detach().numpy() for name, param in net.named_parameters()}"
   ]
  },
  {
   "cell_type": "code",
   "execution_count": 92,
   "id": "09fcc7c6",
   "metadata": {},
   "outputs": [
    {
     "data": {
      "text/plain": [
       "(7, 1000)"
      ]
     },
     "execution_count": 92,
     "metadata": {},
     "output_type": "execute_result"
    }
   ],
   "source": [
    "params['fc.weight'].shape"
   ]
  },
  {
   "cell_type": "markdown",
   "id": "9bb78f68",
   "metadata": {},
   "source": [
    "Nota che in questo dataset abbiamo 7 classi e 1000 caratteristiche. Pertanto, possiamo associare un vettore di 6 valori a ciascuna caratteristica. Proviamo:"
   ]
  },
  {
   "cell_type": "code",
   "execution_count": 93,
   "id": "d81ca8b3",
   "metadata": {},
   "outputs": [
    {
     "data": {
      "text/html": [
       "<div>\n",
       "<style scoped>\n",
       "    .dataframe tbody tr th:only-of-type {\n",
       "        vertical-align: middle;\n",
       "    }\n",
       "\n",
       "    .dataframe tbody tr th {\n",
       "        vertical-align: top;\n",
       "    }\n",
       "\n",
       "    .dataframe thead th {\n",
       "        text-align: right;\n",
       "    }\n",
       "</style>\n",
       "<table border=\"1\" class=\"dataframe\">\n",
       "  <thead>\n",
       "    <tr style=\"text-align: right;\">\n",
       "      <th></th>\n",
       "      <th>italian</th>\n",
       "      <th>indian</th>\n",
       "      <th>southern</th>\n",
       "      <th>mexican</th>\n",
       "      <th>chinese</th>\n",
       "      <th>greek</th>\n",
       "      <th>thai</th>\n",
       "    </tr>\n",
       "  </thead>\n",
       "  <tbody>\n",
       "    <tr>\n",
       "      <th>salt</th>\n",
       "      <td>-0.109645</td>\n",
       "      <td>-0.038753</td>\n",
       "      <td>1.186860</td>\n",
       "      <td>-0.354072</td>\n",
       "      <td>-0.358256</td>\n",
       "      <td>0.287737</td>\n",
       "      <td>-0.529234</td>\n",
       "    </tr>\n",
       "    <tr>\n",
       "      <th>onion</th>\n",
       "      <td>-0.269314</td>\n",
       "      <td>-0.237881</td>\n",
       "      <td>0.210289</td>\n",
       "      <td>0.025597</td>\n",
       "      <td>0.638497</td>\n",
       "      <td>0.148887</td>\n",
       "      <td>-0.218618</td>\n",
       "    </tr>\n",
       "    <tr>\n",
       "      <th>olive oil</th>\n",
       "      <td>-0.442748</td>\n",
       "      <td>1.133159</td>\n",
       "      <td>-0.449760</td>\n",
       "      <td>1.393122</td>\n",
       "      <td>-0.324133</td>\n",
       "      <td>-1.091922</td>\n",
       "      <td>-0.471494</td>\n",
       "    </tr>\n",
       "    <tr>\n",
       "      <th>garlic cloves</th>\n",
       "      <td>0.063399</td>\n",
       "      <td>0.117800</td>\n",
       "      <td>0.147329</td>\n",
       "      <td>0.446771</td>\n",
       "      <td>-0.055125</td>\n",
       "      <td>-0.651909</td>\n",
       "      <td>0.323930</td>\n",
       "    </tr>\n",
       "    <tr>\n",
       "      <th>water</th>\n",
       "      <td>0.464773</td>\n",
       "      <td>-0.101849</td>\n",
       "      <td>0.373560</td>\n",
       "      <td>-0.196703</td>\n",
       "      <td>-0.093074</td>\n",
       "      <td>-0.138380</td>\n",
       "      <td>-0.294053</td>\n",
       "    </tr>\n",
       "    <tr>\n",
       "      <th>...</th>\n",
       "      <td>...</td>\n",
       "      <td>...</td>\n",
       "      <td>...</td>\n",
       "      <td>...</td>\n",
       "      <td>...</td>\n",
       "      <td>...</td>\n",
       "      <td>...</td>\n",
       "    </tr>\n",
       "    <tr>\n",
       "      <th>unsweetened cocoa</th>\n",
       "      <td>-0.037009</td>\n",
       "      <td>0.012722</td>\n",
       "      <td>0.013676</td>\n",
       "      <td>0.011184</td>\n",
       "      <td>0.009296</td>\n",
       "      <td>0.002590</td>\n",
       "      <td>-0.026150</td>\n",
       "    </tr>\n",
       "    <tr>\n",
       "      <th>unsweetened chocolate</th>\n",
       "      <td>0.000647</td>\n",
       "      <td>0.004279</td>\n",
       "      <td>-0.026260</td>\n",
       "      <td>0.015336</td>\n",
       "      <td>0.026875</td>\n",
       "      <td>-0.000232</td>\n",
       "      <td>-0.024571</td>\n",
       "    </tr>\n",
       "    <tr>\n",
       "      <th>bisquick</th>\n",
       "      <td>-0.021630</td>\n",
       "      <td>-0.000086</td>\n",
       "      <td>-0.030088</td>\n",
       "      <td>-0.038464</td>\n",
       "      <td>-0.017901</td>\n",
       "      <td>-0.006346</td>\n",
       "      <td>0.015523</td>\n",
       "    </tr>\n",
       "    <tr>\n",
       "      <th>condensed cream of chicken soup</th>\n",
       "      <td>-0.002624</td>\n",
       "      <td>0.005550</td>\n",
       "      <td>-0.006554</td>\n",
       "      <td>-0.019871</td>\n",
       "      <td>0.049231</td>\n",
       "      <td>0.002550</td>\n",
       "      <td>0.003616</td>\n",
       "    </tr>\n",
       "    <tr>\n",
       "      <th>saffron thread</th>\n",
       "      <td>0.002561</td>\n",
       "      <td>0.002486</td>\n",
       "      <td>0.101724</td>\n",
       "      <td>0.010195</td>\n",
       "      <td>-0.027361</td>\n",
       "      <td>-0.003055</td>\n",
       "      <td>0.003247</td>\n",
       "    </tr>\n",
       "  </tbody>\n",
       "</table>\n",
       "<p>1000 rows × 7 columns</p>\n",
       "</div>"
      ],
      "text/plain": [
       "                                  italian    indian  southern   mexican  \\\n",
       "salt                            -0.109645 -0.038753  1.186860 -0.354072   \n",
       "onion                           -0.269314 -0.237881  0.210289  0.025597   \n",
       "olive oil                       -0.442748  1.133159 -0.449760  1.393122   \n",
       "garlic cloves                    0.063399  0.117800  0.147329  0.446771   \n",
       "water                            0.464773 -0.101849  0.373560 -0.196703   \n",
       "...                                   ...       ...       ...       ...   \n",
       "unsweetened cocoa               -0.037009  0.012722  0.013676  0.011184   \n",
       "unsweetened chocolate            0.000647  0.004279 -0.026260  0.015336   \n",
       "bisquick                        -0.021630 -0.000086 -0.030088 -0.038464   \n",
       "condensed cream of chicken soup -0.002624  0.005550 -0.006554 -0.019871   \n",
       "saffron thread                   0.002561  0.002486  0.101724  0.010195   \n",
       "\n",
       "                                  chinese     greek      thai  \n",
       "salt                            -0.358256  0.287737 -0.529234  \n",
       "onion                            0.638497  0.148887 -0.218618  \n",
       "olive oil                       -0.324133 -1.091922 -0.471494  \n",
       "garlic cloves                   -0.055125 -0.651909  0.323930  \n",
       "water                           -0.093074 -0.138380 -0.294053  \n",
       "...                                   ...       ...       ...  \n",
       "unsweetened cocoa                0.009296  0.002590 -0.026150  \n",
       "unsweetened chocolate            0.026875 -0.000232 -0.024571  \n",
       "bisquick                        -0.017901 -0.006346  0.015523  \n",
       "condensed cream of chicken soup  0.049231  0.002550  0.003616  \n",
       "saffron thread                  -0.027361 -0.003055  0.003247  \n",
       "\n",
       "[1000 rows x 7 columns]"
      ]
     },
     "execution_count": 93,
     "metadata": {},
     "output_type": "execute_result"
    }
   ],
   "source": [
    "feature_vectors = pd.DataFrame(params['fc.weight'].T, index=vocabulary, columns=labels)\n",
    "feature_vectors"
   ]
  },
  {
   "cell_type": "markdown",
   "id": "27f340c2",
   "metadata": {},
   "source": [
    "Ora, proviamo a calcolare la similarità tra ingredienti utilizzando questi vettori."
   ]
  },
  {
   "cell_type": "code",
   "execution_count": 94,
   "id": "a60310bf",
   "metadata": {},
   "outputs": [],
   "source": [
    "from sklearn.metrics.pairwise import cosine_similarity"
   ]
  },
  {
   "cell_type": "code",
   "execution_count": 95,
   "id": "adfb8d75",
   "metadata": {},
   "outputs": [],
   "source": [
    "sigma = cosine_similarity(feature_vectors, feature_vectors)\n",
    "S = pd.DataFrame(sigma, index=vocabulary, columns=vocabulary)"
   ]
  },
  {
   "cell_type": "code",
   "execution_count": 96,
   "id": "250a2c4f",
   "metadata": {},
   "outputs": [
    {
     "data": {
      "text/html": [
       "<div>\n",
       "<style scoped>\n",
       "    .dataframe tbody tr th:only-of-type {\n",
       "        vertical-align: middle;\n",
       "    }\n",
       "\n",
       "    .dataframe tbody tr th {\n",
       "        vertical-align: top;\n",
       "    }\n",
       "\n",
       "    .dataframe thead th {\n",
       "        text-align: right;\n",
       "    }\n",
       "</style>\n",
       "<table border=\"1\" class=\"dataframe\">\n",
       "  <thead>\n",
       "    <tr style=\"text-align: right;\">\n",
       "      <th></th>\n",
       "      <th>salt</th>\n",
       "      <th>onion</th>\n",
       "      <th>olive oil</th>\n",
       "      <th>garlic cloves</th>\n",
       "      <th>water</th>\n",
       "      <th>butter</th>\n",
       "      <th>sugar</th>\n",
       "      <th>garlic</th>\n",
       "      <th>eggs</th>\n",
       "      <th>tomatoes</th>\n",
       "      <th>...</th>\n",
       "      <th>white mushrooms</th>\n",
       "      <th>fish fillets</th>\n",
       "      <th>mexicorn</th>\n",
       "      <th>burrito-size flour tortillas</th>\n",
       "      <th>small shell pasta</th>\n",
       "      <th>unsweetened cocoa</th>\n",
       "      <th>unsweetened chocolate</th>\n",
       "      <th>bisquick</th>\n",
       "      <th>condensed cream of chicken soup</th>\n",
       "      <th>saffron thread</th>\n",
       "    </tr>\n",
       "  </thead>\n",
       "  <tbody>\n",
       "    <tr>\n",
       "      <th>salt</th>\n",
       "      <td>1.000000</td>\n",
       "      <td>0.181382</td>\n",
       "      <td>-0.299863</td>\n",
       "      <td>-0.266289</td>\n",
       "      <td>0.598070</td>\n",
       "      <td>0.318870</td>\n",
       "      <td>0.154413</td>\n",
       "      <td>-0.262269</td>\n",
       "      <td>-0.116624</td>\n",
       "      <td>0.151702</td>\n",
       "      <td>...</td>\n",
       "      <td>-0.164122</td>\n",
       "      <td>0.765460</td>\n",
       "      <td>-0.114298</td>\n",
       "      <td>0.186918</td>\n",
       "      <td>-0.331248</td>\n",
       "      <td>0.370624</td>\n",
       "      <td>-0.492839</td>\n",
       "      <td>-0.278172</td>\n",
       "      <td>-0.252621</td>\n",
       "      <td>0.819063</td>\n",
       "    </tr>\n",
       "    <tr>\n",
       "      <th>onion</th>\n",
       "      <td>0.181382</td>\n",
       "      <td>1.000000</td>\n",
       "      <td>-0.259851</td>\n",
       "      <td>-0.290063</td>\n",
       "      <td>-0.074234</td>\n",
       "      <td>0.024862</td>\n",
       "      <td>-0.695428</td>\n",
       "      <td>-0.602504</td>\n",
       "      <td>-0.361231</td>\n",
       "      <td>0.466753</td>\n",
       "      <td>...</td>\n",
       "      <td>0.243584</td>\n",
       "      <td>0.151109</td>\n",
       "      <td>0.916199</td>\n",
       "      <td>-0.147325</td>\n",
       "      <td>-0.339789</td>\n",
       "      <td>0.535786</td>\n",
       "      <td>0.420609</td>\n",
       "      <td>-0.363254</td>\n",
       "      <td>0.654015</td>\n",
       "      <td>0.020301</td>\n",
       "    </tr>\n",
       "    <tr>\n",
       "      <th>olive oil</th>\n",
       "      <td>-0.299863</td>\n",
       "      <td>-0.259851</td>\n",
       "      <td>1.000000</td>\n",
       "      <td>0.621516</td>\n",
       "      <td>-0.271376</td>\n",
       "      <td>-0.257021</td>\n",
       "      <td>-0.475751</td>\n",
       "      <td>0.457577</td>\n",
       "      <td>0.056949</td>\n",
       "      <td>0.301229</td>\n",
       "      <td>...</td>\n",
       "      <td>-0.384091</td>\n",
       "      <td>-0.490537</td>\n",
       "      <td>-0.326896</td>\n",
       "      <td>-0.350703</td>\n",
       "      <td>0.751493</td>\n",
       "      <td>0.402447</td>\n",
       "      <td>0.378249</td>\n",
       "      <td>-0.188773</td>\n",
       "      <td>-0.307959</td>\n",
       "      <td>-0.079848</td>\n",
       "    </tr>\n",
       "    <tr>\n",
       "      <th>garlic cloves</th>\n",
       "      <td>-0.266289</td>\n",
       "      <td>-0.290063</td>\n",
       "      <td>0.621516</td>\n",
       "      <td>1.000000</td>\n",
       "      <td>-0.024151</td>\n",
       "      <td>-0.735331</td>\n",
       "      <td>-0.190487</td>\n",
       "      <td>0.829039</td>\n",
       "      <td>-0.490871</td>\n",
       "      <td>0.228966</td>\n",
       "      <td>...</td>\n",
       "      <td>0.010895</td>\n",
       "      <td>-0.380894</td>\n",
       "      <td>-0.174644</td>\n",
       "      <td>0.136948</td>\n",
       "      <td>0.747038</td>\n",
       "      <td>-0.100204</td>\n",
       "      <td>-0.137640</td>\n",
       "      <td>-0.248742</td>\n",
       "      <td>-0.264594</td>\n",
       "      <td>0.263587</td>\n",
       "    </tr>\n",
       "    <tr>\n",
       "      <th>water</th>\n",
       "      <td>0.598070</td>\n",
       "      <td>-0.074234</td>\n",
       "      <td>-0.271376</td>\n",
       "      <td>-0.024151</td>\n",
       "      <td>1.000000</td>\n",
       "      <td>-0.225523</td>\n",
       "      <td>0.308329</td>\n",
       "      <td>0.056663</td>\n",
       "      <td>-0.377138</td>\n",
       "      <td>-0.000165</td>\n",
       "      <td>...</td>\n",
       "      <td>-0.424261</td>\n",
       "      <td>0.223753</td>\n",
       "      <td>-0.280511</td>\n",
       "      <td>0.426175</td>\n",
       "      <td>-0.318542</td>\n",
       "      <td>-0.247369</td>\n",
       "      <td>-0.239102</td>\n",
       "      <td>-0.371731</td>\n",
       "      <td>-0.162471</td>\n",
       "      <td>0.510123</td>\n",
       "    </tr>\n",
       "  </tbody>\n",
       "</table>\n",
       "<p>5 rows × 1000 columns</p>\n",
       "</div>"
      ],
      "text/plain": [
       "                   salt     onion  olive oil  garlic cloves     water  \\\n",
       "salt           1.000000  0.181382  -0.299863      -0.266289  0.598070   \n",
       "onion          0.181382  1.000000  -0.259851      -0.290063 -0.074234   \n",
       "olive oil     -0.299863 -0.259851   1.000000       0.621516 -0.271376   \n",
       "garlic cloves -0.266289 -0.290063   0.621516       1.000000 -0.024151   \n",
       "water          0.598070 -0.074234  -0.271376      -0.024151  1.000000   \n",
       "\n",
       "                 butter     sugar    garlic      eggs  tomatoes  ...  \\\n",
       "salt           0.318870  0.154413 -0.262269 -0.116624  0.151702  ...   \n",
       "onion          0.024862 -0.695428 -0.602504 -0.361231  0.466753  ...   \n",
       "olive oil     -0.257021 -0.475751  0.457577  0.056949  0.301229  ...   \n",
       "garlic cloves -0.735331 -0.190487  0.829039 -0.490871  0.228966  ...   \n",
       "water         -0.225523  0.308329  0.056663 -0.377138 -0.000165  ...   \n",
       "\n",
       "               white mushrooms  fish fillets  mexicorn  \\\n",
       "salt                 -0.164122      0.765460 -0.114298   \n",
       "onion                 0.243584      0.151109  0.916199   \n",
       "olive oil            -0.384091     -0.490537 -0.326896   \n",
       "garlic cloves         0.010895     -0.380894 -0.174644   \n",
       "water                -0.424261      0.223753 -0.280511   \n",
       "\n",
       "               burrito-size flour tortillas  small shell pasta  \\\n",
       "salt                               0.186918          -0.331248   \n",
       "onion                             -0.147325          -0.339789   \n",
       "olive oil                         -0.350703           0.751493   \n",
       "garlic cloves                      0.136948           0.747038   \n",
       "water                              0.426175          -0.318542   \n",
       "\n",
       "               unsweetened cocoa  unsweetened chocolate  bisquick  \\\n",
       "salt                    0.370624              -0.492839 -0.278172   \n",
       "onion                   0.535786               0.420609 -0.363254   \n",
       "olive oil               0.402447               0.378249 -0.188773   \n",
       "garlic cloves          -0.100204              -0.137640 -0.248742   \n",
       "water                  -0.247369              -0.239102 -0.371731   \n",
       "\n",
       "               condensed cream of chicken soup  saffron thread  \n",
       "salt                                 -0.252621        0.819063  \n",
       "onion                                 0.654015        0.020301  \n",
       "olive oil                            -0.307959       -0.079848  \n",
       "garlic cloves                        -0.264594        0.263587  \n",
       "water                                -0.162471        0.510123  \n",
       "\n",
       "[5 rows x 1000 columns]"
      ]
     },
     "execution_count": 96,
     "metadata": {},
     "output_type": "execute_result"
    }
   ],
   "source": [
    "S.head()"
   ]
  },
  {
   "cell_type": "code",
   "execution_count": 102,
   "id": "175c89d3",
   "metadata": {},
   "outputs": [
    {
     "data": {
      "text/plain": [
       "onions                 1.000000\n",
       "green cardamom pods    0.972789\n",
       "gram flour             0.959758\n",
       "garam masala powder    0.959225\n",
       "black mustard seeds    0.941485\n",
       "cumin seed             0.937880\n",
       "plain yogurt           0.932732\n",
       "ground turmeric        0.932362\n",
       "cloves                 0.931517\n",
       "cardamom               0.931344\n",
       "Name: onions, dtype: float32"
      ]
     },
     "execution_count": 102,
     "metadata": {},
     "output_type": "execute_result"
    }
   ],
   "source": [
    "query = 'onions'\n",
    "S.loc[query].sort_values(ascending=False).head(10)"
   ]
  },
  {
   "cell_type": "code",
   "execution_count": 104,
   "id": "fce84a97",
   "metadata": {},
   "outputs": [],
   "source": [
    "k_sigma = cosine_similarity(feature_vectors.T, feature_vectors.T)\n",
    "K = pd.DataFrame(k_sigma, index=labels, columns=labels)"
   ]
  },
  {
   "cell_type": "code",
   "execution_count": null,
   "id": "90486774",
   "metadata": {},
   "outputs": [],
   "source": [
    "K"
   ]
  },
  {
   "cell_type": "code",
   "execution_count": 106,
   "id": "3823a07e",
   "metadata": {},
   "outputs": [
    {
     "data": {
      "text/plain": [
       "italian     1.000000\n",
       "thai        0.257061\n",
       "southern   -0.049443\n",
       "greek      -0.125673\n",
       "indian     -0.159022\n",
       "chinese    -0.231015\n",
       "mexican    -0.231176\n",
       "Name: italian, dtype: float32"
      ]
     },
     "execution_count": 106,
     "metadata": {},
     "output_type": "execute_result"
    }
   ],
   "source": [
    "K.loc['italian'].sort_values(ascending=False)"
   ]
  },
  {
   "cell_type": "code",
   "execution_count": null,
   "id": "4d0cb16e",
   "metadata": {},
   "outputs": [],
   "source": []
  }
 ],
 "metadata": {
  "kernelspec": {
   "display_name": "nlp",
   "language": "python",
   "name": "python3"
  },
  "language_info": {
   "codemirror_mode": {
    "name": "ipython",
    "version": 3
   },
   "file_extension": ".py",
   "mimetype": "text/x-python",
   "name": "python",
   "nbconvert_exporter": "python",
   "pygments_lexer": "ipython3",
   "version": "3.10.4"
  },
  "toc": {
   "base_numbering": 1,
   "nav_menu": {},
   "number_sections": true,
   "sideBar": true,
   "skip_h1_title": false,
   "title_cell": "Table of Contents",
   "title_sidebar": "Contents",
   "toc_cell": false,
   "toc_position": {},
   "toc_section_display": true,
   "toc_window_display": false
  }
 },
 "nbformat": 4,
 "nbformat_minor": 5
}
