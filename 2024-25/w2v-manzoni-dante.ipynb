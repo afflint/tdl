{
 "cells": [
  {
   "cell_type": "code",
   "execution_count": null,
   "metadata": {},
   "outputs": [],
   "source": [
    "from nlp.markovlm import MarkovLM\n",
    "from nltk.tokenize import word_tokenize\n",
    "import nltk"
   ]
  },
  {
   "cell_type": "code",
   "execution_count": null,
   "metadata": {},
   "outputs": [],
   "source": [
    "ps_file = \"./data/fermo-e-lucia.txt\"\n",
    "dc_file = \"./data/divina-commedia.txt\"\n",
    "ps_corpus = MarkovLM.read_txt(ps_file)\n",
    "dc_corpus = MarkovLM.read_txt(dc_file)"
   ]
  },
  {
   "cell_type": "code",
   "execution_count": null,
   "metadata": {},
   "outputs": [],
   "source": [
    "is_noun = lambda pos: pos[:2] == 'NN'\n",
    "ps_tokens = []\n",
    "for sentence in ps_corpus:\n",
    "    tokens = word_tokenize(sentence.lower(), language='italian')\n",
    "    # nouns = [word for (word, pos) in nltk.pos_tag(tokens) if is_noun(pos)]\n",
    "    ps_tokens.append(tokens)\n",
    "dc_tokens = []\n",
    "for sentence in dc_corpus:\n",
    "    tokens = word_tokenize(sentence.lower(), language='italian')\n",
    "    # nouns = [word for (word, pos) in nltk.pos_tag(tokens) if is_noun(pos)]\n",
    "    dc_tokens.append(tokens)"
   ]
  },
  {
   "cell_type": "code",
   "execution_count": null,
   "metadata": {},
   "outputs": [],
   "source": [
    "from gensim.models import Word2Vec"
   ]
  },
  {
   "cell_type": "code",
   "execution_count": null,
   "metadata": {},
   "outputs": [],
   "source": [
    "ps_model = Word2Vec(sentences=ps_tokens, vector_size=50, window=6, min_count=10, workers=4, epochs=100)"
   ]
  },
  {
   "cell_type": "code",
   "execution_count": null,
   "metadata": {},
   "outputs": [],
   "source": [
    "dc_model = Word2Vec(sentences=dc_tokens, vector_size=50, window=6, min_count=10, workers=4, epochs=100)"
   ]
  },
  {
   "cell_type": "code",
   "execution_count": null,
   "metadata": {},
   "outputs": [],
   "source": [
    "ps_model.wv.most_similar('pace')"
   ]
  },
  {
   "cell_type": "code",
   "execution_count": null,
   "metadata": {},
   "outputs": [],
   "source": [
    "dc_model.wv.most_similar('pace')"
   ]
  },
  {
   "cell_type": "code",
   "execution_count": null,
   "metadata": {},
   "outputs": [],
   "source": []
  }
 ],
 "metadata": {
  "kernelspec": {
   "display_name": "gensim",
   "language": "python",
   "name": "python3"
  },
  "language_info": {
   "codemirror_mode": {
    "name": "ipython",
    "version": 3
   },
   "file_extension": ".py",
   "mimetype": "text/x-python",
   "name": "python",
   "nbconvert_exporter": "python",
   "pygments_lexer": "ipython3",
   "version": "3.10.4"
  }
 },
 "nbformat": 4,
 "nbformat_minor": 2
}
