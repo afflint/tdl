{
 "cells": [
  {
   "cell_type": "code",
   "execution_count": 2,
   "metadata": {},
   "outputs": [
    {
     "name": "stderr",
     "output_type": "stream",
     "text": [
      "None of PyTorch, TensorFlow >= 2.0, or Flax have been found. Models won't be available and only tokenizers, configuration and file/data utilities can be used.\n"
     ]
    }
   ],
   "source": [
    "from nlp.markovlm import MarkovLM\n",
    "from nltk.tokenize import word_tokenize\n",
    "import nltk"
   ]
  },
  {
   "cell_type": "code",
   "execution_count": 3,
   "metadata": {},
   "outputs": [],
   "source": [
    "ps_file = \"./data/fermo-e-lucia.txt\"\n",
    "dc_file = \"./data/divina-commedia.txt\"\n",
    "ps_corpus = MarkovLM.read_txt(ps_file)\n",
    "dc_corpus = MarkovLM.read_txt(dc_file)"
   ]
  },
  {
   "cell_type": "code",
   "execution_count": 4,
   "metadata": {},
   "outputs": [],
   "source": [
    "is_noun = lambda pos: pos[:2] == 'NN'\n",
    "ps_tokens = []\n",
    "for sentence in ps_corpus:\n",
    "    tokens = word_tokenize(sentence.lower(), language='italian')\n",
    "    # nouns = [word for (word, pos) in nltk.pos_tag(tokens) if is_noun(pos)]\n",
    "    ps_tokens.append(tokens)\n",
    "dc_tokens = []\n",
    "for sentence in dc_corpus:\n",
    "    tokens = word_tokenize(sentence.lower(), language='italian')\n",
    "    # nouns = [word for (word, pos) in nltk.pos_tag(tokens) if is_noun(pos)]\n",
    "    dc_tokens.append(tokens)"
   ]
  },
  {
   "cell_type": "code",
   "execution_count": 5,
   "metadata": {},
   "outputs": [],
   "source": [
    "from gensim.models import Word2Vec"
   ]
  },
  {
   "cell_type": "code",
   "execution_count": 6,
   "metadata": {},
   "outputs": [],
   "source": [
    "ps_model = Word2Vec(sentences=ps_tokens, vector_size=50, window=6, min_count=10, workers=4, epochs=100)"
   ]
  },
  {
   "cell_type": "code",
   "execution_count": 7,
   "metadata": {},
   "outputs": [],
   "source": [
    "dc_model = Word2Vec(sentences=dc_tokens, vector_size=50, window=6, min_count=10, workers=4, epochs=100)"
   ]
  },
  {
   "cell_type": "code",
   "execution_count": 8,
   "metadata": {},
   "outputs": [],
   "source": [
    "common = Word2Vec(sentences=dc_tokens + ps_corpus, vector_size=50, window=6, min_count=10, workers=4, epochs=100)"
   ]
  },
  {
   "cell_type": "code",
   "execution_count": 9,
   "metadata": {},
   "outputs": [
    {
     "data": {
      "text/plain": [
       "[('rabbia', 0.5677785873413086),\n",
       " ('pietà', 0.5344178080558777),\n",
       " ('collera', 0.5242571234703064),\n",
       " ('letteratura', 0.4911212623119354),\n",
       " ('pensieri', 0.4728359878063202),\n",
       " ('fantasia', 0.47205013036727905),\n",
       " ('carità', 0.4675294756889343),\n",
       " ('incertezza', 0.46689632534980774),\n",
       " ('giornata', 0.4589196741580963),\n",
       " ('disperazione', 0.4565226137638092)]"
      ]
     },
     "execution_count": 9,
     "metadata": {},
     "output_type": "execute_result"
    }
   ],
   "source": [
    "ps_model.wv.most_similar('pace')"
   ]
  },
  {
   "cell_type": "code",
   "execution_count": 10,
   "metadata": {},
   "outputs": [
    {
     "data": {
      "text/plain": [
       "[('gloria', 0.49845218658447266),\n",
       " ('terra', 0.48827528953552246),\n",
       " ('scala', 0.4796546697616577),\n",
       " ('guida', 0.4707351326942444),\n",
       " ('memoria', 0.43190833926200867),\n",
       " ('bocca', 0.431357204914093),\n",
       " ('nacque', 0.43068039417266846),\n",
       " ('soglia', 0.4218491017818451),\n",
       " ('gente', 0.4026155471801758),\n",
       " ('legge', 0.4023703336715698)]"
      ]
     },
     "execution_count": 10,
     "metadata": {},
     "output_type": "execute_result"
    }
   ],
   "source": [
    "dc_model.wv.most_similar('pace')"
   ]
  },
  {
   "cell_type": "code",
   "execution_count": null,
   "metadata": {},
   "outputs": [],
   "source": []
  }
 ],
 "metadata": {
  "kernelspec": {
   "display_name": "gensim",
   "language": "python",
   "name": "python3"
  },
  "language_info": {
   "codemirror_mode": {
    "name": "ipython",
    "version": 3
   },
   "file_extension": ".py",
   "mimetype": "text/x-python",
   "name": "python",
   "nbconvert_exporter": "python",
   "pygments_lexer": "ipython3",
   "version": "3.10.4"
  }
 },
 "nbformat": 4,
 "nbformat_minor": 2
}
