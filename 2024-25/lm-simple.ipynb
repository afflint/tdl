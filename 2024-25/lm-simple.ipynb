{
 "cells": [
  {
   "cell_type": "code",
   "execution_count": null,
   "metadata": {},
   "outputs": [],
   "source": [
    "from collections import defaultdict\n",
    "from nltk.tokenize import word_tokenize\n",
    "import pandas as pd\n",
    "import numpy as np"
   ]
  },
  {
   "cell_type": "code",
   "execution_count": null,
   "metadata": {},
   "outputs": [],
   "source": [
    "sentences = [\n",
    "    \"Il sole splende forte, il sole splende caldo.\",\n",
    "    \"La pioggia cade leggera, la pioggia bagna le strade.\",\n",
    "    \"Il cane corre veloce, il cane salta alto.\",\n",
    "    \"La macchina è veloce sulla strada mentre la pioggia cade fredda.\",\n",
    "    \"Il sole splende e il gatto si sveglia presto.\",\n",
    "    \"La pioggia cade leggera, la pioggia cade tutto il giorno.\",\n",
    "    \"Il sole è alto e il mare è calmo.\",\n",
    "    \"Il libro è interessante, il libro racconta una storia lunga.\",\n",
    "    \"Il libro è bello e il bambino ride felice.\",\n",
    "    \"La scuola è chiusa oggi, la scuola riapre domani.\"\n",
    "]"
   ]
  },
  {
   "cell_type": "code",
   "execution_count": null,
   "metadata": {},
   "outputs": [],
   "source": [
    "V = defaultdict(lambda: 0)\n",
    "B = defaultdict(lambda: defaultdict(lambda: 0))\n",
    "for sentence in sentences:\n",
    "    tokens = word_tokenize(sentence.lower(), language='italian')\n",
    "    for i, token in enumerate(tokens):\n",
    "        V[token] += 1\n",
    "        if i == 0:\n",
    "            B['[start]'][token] += 1\n",
    "        else:\n",
    "            B[tokens[i-1]][token] += 1"
   ]
  },
  {
   "cell_type": "code",
   "execution_count": null,
   "metadata": {},
   "outputs": [],
   "source": [
    "vocabulary = pd.Series(V)\n",
    "bigrams = pd.DataFrame(B).fillna(0)"
   ]
  },
  {
   "cell_type": "code",
   "execution_count": null,
   "metadata": {},
   "outputs": [],
   "source": [
    "vocabulary = vocabulary / vocabulary.sum()\n",
    "words = list(vocabulary.keys())\n",
    "probs = list([float(x) for x in vocabulary.values])\n",
    "print(words)\n",
    "print(probs)"
   ]
  },
  {
   "cell_type": "code",
   "execution_count": null,
   "metadata": {},
   "outputs": [],
   "source": [
    "def extract():\n",
    "    return str(np.random.choice(words, p=probs))"
   ]
  },
  {
   "cell_type": "code",
   "execution_count": null,
   "metadata": {},
   "outputs": [],
   "source": [
    "def generate(max_len = 100):\n",
    "    text = []\n",
    "    for n in range(max_len):\n",
    "        word = extract()\n",
    "        text.append(word)\n",
    "        if word == '.':\n",
    "            break\n",
    "    return text "
   ]
  },
  {
   "cell_type": "code",
   "execution_count": null,
   "metadata": {},
   "outputs": [],
   "source": [
    "t1 = generate()\n",
    "t2 = generate()"
   ]
  },
  {
   "cell_type": "code",
   "execution_count": null,
   "metadata": {},
   "outputs": [],
   "source": [
    "print(\" \".join(t1))"
   ]
  },
  {
   "cell_type": "code",
   "execution_count": null,
   "metadata": {},
   "outputs": [],
   "source": [
    "bigrams.T"
   ]
  },
  {
   "cell_type": "code",
   "execution_count": null,
   "metadata": {},
   "outputs": [],
   "source": [
    "def get_sub(prefix):\n",
    "    localv = bigrams[prefix]\n",
    "    words = list(localv.keys())\n",
    "    probs = list((bigrams[prefix] / bigrams[prefix].sum()).values)\n",
    "    return str(np.random.choice(words, p=probs))"
   ]
  },
  {
   "cell_type": "code",
   "execution_count": null,
   "metadata": {},
   "outputs": [],
   "source": [
    "get_sub('il')"
   ]
  },
  {
   "cell_type": "code",
   "execution_count": null,
   "metadata": {},
   "outputs": [],
   "source": [
    "text = []\n",
    "start = 'il'\n",
    "text.append(start)\n",
    "for i in range(100):\n",
    "    word = get_sub(start)\n",
    "    text.append(word)\n",
    "    start = word"
   ]
  },
  {
   "cell_type": "code",
   "execution_count": null,
   "metadata": {},
   "outputs": [],
   "source": [
    "text "
   ]
  },
  {
   "cell_type": "code",
   "execution_count": null,
   "metadata": {},
   "outputs": [],
   "source": []
  }
 ],
 "metadata": {
  "kernelspec": {
   "display_name": "nlp",
   "language": "python",
   "name": "python3"
  },
  "language_info": {
   "codemirror_mode": {
    "name": "ipython",
    "version": 3
   },
   "file_extension": ".py",
   "mimetype": "text/x-python",
   "name": "python",
   "nbconvert_exporter": "python",
   "pygments_lexer": "ipython3",
   "version": "3.10.4"
  }
 },
 "nbformat": 4,
 "nbformat_minor": 2
}
